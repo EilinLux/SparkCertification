{
 "cells": [
  {
   "cell_type": "markdown",
   "id": "7c1c7c9b",
   "metadata": {},
   "source": [
    "### Initiate Spark \n",
    "\n",
    "control a Spark Application through a driver process called SparkSession\n",
    "\n",
    "1) on console: ```spark```\n",
    "\n",
    "2) on jupyternotebook: ```jupyter notebook``` then in a cell run\n"
   ]
  },
  {
   "cell_type": "code",
   "execution_count": 1,
   "id": "b82b40b8",
   "metadata": {},
   "outputs": [],
   "source": [
    "from pyspark.sql import SparkSession\n",
    "\n",
    "spark = SparkSession \\\n",
    "    .builder \\\n",
    "    .appName(\"Python Spark SQL basic example\") \\\n",
    "    .config(\"spark.some.config.option\", \"some-value\") \\\n",
    "    .getOrCreate()"
   ]
  },
  {
   "cell_type": "markdown",
   "id": "c58abcc2",
   "metadata": {},
   "source": [
    "### Spark UI \n",
    "\n",
    "```http://localhost:4040/jobs/```"
   ]
  },
  {
   "cell_type": "markdown",
   "id": "70217c41",
   "metadata": {},
   "source": [
    "#todo to 5 "
   ]
  },
  {
   "cell_type": "code",
   "execution_count": null,
   "id": "55c95405",
   "metadata": {},
   "outputs": [],
   "source": []
  }
 ],
 "metadata": {
  "kernelspec": {
   "display_name": "Python 3",
   "language": "python",
   "name": "python3"
  },
  "language_info": {
   "codemirror_mode": {
    "name": "ipython",
    "version": 3
   },
   "file_extension": ".py",
   "mimetype": "text/x-python",
   "name": "python",
   "nbconvert_exporter": "python",
   "pygments_lexer": "ipython3",
   "version": "3.8.8"
  }
 },
 "nbformat": 4,
 "nbformat_minor": 5
}
