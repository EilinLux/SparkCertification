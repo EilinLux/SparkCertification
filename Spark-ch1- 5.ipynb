{
 "cells": [
  {
   "cell_type": "markdown",
   "id": "c820b60e",
   "metadata": {},
   "source": [
    "###  DOCUMENTATION:  \n",
    "    https://spark.apache.org/docs/latest/api/python/reference/pyspark.sql.html"
   ]
  },
  {
   "cell_type": "markdown",
   "id": "7c1c7c9b",
   "metadata": {},
   "source": [
    "### Initiate Spark \n",
    "\n",
    "control a Spark Application through a driver process called SparkSession\n",
    "\n",
    "1) on console: ```spark```\n",
    "\n",
    "2) on jupyternotebook: ```jupyter notebook``` then in a cell run\n"
   ]
  },
  {
   "cell_type": "code",
   "execution_count": 3,
   "id": "b82b40b8",
   "metadata": {},
   "outputs": [],
   "source": [
    "from pyspark.sql import SparkSession\n",
    "\n",
    "spark = SparkSession \\\n",
    "    .builder \\\n",
    "    .appName(\"Python Spark SQL basic example\") \\\n",
    "    .config(\"spark.some.config.option\", \"some-value\") \\\n",
    "    .getOrCreate()"
   ]
  },
  {
   "cell_type": "markdown",
   "id": "c58abcc2",
   "metadata": {},
   "source": [
    "### Spark UI \n",
    "\n",
    "```http://localhost:4040/jobs/```\n",
    "\n",
    "\n",
    "some documentation: https://spark.apache.org/docs/latest/web-ui.html\n"
   ]
  },
  {
   "cell_type": "markdown",
   "id": "f546b4d0",
   "metadata": {},
   "source": [
    "#todo to 5 "
   ]
  },
  {
   "cell_type": "markdown",
   "id": "4fb8eba3",
   "metadata": {},
   "source": [
    "## Ch5: Basic Structured Operations\n",
    "\n",
    "### Dataframes Schemas\n",
    "\n",
    "1) schema-on-read (autodetect)\n",
    "\n",
    "2) defined explicitly"
   ]
  },
  {
   "cell_type": "code",
   "execution_count": 2,
   "id": "56d5e2ad",
   "metadata": {},
   "outputs": [
    {
     "data": {
      "text/plain": [
       "StructType(List(StructField(DEST_COUNTRY_NAME,StringType,true),StructField(ORIGIN_COUNTRY_NAME,StringType,true),StructField(count,LongType,true)))"
      ]
     },
     "execution_count": 2,
     "metadata": {},
     "output_type": "execute_result"
    }
   ],
   "source": [
    "# to load and check the schema  without schema(myManulaSchema)\n",
    "spark.read.format('json').load('./data/flight-data/json/2015-summary.json').schema"
   ]
  },
  {
   "cell_type": "code",
   "execution_count": 4,
   "id": "9e887f37",
   "metadata": {},
   "outputs": [
    {
     "data": {
      "text/plain": [
       "StructType(List(StructField(DEST_COUNTRY_NAME,StringType,true),StructField(ORIGIN_COUNTRY_NAME,StringType,true),StructField(count,LongType,true)))"
      ]
     },
     "execution_count": 4,
     "metadata": {},
     "output_type": "execute_result"
    }
   ],
   "source": [
    "from pyspark.sql.types import StructField, StructType, StringType, LongType\n",
    "\n",
    "myManualSchema = StructType([\n",
    "  StructField(\"DEST_COUNTRY_NAME\", StringType(), True),\n",
    "  StructField(\"ORIGIN_COUNTRY_NAME\", StringType(), True),\n",
    "  StructField(\"count\", LongType(), False, metadata={\"hello\":\"world\"})\n",
    "])\n",
    "flights_df = spark.read.format(\"json\").schema(myManualSchema)\\\n",
    "  .load(\"./data/flight-data/json/2015-summary.json\")\n",
    "\n",
    "flights_df .schema"
   ]
  },
  {
   "cell_type": "markdown",
   "id": "925c991f",
   "metadata": {},
   "source": [
    "A schema is a ```StructType``` build by ```StructField``` made of:\n",
    "\n",
    "    1) nameColumn\n",
    "    \n",
    "    2) typeColumn\n",
    "    \n",
    "    3) Nullable\n",
    "    \n",
    "    4) metadata (optional)"
   ]
  },
  {
   "cell_type": "markdown",
   "id": "2f61162e",
   "metadata": {},
   "source": [
    "To check the schema "
   ]
  },
  {
   "cell_type": "code",
   "execution_count": 5,
   "id": "0a3c2eca",
   "metadata": {},
   "outputs": [
    {
     "name": "stdout",
     "output_type": "stream",
     "text": [
      "root\n",
      " |-- DEST_COUNTRY_NAME: string (nullable = true)\n",
      " |-- ORIGIN_COUNTRY_NAME: string (nullable = true)\n",
      " |-- count: long (nullable = true)\n",
      "\n"
     ]
    }
   ],
   "source": [
    "flights_df.printSchema()"
   ]
  },
  {
   "cell_type": "markdown",
   "id": "912bbec0",
   "metadata": {},
   "source": [
    "### Columns"
   ]
  },
  {
   "cell_type": "markdown",
   "id": "3797fcab",
   "metadata": {},
   "source": [
    "The book combines the Scala and PySpark API's.\n",
    "\n",
    "In Scala / Java API, ```df.col(\"column_name\")```,```df.col('column_name)```,```df(\"column_name\")``` or  ```df.apply(\"column_name\")``` return the Column.\n",
    "\n",
    "Whereas in pyspark use the below to get the column from DF.\n",
    "\n",
    "```df.colName```\n",
    "```df[\"colName\"]```\n",
    "\n",
    "<b>HOWEVER </b>, if using  ```select``` it is also possible to use ```col(\"column_name\")```"
   ]
  },
  {
   "cell_type": "code",
   "execution_count": 6,
   "id": "64a75543",
   "metadata": {},
   "outputs": [
    {
     "data": {
      "text/plain": [
       "Column<'DEST_COUNTRY_NAME'>"
      ]
     },
     "execution_count": 6,
     "metadata": {},
     "output_type": "execute_result"
    }
   ],
   "source": [
    "from pyspark.sql.functions import col, column\n",
    "\n",
    "# df(\"someColumnName\")\n",
    "flights_df[\"DEST_COUNTRY_NAME\"]\n",
    "flights_df.DEST_COUNTRY_NAME\n"
   ]
  },
  {
   "cell_type": "code",
   "execution_count": 7,
   "id": "939b2ae8",
   "metadata": {},
   "outputs": [
    {
     "data": {
      "text/plain": [
       "['DEST_COUNTRY_NAME', 'ORIGIN_COUNTRY_NAME', 'count']"
      ]
     },
     "execution_count": 7,
     "metadata": {},
     "output_type": "execute_result"
    }
   ],
   "source": [
    "flights_df.columns #column property to access columns "
   ]
  },
  {
   "cell_type": "code",
   "execution_count": null,
   "id": "145e9c92",
   "metadata": {},
   "outputs": [],
   "source": []
  },
  {
   "cell_type": "markdown",
   "id": "697042f5",
   "metadata": {},
   "source": [
    "## Expressions "
   ]
  },
  {
   "cell_type": "markdown",
   "id": "77ed6afe",
   "metadata": {},
   "source": [
    "an expression parses transformations and column references from a string "
   ]
  },
  {
   "cell_type": "code",
   "execution_count": 8,
   "id": "a57fb6db",
   "metadata": {
    "scrolled": true
   },
   "outputs": [
    {
     "data": {
      "text/plain": [
       "[Row(((((number + 5) * 200) - 6) < 5)=False),\n",
       " Row(((((number + 5) * 200) - 6) < 5)=False),\n",
       " Row(((((number + 5) * 200) - 6) < 5)=False)]"
      ]
     },
     "execution_count": 8,
     "metadata": {},
     "output_type": "execute_result"
    }
   ],
   "source": [
    "from pyspark.sql.functions import expr\n",
    "\n",
    "df = spark.range(500).toDF(\"number\")\n",
    "df.select(df[\"number\"] + 10).take(3)\n",
    " \n",
    "df.select(expr(\"(((number + 5) * 200) - 6) < 5\")).take(3)"
   ]
  },
  {
   "cell_type": "markdown",
   "id": "397b4794",
   "metadata": {},
   "source": [
    "### Rows\n",
    "Each row is a single record, represented as an object of type ```Row```. To manipulate an object of type ```Row``` use a column expression (previous paragraph). Internally represent arrays of bytes."
   ]
  },
  {
   "cell_type": "code",
   "execution_count": 9,
   "id": "8b8d446b",
   "metadata": {},
   "outputs": [
    {
     "data": {
      "text/plain": [
       "Row(number=0)"
      ]
     },
     "execution_count": 9,
     "metadata": {},
     "output_type": "execute_result"
    }
   ],
   "source": [
    "df.first() # an example to check a type Row is printing"
   ]
  },
  {
   "cell_type": "markdown",
   "id": "35dc9043",
   "metadata": {},
   "source": [
    "#### Create Rows\n",
    "1) manually instanciatin an object ```Row``` (values in the same order and type as the schema of the df to which you have to append them\n"
   ]
  },
  {
   "cell_type": "code",
   "execution_count": 10,
   "id": "f98f8c59",
   "metadata": {},
   "outputs": [],
   "source": [
    "from pyspark.sql import Row\n",
    "myRow = Row(\"Hello\", None, 1, False)"
   ]
  },
  {
   "cell_type": "code",
   "execution_count": 11,
   "id": "8211a591",
   "metadata": {},
   "outputs": [
    {
     "data": {
      "text/plain": [
       "'Hello'"
      ]
     },
     "execution_count": 11,
     "metadata": {},
     "output_type": "execute_result"
    }
   ],
   "source": [
    "myRow[0] # to access the value"
   ]
  },
  {
   "cell_type": "markdown",
   "id": "49606a8c",
   "metadata": {},
   "source": [
    "### DataFrame"
   ]
  },
  {
   "cell_type": "markdown",
   "id": "76f9c090",
   "metadata": {},
   "source": [
    "#### Creating df\n",
    "1) from a file / raw data sources ```spark.read.format('format').source('path/to/data')```\n",
    "2) from a set of rows "
   ]
  },
  {
   "cell_type": "code",
   "execution_count": 12,
   "id": "e00ffc86",
   "metadata": {},
   "outputs": [
    {
     "name": "stdout",
     "output_type": "stream",
     "text": [
      "+-------+----+------+\n",
      "|Welcome|None|number|\n",
      "+-------+----+------+\n",
      "|  Hello|null|     1|\n",
      "+-------+----+------+\n",
      "\n"
     ]
    }
   ],
   "source": [
    "from pyspark import Row\n",
    "from pyspark.sql.types import StructField, StructType, StringType, LongType\n",
    "\n",
    "myManualSchema = StructType([\n",
    "  StructField(\"Welcome\", StringType(), True),\n",
    "  StructField(\"None\", StringType(), True),\n",
    "  StructField(\"number\", LongType(), False, metadata={\"hello\":\"world\"})\n",
    "])\n",
    "\n",
    "myRow = Row(\"Hello\", None, 1)\n",
    "myDf = spark.createDataFrame([myRow], myManualSchema)\n",
    "myDf.show()"
   ]
  },
  {
   "cell_type": "markdown",
   "id": "2dcbc7c4",
   "metadata": {},
   "source": [
    "#### Transforming a Df\n",
    "To transform a Df we can only manipulate columns (rows singularly are not accessible) and we can use \n",
    "1) ```select``` method\n",
    "\n",
    "2) ```selectExpr``` method\n",
    "\n",
    "3) ```import pyspark.sql.functions``` package\n",
    "\n",
    "#### Transforming using SELECT"
   ]
  },
  {
   "cell_type": "code",
   "execution_count": 13,
   "id": "aadd23de",
   "metadata": {},
   "outputs": [
    {
     "name": "stdout",
     "output_type": "stream",
     "text": [
      "+-----------------+\n",
      "|DEST_COUNTRY_NAME|\n",
      "+-----------------+\n",
      "|    United States|\n",
      "|    United States|\n",
      "+-----------------+\n",
      "only showing top 2 rows\n",
      "\n"
     ]
    }
   ],
   "source": [
    "flights_df.select(\"DEST_COUNTRY_NAME\").show(2) # singular selection"
   ]
  },
  {
   "cell_type": "code",
   "execution_count": 14,
   "id": "79108fb2",
   "metadata": {},
   "outputs": [
    {
     "name": "stdout",
     "output_type": "stream",
     "text": [
      "+-----------------+-------------------+\n",
      "|DEST_COUNTRY_NAME|ORIGIN_COUNTRY_NAME|\n",
      "+-----------------+-------------------+\n",
      "|    United States|            Romania|\n",
      "|    United States|            Croatia|\n",
      "+-----------------+-------------------+\n",
      "only showing top 2 rows\n",
      "\n"
     ]
    }
   ],
   "source": [
    "flights_df.select(\"DEST_COUNTRY_NAME\", \"ORIGIN_COUNTRY_NAME\").show(2) #multiple selection\n"
   ]
  },
  {
   "cell_type": "code",
   "execution_count": 15,
   "id": "04b961b1",
   "metadata": {
    "scrolled": true
   },
   "outputs": [
    {
     "name": "stdout",
     "output_type": "stream",
     "text": [
      "+-----------------+-------------------+\n",
      "|DEST_COUNTRY_NAME|ORIGIN_COUNTRY_NAME|\n",
      "+-----------------+-------------------+\n",
      "|    United States|            Romania|\n",
      "|    United States|            Croatia|\n",
      "|    United States|            Ireland|\n",
      "|            Egypt|      United States|\n",
      "|    United States|              India|\n",
      "+-----------------+-------------------+\n",
      "only showing top 5 rows\n",
      "\n"
     ]
    }
   ],
   "source": [
    "from pyspark.sql.functions import expr, column, col \n",
    "flights_df.select(expr(\"DEST_COUNTRY_NAME\"),\n",
    "                 col(\"ORIGIN_COUNTRY_NAME\"),\n",
    "#                  column(\"count\")               # column is not working \n",
    "                 ).show(5)"
   ]
  },
  {
   "cell_type": "markdown",
   "id": "650c38d4",
   "metadata": {},
   "source": [
    "<b> NOT TRUE common mistake </b>: use a mix of column Objects and strings, does not give an error"
   ]
  },
  {
   "cell_type": "code",
   "execution_count": 16,
   "id": "8612937c",
   "metadata": {
    "scrolled": true
   },
   "outputs": [
    {
     "name": "stdout",
     "output_type": "stream",
     "text": [
      "+-------------------+-----------------+\n",
      "|ORIGIN_COUNTRY_NAME|DEST_COUNTRY_NAME|\n",
      "+-------------------+-----------------+\n",
      "|            Romania|    United States|\n",
      "|            Croatia|    United States|\n",
      "|            Ireland|    United States|\n",
      "|      United States|            Egypt|\n",
      "|              India|    United States|\n",
      "+-------------------+-----------------+\n",
      "only showing top 5 rows\n",
      "\n"
     ]
    }
   ],
   "source": [
    "from pyspark.sql.functions import expr, column, col \n",
    "flights_df.select(\n",
    "                 col(\"ORIGIN_COUNTRY_NAME\"),\"DEST_COUNTRY_NAME\"\n",
    "                 ).show(5)"
   ]
  },
  {
   "cell_type": "markdown",
   "id": "d5c32b7f",
   "metadata": {},
   "source": [
    "#### Rename columns "
   ]
  },
  {
   "cell_type": "code",
   "execution_count": 17,
   "id": "57d41862",
   "metadata": {},
   "outputs": [
    {
     "name": "stdout",
     "output_type": "stream",
     "text": [
      "+-------+\n",
      "| origin|\n",
      "+-------+\n",
      "|Romania|\n",
      "|Croatia|\n",
      "+-------+\n",
      "only showing top 2 rows\n",
      "\n",
      "+-------+\n",
      "|origin2|\n",
      "+-------+\n",
      "|Romania|\n",
      "|Croatia|\n",
      "+-------+\n",
      "only showing top 2 rows\n",
      "\n"
     ]
    }
   ],
   "source": [
    "flights_df.select(expr(\"ORIGIN_COUNTRY_NAME AS origin\")).show(2)\n",
    "flights_df.select(expr(\"ORIGIN_COUNTRY_NAME\").alias(\"origin2\")).show(2) #### NB the alias is INSIDE select"
   ]
  },
  {
   "cell_type": "markdown",
   "id": "0087fad6",
   "metadata": {},
   "source": [
    "#### Transforming using .selectExpr()\n",
    "Because ```select``` and ```expr``` is a commone pattern --> short hand ```selectExpr```"
   ]
  },
  {
   "cell_type": "code",
   "execution_count": 18,
   "id": "37793bf5",
   "metadata": {},
   "outputs": [
    {
     "name": "stdout",
     "output_type": "stream",
     "text": [
      "+-------+\n",
      "| origin|\n",
      "+-------+\n",
      "|Romania|\n",
      "|Croatia|\n",
      "+-------+\n",
      "only showing top 2 rows\n",
      "\n"
     ]
    }
   ],
   "source": [
    "flights_df.selectExpr(\"ORIGIN_COUNTRY_NAME AS origin\").show(2)"
   ]
  },
  {
   "cell_type": "code",
   "execution_count": 19,
   "id": "6460724c",
   "metadata": {},
   "outputs": [
    {
     "name": "stdout",
     "output_type": "stream",
     "text": [
      "+-----------------+-------------------+-----+-------+-------------+\n",
      "|DEST_COUNTRY_NAME|ORIGIN_COUNTRY_NAME|count| origin|withInCountry|\n",
      "+-----------------+-------------------+-----+-------+-------------+\n",
      "|    United States|            Romania|   15|Romania|        false|\n",
      "|    United States|            Croatia|    1|Croatia|        false|\n",
      "+-----------------+-------------------+-----+-------+-------------+\n",
      "only showing top 2 rows\n",
      "\n"
     ]
    }
   ],
   "source": [
    "flights_df.selectExpr(\"*\",\"ORIGIN_COUNTRY_NAME AS origin\", \"ORIGIN_COUNTRY_NAME = DEST_COUNTRY_NAME as withInCountry\").show(2)"
   ]
  },
  {
   "cell_type": "markdown",
   "id": "998d0f4f",
   "metadata": {},
   "source": [
    "###  Literals\n",
    "```lit``` is used to pass explicit values into Spark that are just a value. Need to be imported "
   ]
  },
  {
   "cell_type": "code",
   "execution_count": 20,
   "id": "f86f3c78",
   "metadata": {},
   "outputs": [
    {
     "name": "stdout",
     "output_type": "stream",
     "text": [
      "+-----------------+-------------------+-----+----+\n",
      "|DEST_COUNTRY_NAME|ORIGIN_COUNTRY_NAME|count|true|\n",
      "+-----------------+-------------------+-----+----+\n",
      "|    United States|            Romania|   15|true|\n",
      "|    United States|            Croatia|    1|true|\n",
      "+-----------------+-------------------+-----+----+\n",
      "only showing top 2 rows\n",
      "\n",
      "+-----------------+-------------------+-----+-----------+\n",
      "|DEST_COUNTRY_NAME|ORIGIN_COUNTRY_NAME|count|True value?|\n",
      "+-----------------+-------------------+-----+-----------+\n",
      "|    United States|            Romania|   15|       true|\n",
      "|    United States|            Croatia|    1|       true|\n",
      "+-----------------+-------------------+-----+-----------+\n",
      "only showing top 2 rows\n",
      "\n"
     ]
    }
   ],
   "source": [
    "from pyspark.sql.functions import lit \n",
    "flights_df.select(expr(\"*\"), lit(True)).show(2) # lit is OUTSIDE expr()\n",
    "flights_df.select(expr(\"*\"), lit(True).alias(\"True value?\")).show(2) # lit is OUTSIDE expr()\n",
    "\n",
    "#NB a difference with SCALA is that .alias() in Python is like .as() in Scala"
   ]
  },
  {
   "cell_type": "markdown",
   "id": "9c36b8f9",
   "metadata": {},
   "source": [
    "### Adding Columns with ```withColumns('column_name', value)``` "
   ]
  },
  {
   "cell_type": "code",
   "execution_count": 21,
   "id": "3052d14e",
   "metadata": {},
   "outputs": [
    {
     "name": "stdout",
     "output_type": "stream",
     "text": [
      "+-----------------+-------------------+-----+---------+\n",
      "|DEST_COUNTRY_NAME|ORIGIN_COUNTRY_NAME|count|numberOne|\n",
      "+-----------------+-------------------+-----+---------+\n",
      "|    United States|            Romania|   15|        1|\n",
      "|    United States|            Croatia|    1|        1|\n",
      "+-----------------+-------------------+-----+---------+\n",
      "only showing top 2 rows\n",
      "\n"
     ]
    }
   ],
   "source": [
    "flights_df.withColumn('numberOne', lit(1)).show(2)"
   ]
  },
  {
   "cell_type": "code",
   "execution_count": 22,
   "id": "b39a8343",
   "metadata": {},
   "outputs": [
    {
     "name": "stdout",
     "output_type": "stream",
     "text": [
      "+-----------------+-------------------+-----+-------------+\n",
      "|DEST_COUNTRY_NAME|ORIGIN_COUNTRY_NAME|count|withInCountry|\n",
      "+-----------------+-------------------+-----+-------------+\n",
      "|    United States|            Romania|   15|        false|\n",
      "|    United States|            Croatia|    1|        false|\n",
      "+-----------------+-------------------+-----+-------------+\n",
      "only showing top 2 rows\n",
      "\n"
     ]
    }
   ],
   "source": [
    "# withColumn(column_name, expression)\n",
    "flights_df.withColumn('withInCountry', expr(\"DEST_COUNTRY_NAME=ORIGIN_COUNTRY_NAME\")).show(2)"
   ]
  },
  {
   "cell_type": "markdown",
   "id": "19dba717",
   "metadata": {},
   "source": [
    "### Rename a column ```withColumnRenamed('old_name', 'new_name')```"
   ]
  },
  {
   "cell_type": "code",
   "execution_count": 23,
   "id": "7601a0a6",
   "metadata": {},
   "outputs": [
    {
     "name": "stdout",
     "output_type": "stream",
     "text": [
      "+-------------+-------------------+-----+\n",
      "|  destination|ORIGIN_COUNTRY_NAME|count|\n",
      "+-------------+-------------------+-----+\n",
      "|United States|            Romania|   15|\n",
      "|United States|            Croatia|    1|\n",
      "+-------------+-------------------+-----+\n",
      "only showing top 2 rows\n",
      "\n"
     ]
    }
   ],
   "source": [
    "new_flights_df= flights_df.withColumnRenamed(\"DEST_COUNTRY_NAME\", 'destination')\n",
    "new_flights_df.show(2)"
   ]
  },
  {
   "cell_type": "markdown",
   "id": "4ee66eb4",
   "metadata": {},
   "source": [
    "### Remove columns\n"
   ]
  },
  {
   "cell_type": "code",
   "execution_count": 24,
   "id": "b57ba88d",
   "metadata": {},
   "outputs": [
    {
     "name": "stdout",
     "output_type": "stream",
     "text": [
      "+-------------------+-----+\n",
      "|ORIGIN_COUNTRY_NAME|count|\n",
      "+-------------------+-----+\n",
      "|            Romania|   15|\n",
      "|            Croatia|    1|\n",
      "+-------------------+-----+\n",
      "only showing top 2 rows\n",
      "\n"
     ]
    }
   ],
   "source": [
    "new_flights_df=new_flights_df.drop('destination')\n",
    "new_flights_df.show(2)"
   ]
  },
  {
   "cell_type": "markdown",
   "id": "35cce892",
   "metadata": {},
   "source": [
    "### Changing Column Type ```cast('type')```"
   ]
  },
  {
   "cell_type": "code",
   "execution_count": 25,
   "id": "af6e6ff1",
   "metadata": {},
   "outputs": [
    {
     "name": "stdout",
     "output_type": "stream",
     "text": [
      "+-------------------+-----+------------+\n",
      "|ORIGIN_COUNTRY_NAME|count|StringNumber|\n",
      "+-------------------+-----+------------+\n",
      "|            Romania|   15|          15|\n",
      "|            Croatia|    1|           1|\n",
      "+-------------------+-----+------------+\n",
      "only showing top 2 rows\n",
      "\n",
      "root\n",
      " |-- ORIGIN_COUNTRY_NAME: string (nullable = true)\n",
      " |-- count: long (nullable = true)\n",
      " |-- StringNumber: string (nullable = true)\n",
      "\n"
     ]
    }
   ],
   "source": [
    "new_flights_df.withColumn(\"StringNumber\", col('count').cast('string')).show(2)\n",
    "new_flights_df.withColumn(\"StringNumber\", col('count').cast('string')).printSchema()"
   ]
  },
  {
   "cell_type": "markdown",
   "id": "a0d160e9",
   "metadata": {},
   "source": [
    "### Filtering ```where()``` or ```filter()```\n",
    "\n",
    "There are two methods to perform this operation: you can use where or filter\n",
    "and they both will perform the same operation and accept the same argument types when used\n",
    "with DataFrames."
   ]
  },
  {
   "cell_type": "code",
   "execution_count": 26,
   "id": "2f18e74c",
   "metadata": {},
   "outputs": [
    {
     "name": "stdout",
     "output_type": "stream",
     "text": [
      "+-------------------+-----+\n",
      "|ORIGIN_COUNTRY_NAME|count|\n",
      "+-------------------+-----+\n",
      "|            Croatia|    1|\n",
      "|          Singapore|    1|\n",
      "+-------------------+-----+\n",
      "only showing top 2 rows\n",
      "\n"
     ]
    }
   ],
   "source": [
    "new_flights_df.filter(col(\"count\") < 2 ).show(2)"
   ]
  },
  {
   "cell_type": "code",
   "execution_count": 27,
   "id": "3cab01ed",
   "metadata": {},
   "outputs": [
    {
     "name": "stdout",
     "output_type": "stream",
     "text": [
      "+-------------------+-----+\n",
      "|ORIGIN_COUNTRY_NAME|count|\n",
      "+-------------------+-----+\n",
      "|            Croatia|    1|\n",
      "|          Singapore|    1|\n",
      "+-------------------+-----+\n",
      "only showing top 2 rows\n",
      "\n",
      "+-------------------+-----+\n",
      "|ORIGIN_COUNTRY_NAME|count|\n",
      "+-------------------+-----+\n",
      "|            Croatia|    1|\n",
      "|          Singapore|    1|\n",
      "+-------------------+-----+\n",
      "only showing top 2 rows\n",
      "\n"
     ]
    }
   ],
   "source": [
    "new_flights_df.where(col(\"count\") < 2 ).show(2)\n",
    "new_flights_df.where(expr(\"count\")< 2 ).show(2)\n",
    "# new_flights_df.where(\"count\"< 2 ).show(2) # NOT working is comapring strign and number "
   ]
  },
  {
   "cell_type": "markdown",
   "id": "7447203a",
   "metadata": {},
   "source": [
    "<b> NOT use multiple filters into the same expression.</b> Although this is\n",
    "possible, it is not always useful, because Spark automatically performs all filtering operations at\n",
    "the same time regardless of the filter ordering. This means that if you want to specify multiple\n",
    "AND filters, <b> just chain them sequentially "
   ]
  },
  {
   "cell_type": "code",
   "execution_count": 36,
   "id": "d1182d38",
   "metadata": {},
   "outputs": [
    {
     "name": "stdout",
     "output_type": "stream",
     "text": [
      "+-------------------+-----+\n",
      "|ORIGIN_COUNTRY_NAME|count|\n",
      "+-------------------+-----+\n",
      "|            Romania|   15|\n",
      "+-------------------+-----+\n",
      "\n"
     ]
    }
   ],
   "source": [
    "new_flights_df.where(col(\"count\") >2).where(col(\"ORIGIN_COUNTRY_NAME\") == \"Romania\" ).show(7)\n"
   ]
  },
  {
   "cell_type": "markdown",
   "id": "de5462ad",
   "metadata": {},
   "source": [
    "### Getting Unique Rows: df.distinct()"
   ]
  },
  {
   "cell_type": "code",
   "execution_count": 39,
   "id": "bd31aef2",
   "metadata": {},
   "outputs": [
    {
     "data": {
      "text/plain": [
       "220"
      ]
     },
     "execution_count": 39,
     "metadata": {},
     "output_type": "execute_result"
    }
   ],
   "source": [
    "new_flights_df.distinct().count()"
   ]
  },
  {
   "cell_type": "code",
   "execution_count": 41,
   "id": "755ead4e",
   "metadata": {},
   "outputs": [
    {
     "name": "stdout",
     "output_type": "stream",
     "text": [
      "+-------------------+-----+\n",
      "|ORIGIN_COUNTRY_NAME|count|\n",
      "+-------------------+-----+\n",
      "|          Lithuania|    1|\n",
      "|          Singapore|    1|\n",
      "|          Gibraltar|    1|\n",
      "|           Bulgaria|    1|\n",
      "|            Namibia|    1|\n",
      "+-------------------+-----+\n",
      "only showing top 5 rows\n",
      "\n"
     ]
    }
   ],
   "source": [
    "new_flights_df.distinct().orderBy(\"count\").show(5)"
   ]
  },
  {
   "cell_type": "markdown",
   "id": "a772738f",
   "metadata": {},
   "source": [
    "### Filtering by Rows"
   ]
  },
  {
   "cell_type": "code",
   "execution_count": 88,
   "id": "2a208fe9",
   "metadata": {},
   "outputs": [
    {
     "data": {
      "text/plain": [
       "[Row(ORIGIN_COUNTRY_NAME='Romania', count=15),\n",
       " Row(ORIGIN_COUNTRY_NAME='Croatia', count=1),\n",
       " Row(ORIGIN_COUNTRY_NAME='Ireland', count=344),\n",
       " Row(ORIGIN_COUNTRY_NAME='United States', count=15),\n",
       " Row(ORIGIN_COUNTRY_NAME='India', count=62),\n",
       " Row(ORIGIN_COUNTRY_NAME='Singapore', count=1),\n",
       " Row(ORIGIN_COUNTRY_NAME='Grenada', count=62),\n",
       " Row(ORIGIN_COUNTRY_NAME='United States', count=588),\n",
       " Row(ORIGIN_COUNTRY_NAME='United States', count=40),\n",
       " Row(ORIGIN_COUNTRY_NAME='United States', count=1)]"
      ]
     },
     "execution_count": 88,
     "metadata": {},
     "output_type": "execute_result"
    }
   ],
   "source": [
    "new_flights_df.take(10)\n"
   ]
  },
  {
   "cell_type": "markdown",
   "id": "41092861",
   "metadata": {},
   "source": [
    ".take() results in an Array of Rows. This is an action and performs collecting the data (like collect does).\n",
    "\n"
   ]
  },
  {
   "cell_type": "code",
   "execution_count": 89,
   "id": "6bb38709",
   "metadata": {},
   "outputs": [
    {
     "data": {
      "text/plain": [
       "DataFrame[DEST_COUNTRY_NAME: string, ORIGIN_COUNTRY_NAME: string, count: bigint]"
      ]
     },
     "execution_count": 89,
     "metadata": {},
     "output_type": "execute_result"
    }
   ],
   "source": [
    "flights_df.limit(10)\n"
   ]
  },
  {
   "cell_type": "code",
   "execution_count": 90,
   "id": "bde17c45",
   "metadata": {},
   "outputs": [
    {
     "name": "stdout",
     "output_type": "stream",
     "text": [
      "+-----------------+-------------------+-----+\n",
      "|DEST_COUNTRY_NAME|ORIGIN_COUNTRY_NAME|count|\n",
      "+-----------------+-------------------+-----+\n",
      "|    United States|            Romania|   15|\n",
      "|    United States|            Croatia|    1|\n",
      "|    United States|            Ireland|  344|\n",
      "|            Egypt|      United States|   15|\n",
      "|    United States|              India|   62|\n",
      "|    United States|          Singapore|    1|\n",
      "|    United States|            Grenada|   62|\n",
      "|       Costa Rica|      United States|  588|\n",
      "|          Senegal|      United States|   40|\n",
      "|          Moldova|      United States|    1|\n",
      "+-----------------+-------------------+-----+\n",
      "\n"
     ]
    }
   ],
   "source": [
    "flights_df.limit(10).show()\n"
   ]
  },
  {
   "cell_type": "markdown",
   "id": "5d95ff78",
   "metadata": {},
   "source": [
    "limit() results in a new Dataframe. This is a transformation and does not perform collecting the data.\n"
   ]
  },
  {
   "cell_type": "markdown",
   "id": "b0f14431",
   "metadata": {},
   "source": [
    "### Random Sample: df.sample()\n",
    "sample some random records from your DataFrame. sample(withReplacement=None, fraction=None, seed=None)\n",
    "This is not guaranteed to provide exactly the fraction specified of the total count of the given DataFrame."
   ]
  },
  {
   "cell_type": "code",
   "execution_count": 51,
   "id": "8d7ab010",
   "metadata": {},
   "outputs": [
    {
     "data": {
      "text/plain": [
       "138"
      ]
     },
     "execution_count": 51,
     "metadata": {},
     "output_type": "execute_result"
    }
   ],
   "source": [
    "# in Python\n",
    "seed = 5   \n",
    "withReplacement = False #Sample with replacement or not (default False).\n",
    "fraction = 0.5  # hFraction of rows to generate, range [0.0, 1.0].\n",
    "new_flights_df.sample(withReplacement, fraction, seed).count()"
   ]
  },
  {
   "cell_type": "code",
   "execution_count": 52,
   "id": "79deb83f",
   "metadata": {},
   "outputs": [
    {
     "data": {
      "text/plain": [
       "256"
      ]
     },
     "execution_count": 52,
     "metadata": {},
     "output_type": "execute_result"
    }
   ],
   "source": [
    "new_flights_df.count()"
   ]
  },
  {
   "cell_type": "code",
   "execution_count": 54,
   "id": "3a2c0617",
   "metadata": {},
   "outputs": [
    {
     "data": {
      "text/plain": [
       "128.0"
      ]
     },
     "execution_count": 54,
     "metadata": {},
     "output_type": "execute_result"
    }
   ],
   "source": [
    "new_flights_df.count()*fraction"
   ]
  },
  {
   "cell_type": "markdown",
   "id": "7eec2d13",
   "metadata": {},
   "source": [
    "### Random Splits .randomSplit([0.25, 0.75], seed)\n",
    "Random splits can be helpful when you need to break up your DataFrame into a random “splits” of the original DataFrame. \n",
    "\n",
    "Parameters:\n",
    "\n",
    "weights: list --> list of doubles as weights with which to split the DataFrame. Weights will be normalized if they don’t sum up to 1.0.\n",
    "\n",
    "seed: int, optional  --> \n",
    "The seed for sampling."
   ]
  },
  {
   "cell_type": "code",
   "execution_count": 61,
   "id": "db0a8f48",
   "metadata": {},
   "outputs": [
    {
     "name": "stdout",
     "output_type": "stream",
     "text": [
      "+-------------------+-----+\n",
      "|ORIGIN_COUNTRY_NAME|count|\n",
      "+-------------------+-----+\n",
      "|             Angola|   13|\n",
      "|           Anguilla|   38|\n",
      "|          Australia|  258|\n",
      "+-------------------+-----+\n",
      "only showing top 3 rows\n",
      "\n"
     ]
    },
    {
     "data": {
      "text/plain": [
       "71"
      ]
     },
     "execution_count": 61,
     "metadata": {},
     "output_type": "execute_result"
    }
   ],
   "source": [
    "dataFrames = new_flights_df.randomSplit([0.25, 0.75], seed)\n",
    "dataFrames[0].show(3)\n",
    "dataFrames[0].count()"
   ]
  },
  {
   "cell_type": "code",
   "execution_count": 62,
   "id": "aaaeeb56",
   "metadata": {},
   "outputs": [
    {
     "name": "stdout",
     "output_type": "stream",
     "text": [
      "+-------------------+-----+\n",
      "|ORIGIN_COUNTRY_NAME|count|\n",
      "+-------------------+-----+\n",
      "|Antigua and Barbuda|  117|\n",
      "|          Argentina|  141|\n",
      "|              Aruba|  342|\n",
      "+-------------------+-----+\n",
      "only showing top 3 rows\n",
      "\n"
     ]
    },
    {
     "data": {
      "text/plain": [
       "185"
      ]
     },
     "execution_count": 62,
     "metadata": {},
     "output_type": "execute_result"
    }
   ],
   "source": [
    "dataFrames[1].show(3)\n",
    "dataFrames[1].count()"
   ]
  },
  {
   "cell_type": "markdown",
   "id": "ce727416",
   "metadata": {},
   "source": [
    "### Concatenating and Appending Rows (Union)"
   ]
  },
  {
   "cell_type": "code",
   "execution_count": 71,
   "id": "cad4140d",
   "metadata": {},
   "outputs": [
    {
     "name": "stdout",
     "output_type": "stream",
     "text": [
      "+-----------------+-------------------+-----+\n",
      "|DEST_COUNTRY_NAME|ORIGIN_COUNTRY_NAME|count|\n",
      "+-----------------+-------------------+-----+\n",
      "|      New Country|      Other Country|    5|\n",
      "|    New Country 2|    Other Country 3|    1|\n",
      "+-----------------+-------------------+-----+\n",
      "\n"
     ]
    }
   ],
   "source": [
    "# in Python\n",
    "from pyspark.sql import Row\n",
    "schema = flights_df.schema\n",
    "newRows = [\n",
    "Row(\"New Country\", \"Other Country\", 5), Row(\"New Country 2\", \"Other Country 3\", 1)\n",
    "]\n",
    "#Just drop the L; all integers in Python 3 are long. What was long in Python 2 is now the standard int type in Python 3.\n",
    "parallelizedRows = spark.sparkContext.parallelize(newRows)\n",
    "newDF = spark.createDataFrame(parallelizedRows, schema)\n",
    "newDF.show()"
   ]
  },
  {
   "cell_type": "code",
   "execution_count": 91,
   "id": "82b1b9b0",
   "metadata": {},
   "outputs": [
    {
     "name": "stdout",
     "output_type": "stream",
     "text": [
      "+-----------------+-------------------+-----+\n",
      "|DEST_COUNTRY_NAME|ORIGIN_COUNTRY_NAME|count|\n",
      "+-----------------+-------------------+-----+\n",
      "|    United States|            Romania|   15|\n",
      "|    United States|            Croatia|    1|\n",
      "|      New Country|      Other Country|    5|\n",
      "|    New Country 2|    Other Country 3|    1|\n",
      "+-----------------+-------------------+-----+\n",
      "\n"
     ]
    }
   ],
   "source": [
    "reduced = flights_df.limit(2)\n",
    "reduced.union(newDF).show()"
   ]
  },
  {
   "cell_type": "markdown",
   "id": "4cec0147",
   "metadata": {},
   "source": [
    "### Sorting Rows\n",
    "\n",
    "sort\n",
    "and orderBy that work the exact same way. They accept both column expressions and strings as\n",
    "well as multiple columns. The default is to sort in ascending order:"
   ]
  },
  {
   "cell_type": "code",
   "execution_count": 97,
   "id": "d51c984b",
   "metadata": {},
   "outputs": [
    {
     "name": "stdout",
     "output_type": "stream",
     "text": [
      "+--------------------+-------------------+------+\n",
      "|   DEST_COUNTRY_NAME|ORIGIN_COUNTRY_NAME| count|\n",
      "+--------------------+-------------------+------+\n",
      "|       United States|            Vietnam|     2|\n",
      "|       United States|          Venezuela|   246|\n",
      "|       United States|            Uruguay|    13|\n",
      "|              Zambia|      United States|     1|\n",
      "|           Venezuela|      United States|   290|\n",
      "|             Uruguay|      United States|    43|\n",
      "|       United States|      United States|370002|\n",
      "|      United Kingdom|      United States|  2025|\n",
      "|United Arab Emirates|      United States|   320|\n",
      "|             Ukraine|      United States|    14|\n",
      "|Turks and Caicos ...|      United States|   230|\n",
      "|              Turkey|      United States|   138|\n",
      "|             Tunisia|      United States|     3|\n",
      "| Trinidad and Tobago|      United States|   211|\n",
      "|         The Bahamas|      United States|   955|\n",
      "|            Thailand|      United States|     3|\n",
      "|              Taiwan|      United States|   266|\n",
      "|         Switzerland|      United States|   294|\n",
      "|              Sweden|      United States|   118|\n",
      "|            Suriname|      United States|     1|\n",
      "+--------------------+-------------------+------+\n",
      "only showing top 20 rows\n",
      "\n"
     ]
    }
   ],
   "source": [
    "flights_df.orderBy([\"ORIGIN_COUNTRY_NAME\",\"DEST_COUNTRY_NAME\"], ascending=False).show()"
   ]
  },
  {
   "cell_type": "code",
   "execution_count": 113,
   "id": "b17e5258",
   "metadata": {},
   "outputs": [
    {
     "name": "stdout",
     "output_type": "stream",
     "text": [
      "+-----------------+-------------------+-----+\n",
      "|DEST_COUNTRY_NAME|ORIGIN_COUNTRY_NAME|count|\n",
      "+-----------------+-------------------+-----+\n",
      "|    United States|            Vietnam|    2|\n",
      "|    United States|          Venezuela|  246|\n",
      "|    United States|            Uruguay|   13|\n",
      "+-----------------+-------------------+-----+\n",
      "only showing top 3 rows\n",
      "\n"
     ]
    }
   ],
   "source": [
    "flights_df.sort([\"ORIGIN_COUNTRY_NAME\",\"DEST_COUNTRY_NAME\"], ascending=False).show(3)"
   ]
  },
  {
   "cell_type": "markdown",
   "id": "d5333f1c",
   "metadata": {},
   "source": [
    "### asc_nulls_first, desc_nulls_first, asc_nulls_last, or desc_nulls_last \n",
    "\n",
    "to specify where you would like your null values to appear in an ordered\n",
    "DataFrame. Returns a sort expression based on ascending order of the column, and null values return before non-null values."
   ]
  },
  {
   "cell_type": "code",
   "execution_count": 119,
   "id": "b33a09af",
   "metadata": {},
   "outputs": [
    {
     "name": "stdout",
     "output_type": "stream",
     "text": [
      "+-----------------+-------------------+-----+\n",
      "|DEST_COUNTRY_NAME|ORIGIN_COUNTRY_NAME|count|\n",
      "+-----------------+-------------------+-----+\n",
      "|          Algeria|      United States|    4|\n",
      "|           Angola|      United States|   15|\n",
      "|         Anguilla|      United States|   41|\n",
      "+-----------------+-------------------+-----+\n",
      "only showing top 3 rows\n",
      "\n"
     ]
    }
   ],
   "source": [
    "# check the syntax df.orderBy(df.column.asc_nulls_last())\n",
    "\n",
    "flights_df.orderBy(flights_df.DEST_COUNTRY_NAME.asc_nulls_last()).show(3)\n",
    "\n"
   ]
  },
  {
   "cell_type": "markdown",
   "id": "7fa58f37",
   "metadata": {},
   "source": [
    "### sortWithinPartition vs orderBy vs sort \n",
    "\n",
    "The documentation of sortWithinPartition states it returns a new Dataset with each partition sorted by the given expressions\n",
    "\n",
    "The easiest way to think of this function is to imagine a fourth column (the partition id) that is used as primary sorting criterion. The function spark_partition_id() prints the partition.\n",
    "\n",
    "For example if you have just one large partition (something that you as a Spark user would never do!), sortWithinPartition works as a normal sort:\n",
    "\n"
   ]
  },
  {
   "cell_type": "code",
   "execution_count": 110,
   "id": "8bcf138a",
   "metadata": {},
   "outputs": [
    {
     "name": "stdout",
     "output_type": "stream",
     "text": [
      "+--------------------+-------------------+------+---------+\n",
      "|   DEST_COUNTRY_NAME|ORIGIN_COUNTRY_NAME| count|partition|\n",
      "+--------------------+-------------------+------+---------+\n",
      "|       United States|            Vietnam|     2|        0|\n",
      "|       United States|          Venezuela|   246|        0|\n",
      "|       United States|            Uruguay|    13|        0|\n",
      "|              Zambia|      United States|     1|        0|\n",
      "|           Venezuela|      United States|   290|        0|\n",
      "|             Uruguay|      United States|    43|        0|\n",
      "|       United States|      United States|370002|        0|\n",
      "|      United Kingdom|      United States|  2025|        0|\n",
      "|United Arab Emirates|      United States|   320|        0|\n",
      "|             Ukraine|      United States|    14|        0|\n",
      "|Turks and Caicos ...|      United States|   230|        0|\n",
      "|              Turkey|      United States|   138|        0|\n",
      "|             Tunisia|      United States|     3|        0|\n",
      "| Trinidad and Tobago|      United States|   211|        0|\n",
      "|         The Bahamas|      United States|   955|        0|\n",
      "|            Thailand|      United States|     3|        0|\n",
      "|              Taiwan|      United States|   266|        0|\n",
      "|         Switzerland|      United States|   294|        0|\n",
      "|              Sweden|      United States|   118|        0|\n",
      "|            Suriname|      United States|     1|        0|\n",
      "+--------------------+-------------------+------+---------+\n",
      "only showing top 20 rows\n",
      "\n"
     ]
    }
   ],
   "source": [
    "from pyspark.sql.functions import spark_partition_id\n",
    "# This is non deterministic because it depends on data partitioning and task scheduling.\n",
    "#https://spark.apache.org/docs/latest/api/python/reference/api/pyspark.sql.functions.spark_partition_id.html\n",
    "\n",
    "\n",
    "flights_df.repartition(1)\\\n",
    "        .sortWithinPartitions([\"ORIGIN_COUNTRY_NAME\",\"DEST_COUNTRY_NAME\"],\\\n",
    "                                               ascending=False)\\\n",
    "        .withColumn(\"partition\", spark_partition_id()).show()"
   ]
  },
  {
   "cell_type": "markdown",
   "id": "02d96609",
   "metadata": {},
   "source": [
    "\n",
    "If there are more partitions, the results are only sorted within each partition:\n",
    "\n",
    "\n",
    "Why would one use sortWithPartition instead of sort? \n",
    "\n",
    "<b> sortWithPartition does not trigger a shuffle </b>, as the data is only moved within the executors. sort however will trigger a shuffle. Therefore sortWithPartition executes faster. If the data is partitioned by a meaningful column, sorting within each partition might be enough."
   ]
  },
  {
   "cell_type": "code",
   "execution_count": 111,
   "id": "8a1c167a",
   "metadata": {},
   "outputs": [
    {
     "name": "stdout",
     "output_type": "stream",
     "text": [
      "+-------------------+-------------------+-----+---------+\n",
      "|  DEST_COUNTRY_NAME|ORIGIN_COUNTRY_NAME|count|partition|\n",
      "+-------------------+-------------------+-----+---------+\n",
      "|   Marshall Islands|      United States|   42|        0|\n",
      "|      United States|              Italy|  438|        0|\n",
      "|      United States|           Anguilla|   38|        0|\n",
      "|            Jamaica|      United States|  666|        1|\n",
      "|            Hungary|      United States|    2|        1|\n",
      "|      United States|              Qatar|  109|        1|\n",
      "|         Luxembourg|      United States|  155|        2|\n",
      "|              India|      United States|   61|        2|\n",
      "|      United States|       Cook Islands|   13|        2|\n",
      "|     United Kingdom|      United States| 2025|        3|\n",
      "|           Kiribati|      United States|   26|        3|\n",
      "|      United States|          Argentina|  141|        3|\n",
      "|            Uruguay|      United States|   43|        4|\n",
      "|         Guadeloupe|      United States|   56|        4|\n",
      "|      French Guiana|      United States|    5|        4|\n",
      "|Antigua and Barbuda|      United States|  126|        5|\n",
      "|      United States|              Malta|    2|        5|\n",
      "|      United States|             Greece|   23|        5|\n",
      "|           Bulgaria|      United States|    3|        6|\n",
      "|      United States|           Kiribati|   35|        6|\n",
      "+-------------------+-------------------+-----+---------+\n",
      "only showing top 20 rows\n",
      "\n"
     ]
    }
   ],
   "source": [
    "flights_df.repartition(90)\\\n",
    "        .sortWithinPartitions([\"ORIGIN_COUNTRY_NAME\",\"DEST_COUNTRY_NAME\"],\\\n",
    "                                               ascending=False)\\\n",
    "        .withColumn(\"partition\", spark_partition_id()).show()"
   ]
  },
  {
   "cell_type": "markdown",
   "id": "69cc21ca",
   "metadata": {},
   "source": [
    "### Repartition\n",
    "\n",
    "Repartition will incur a full shuffle of the data, regardless of whether one is necessary. This means that you should typically only repartition when the future number of partitions is greater than your current number of partitions.\n",
    "\n",
    "\n",
    "If you know that you’re going to be filtering by a certain column often, it can be worth\n",
    "repartitioning based on that column:"
   ]
  },
  {
   "cell_type": "code",
   "execution_count": 120,
   "id": "b5a29ddd",
   "metadata": {},
   "outputs": [
    {
     "data": {
      "text/plain": [
       "DataFrame[DEST_COUNTRY_NAME: string, ORIGIN_COUNTRY_NAME: string, count: bigint]"
      ]
     },
     "execution_count": 120,
     "metadata": {},
     "output_type": "execute_result"
    }
   ],
   "source": [
    "# in Python\n",
    "flights_df.repartition(5, col(\"DEST_COUNTRY_NAME\"))"
   ]
  },
  {
   "cell_type": "markdown",
   "id": "aed020dc",
   "metadata": {},
   "source": [
    "### Coalesce\n",
    "will not incur a full shuffle and will try to combine partitions. This operation will shuffle your data into five partitions based on the destination country name, and then coalesce them (without a full shuffle):"
   ]
  },
  {
   "cell_type": "code",
   "execution_count": null,
   "id": "5efa2662",
   "metadata": {},
   "outputs": [],
   "source": [
    "# in Python\n",
    "df.repartition(5, col(\"DEST_COUNTRY_NAME\")).coalesce(2)"
   ]
  },
  {
   "cell_type": "markdown",
   "id": "f87c10b5",
   "metadata": {},
   "source": [
    "###"
   ]
  },
  {
   "cell_type": "code",
   "execution_count": 121,
   "id": "7aa43913",
   "metadata": {},
   "outputs": [
    {
     "name": "stdout",
     "output_type": "stream",
     "text": [
      "+-----------------+-------------------+-----+\n",
      "|DEST_COUNTRY_NAME|ORIGIN_COUNTRY_NAME|count|\n",
      "+-----------------+-------------------+-----+\n",
      "|    United States|            Romania|   15|\n",
      "|    United States|            Croatia|    1|\n",
      "|    United States|            Ireland|  344|\n",
      "|            Egypt|      United States|   15|\n",
      "|    United States|              India|   62|\n",
      "|    United States|          Singapore|    1|\n",
      "|    United States|            Grenada|   62|\n",
      "|       Costa Rica|      United States|  588|\n",
      "|          Senegal|      United States|   40|\n",
      "|          Moldova|      United States|    1|\n",
      "+-----------------+-------------------+-----+\n",
      "\n",
      "+-----------------+-------------------+-----+\n",
      "|DEST_COUNTRY_NAME|ORIGIN_COUNTRY_NAME|count|\n",
      "+-----------------+-------------------+-----+\n",
      "|United States    |Romania            |15   |\n",
      "|United States    |Croatia            |1    |\n",
      "|United States    |Ireland            |344  |\n",
      "|Egypt            |United States      |15   |\n",
      "|United States    |India              |62   |\n",
      "+-----------------+-------------------+-----+\n",
      "only showing top 5 rows\n",
      "\n"
     ]
    },
    {
     "data": {
      "text/plain": [
       "<generator object _local_iterator_from_socket.<locals>.PyLocalIterable.__iter__ at 0x7f21ff565510>"
      ]
     },
     "execution_count": 121,
     "metadata": {},
     "output_type": "execute_result"
    }
   ],
   "source": [
    "# in Python\n",
    "collectDF = flights_df.limit(10)\n",
    "collectDF.take(5) # take works with an Integer count\n",
    "collectDF.show() # this prints it out nicely\n",
    "collectDF.show(5, False)\n",
    "collectDF.collect()\n",
    "collectDF.toLocalIterator()"
   ]
  },
  {
   "cell_type": "code",
   "execution_count": 124,
   "id": "b9716996",
   "metadata": {},
   "outputs": [
    {
     "ename": "AttributeError",
     "evalue": "'DataFrame' object has no attribute 'StorageLevel'",
     "output_type": "error",
     "traceback": [
      "\u001b[0;31m---------------------------------------------------------------------------\u001b[0m",
      "\u001b[0;31mAttributeError\u001b[0m                            Traceback (most recent call last)",
      "\u001b[0;32m<ipython-input-124-71aac2126eef>\u001b[0m in \u001b[0;36m<module>\u001b[0;34m\u001b[0m\n\u001b[0;32m----> 1\u001b[0;31m \u001b[0mcollectDF\u001b[0m\u001b[0;34m.\u001b[0m\u001b[0mStorageLevel\u001b[0m\u001b[0;34m(\u001b[0m\u001b[0;34m)\u001b[0m\u001b[0;34m\u001b[0m\u001b[0;34m\u001b[0m\u001b[0m\n\u001b[0m",
      "\u001b[0;32m~/anaconda3/lib/python3.8/site-packages/pyspark/sql/dataframe.py\u001b[0m in \u001b[0;36m__getattr__\u001b[0;34m(self, name)\u001b[0m\n\u001b[1;32m   1641\u001b[0m         \"\"\"\n\u001b[1;32m   1642\u001b[0m         \u001b[0;32mif\u001b[0m \u001b[0mname\u001b[0m \u001b[0;32mnot\u001b[0m \u001b[0;32min\u001b[0m \u001b[0mself\u001b[0m\u001b[0;34m.\u001b[0m\u001b[0mcolumns\u001b[0m\u001b[0;34m:\u001b[0m\u001b[0;34m\u001b[0m\u001b[0;34m\u001b[0m\u001b[0m\n\u001b[0;32m-> 1643\u001b[0;31m             raise AttributeError(\n\u001b[0m\u001b[1;32m   1644\u001b[0m                 \"'%s' object has no attribute '%s'\" % (self.__class__.__name__, name))\n\u001b[1;32m   1645\u001b[0m         \u001b[0mjc\u001b[0m \u001b[0;34m=\u001b[0m \u001b[0mself\u001b[0m\u001b[0;34m.\u001b[0m\u001b[0m_jdf\u001b[0m\u001b[0;34m.\u001b[0m\u001b[0mapply\u001b[0m\u001b[0;34m(\u001b[0m\u001b[0mname\u001b[0m\u001b[0;34m)\u001b[0m\u001b[0;34m\u001b[0m\u001b[0;34m\u001b[0m\u001b[0m\n",
      "\u001b[0;31mAttributeError\u001b[0m: 'DataFrame' object has no attribute 'StorageLevel'"
     ]
    }
   ],
   "source": [
    "collectDF.StorageLevel()"
   ]
  },
  {
   "cell_type": "code",
   "execution_count": 28,
   "id": "b3bb1ad7",
   "metadata": {},
   "outputs": [
    {
     "name": "stdout",
     "output_type": "stream",
     "text": [
      "+-------------------+-----+\n",
      "|ORIGIN_COUNTRY_NAME|count|\n",
      "+-------------------+-----+\n",
      "|            Romania|   15|\n",
      "|            Croatia|    1|\n",
      "|            Ireland|  344|\n",
      "+-------------------+-----+\n",
      "\n"
     ]
    }
   ],
   "source": [
    "new_flights_df.limit(3).show()"
   ]
  },
  {
   "cell_type": "code",
   "execution_count": 63,
   "id": "6b1cbca7",
   "metadata": {},
   "outputs": [],
   "source": [
    "#new_flights_df.where(col(\"count\") >2 | col(\"ORIGIN_COUNTRY_NAME\") == \"Romania\" ).show(7)\n",
    "#use '&' for 'and', '|' for 'or', '~' for 'not' when building DataFrame boolean expressions."
   ]
  },
  {
   "cell_type": "markdown",
   "id": "fc869209",
   "metadata": {},
   "source": [
    "###"
   ]
  },
  {
   "cell_type": "markdown",
   "id": "8967820c",
   "metadata": {},
   "source": [
    "###"
   ]
  },
  {
   "cell_type": "markdown",
   "id": "8a4a45f9",
   "metadata": {},
   "source": [
    "## PART III  Low-Level API \n",
    "\n",
    "two sets of low-level APIs: \n",
    "\n",
    "1) one for manipulating distributed data (RDDs)\n",
    "\n",
    "2) another for distributing and manipulating distributed shared variables (broadcast variables and accumulators).\n",
    "\n",
    "### When use Low-Level API\n",
    "reson to use Low-Level API\n",
    "\n",
    "1) need some functionality that you cannot find in the higher-level APIs (ex. control over physical data placement across the cluster).\n",
    "\n",
    "2) maintain some legacy codebase written using RDDs. (egacy code is source code inherited from someone else or inherited from an older version of the software).\n",
    "\n",
    "3) do some custom shared variable manipulation. [ch. 14]\n",
    "\n",
    "#### How to use it\n",
    "A SparkContext is the entry point for low-level API functionality. You access it through the SparkSession, which is the tool you use to perform computation across a Spark cluster. [ch. 15]\n",
    "\n",
    "```spark.sparkContext```\n",
    "\n",
    "### Ch 12. Resilient Distributed Datasets\n",
    " \n",
    "A RDD is fault-tolerant collection of elements that can be operated on in parallel. \n",
    "\n",
    "RDD represents an immutable, partitioned collection of records that can be operated\n",
    "on in parallel. \n",
    "\n",
    "\n",
    "In RDDs the records are just Java, Scala, or Python objects of the\n",
    "programmer’s choosing. You can store anything you want in these objects, in any format you want --> great control, but need to reinvent the wheel and be able to optimize \n",
    "\n",
    "\n",
    "While in **DataFrames** each record is a structured row containing\n",
    "fields with a known schema. \n",
    "\n",
    "#### Traits of RDD\n",
    "\n",
    "**Immutable (Read only cant change or modify):** Data is safe to share across processes. It can be created or retrieved anytime which makes caching, sharing & replication easy. It is a way to reach consistency in computations.\n",
    "**Partitioned:** It is basic unit of parallelism in RDD. Each partition is logical division of data/records.\n",
    "**Persistence:** Option of choosing which storage will be used either in-memory or on-disk.\n",
    "**Cacheable:** It holds data in persistent storage (memory/disk) so that they can be retrieved more quickly on the next request for them.\n",
    "**Fault Tolerant:**  Resilient  means its capability to reconcile, recover or get back all the data (coarse/fine grained & low overhead) using lineage graph.\n",
    "**Action/Transformations:** All computations in RDDs are actions or transformations.\n",
    "**Coarse gained operations:** it’s applied to any or all components in datasets through maps or filter or group by operation.\n",
    "\n",
    "\n",
    "#### 5 main RDDs properties  [[???]]\n",
    "\n",
    "These properties determine all of Spark’s ability to schedule and execute the user program:\n",
    "    A list of partitions\n",
    "    A function for computing each split\n",
    "    A list of dependencies on other RDDs\n",
    "    Optionally, a Partitioner for key-value RDDs (e.g., to say that the RDD is hashpartitioned)\n",
    "    Optionally, a list of preferred locations on which to compute each split (e.g., block\n",
    "    locations for a Hadoop Distributed File System [HDFS] file)\n",
    "    \n",
    "#### Comparison Scala, Java, Python \n",
    "The RDD APIs are available in Python as well as Scala and Java. For Scala and Java. Python, however, can lose a substantial amount of performance when using RDDs.\n",
    "Running Python RDDs equates to running Python user-defined functions (UDFs) row by row. we recommend building on the Structured APIs in Python and only dropping down to\n",
    "RDDs if absolutely necessary.\n",
    "\n",
    "### When to use RDDs \n",
    "\n",
    "**custom partitioning of data** --> need fine-grained control over the physical distribution of data.\n",
    "   \n",
    "   \n",
    "####  Datasets vs RDDs (Scala and Java)\n",
    "Datasets can still take advantage of the wealth of functions and optimizations that the Structured APIs have to offer. With Datasets, you do not need to choose between only operating on JVM types or on Spark types, you can choose whatever is either easiest to do or most flexible.\n",
    "\n",
    "### DOCUMENTATION CODE: https://spark.apache.org/docs/3.1.1/api/python/_modules/pyspark/rdd.html#RDD\n",
    "\n",
    "### Creating RDDs\n",
    "\n",
    "get RDDs from:\n",
    "\n",
    "1) existing Dataframes or Datasets (Interoperating between DataFrames, Datasets and RDDs) \n",
    "```df.rdd```\n",
    "\n",
    "2) a local collection \n",
    "```spark.sparkContext.parallelize(myCollection, n_partitions)```\n",
    "\n",
    "3) a Data source \n",
    "```spark.sparkContext.textFile('path/to/data)``` --> a record for each line\n",
    "```spark.sparkContext.wholeTextFiles('path/to/data)``` --> a record for each text file\n"
   ]
  },
  {
   "cell_type": "markdown",
   "id": "ed62019e",
   "metadata": {},
   "source": [
    "#### CASE 1: from existing Dataframes or Datasets "
   ]
  },
  {
   "cell_type": "code",
   "execution_count": 57,
   "id": "1480f449",
   "metadata": {},
   "outputs": [],
   "source": [
    "# ex 1 - dataframe from range\n",
    "spark.range(12) ## is a DataFrame\n",
    "rdd = spark.range(12).rdd # is a RDDs"
   ]
  },
  {
   "cell_type": "code",
   "execution_count": 13,
   "id": "2e69ee47",
   "metadata": {},
   "outputs": [
    {
     "data": {
      "text/plain": [
       "MapPartitionsRDD[62] at javaToPython at NativeMethodAccessorImpl.java:0"
      ]
     },
     "execution_count": 13,
     "metadata": {},
     "output_type": "execute_result"
    }
   ],
   "source": [
    "# CASE 1: ex 2 - dataframe from a file\n",
    "df_from_file = spark.read.format('json').load('./data/flight-data/json/2015-summary.json')\n",
    "df_from_file ## is a DataFrame\n",
    "df_from_file.rdd # is a RDDs"
   ]
  },
  {
   "cell_type": "markdown",
   "id": "1c77eec1",
   "metadata": {},
   "source": [
    "**To operate on this data, you will need to convert this Row object to the correct data type**"
   ]
  },
  {
   "cell_type": "code",
   "execution_count": 30,
   "id": "6e7e1eb4",
   "metadata": {},
   "outputs": [
    {
     "data": {
      "text/plain": [
       "DataFrame[new_name_column: bigint]"
      ]
     },
     "execution_count": 30,
     "metadata": {},
     "output_type": "execute_result"
    }
   ],
   "source": [
    "spark.range(13).toDF('new_name_column')"
   ]
  },
  {
   "cell_type": "code",
   "execution_count": 31,
   "id": "33ee77bf",
   "metadata": {},
   "outputs": [
    {
     "name": "stdout",
     "output_type": "stream",
     "text": [
      "+---+\n",
      "| id|\n",
      "+---+\n",
      "|  0|\n",
      "|  1|\n",
      "|  2|\n",
      "|  3|\n",
      "|  4|\n",
      "|  5|\n",
      "|  6|\n",
      "|  7|\n",
      "|  8|\n",
      "|  9|\n",
      "+---+\n",
      "\n"
     ]
    }
   ],
   "source": [
    "spark.range(10).toDF(\"id\").show() #DataFrame[id: bigint] "
   ]
  },
  {
   "cell_type": "code",
   "execution_count": 24,
   "id": "252d87fd",
   "metadata": {},
   "outputs": [
    {
     "data": {
      "text/plain": [
       "MapPartitionsRDD[103] at javaToPython at NativeMethodAccessorImpl.java:0"
      ]
     },
     "execution_count": 24,
     "metadata": {},
     "output_type": "execute_result"
    }
   ],
   "source": [
    "spark.range(10).toDF(\"id\").rdd\n",
    "#MapPartitionsRDD[79] at javaToPython at NativeMethodAccessorImpl.java:0\n",
    "#NB. 'RDD' object has no attribute 'show'"
   ]
  },
  {
   "cell_type": "code",
   "execution_count": 25,
   "id": "3cbcbadc",
   "metadata": {},
   "outputs": [
    {
     "data": {
      "text/plain": [
       "PythonRDD[110] at RDD at PythonRDD.scala:53"
      ]
     },
     "execution_count": 25,
     "metadata": {},
     "output_type": "execute_result"
    }
   ],
   "source": [
    "spark.range(10).toDF(\"id\").rdd.map(lambda row: row[0])"
   ]
  },
  {
   "cell_type": "markdown",
   "id": "8def30ce",
   "metadata": {},
   "source": [
    "**Convert back from rdd to DF**\n",
    "\n",
    "This command creates an RDD of type Row. This row is the internal Catalyst format that Spark uses to represent data in the Structured APIs"
   ]
  },
  {
   "cell_type": "code",
   "execution_count": 32,
   "id": "3f81b132",
   "metadata": {},
   "outputs": [
    {
     "data": {
      "text/plain": [
       "DataFrame[id: bigint]"
      ]
     },
     "execution_count": 32,
     "metadata": {},
     "output_type": "execute_result"
    }
   ],
   "source": [
    "spark.range(10).rdd.toDF() # not add any column name in toDf('new_column_names')"
   ]
  },
  {
   "cell_type": "markdown",
   "id": "a250d4ce",
   "metadata": {},
   "source": [
    "#### CASE 2: from collections"
   ]
  },
  {
   "cell_type": "code",
   "execution_count": 33,
   "id": "6cee7854",
   "metadata": {},
   "outputs": [
    {
     "data": {
      "text/plain": [
       "ParallelCollectionRDD[143] at readRDDFromFile at PythonRDD.scala:274"
      ]
     },
     "execution_count": 33,
     "metadata": {},
     "output_type": "execute_result"
    }
   ],
   "source": [
    "myCollection = \"ciao, e ci si prova di nuovo\".split(\" \")\n",
    "n_partitions = 2\n",
    "\n",
    "spark.sparkContext.parallelize(myCollection, n_partitions)"
   ]
  },
  {
   "cell_type": "markdown",
   "id": "9d7e60ee",
   "metadata": {},
   "source": [
    "#### Set a name for the RDD to check in UI (https://spark.apache.org/docs/latest/web-ui.html)"
   ]
  },
  {
   "cell_type": "code",
   "execution_count": 37,
   "id": "21882f29",
   "metadata": {},
   "outputs": [],
   "source": [
    "words = spark.sparkContext.parallelize(myCollection, n_partitions)"
   ]
  },
  {
   "cell_type": "code",
   "execution_count": 38,
   "id": "b87a4a8c",
   "metadata": {},
   "outputs": [],
   "source": [
    "words.setName(\"RddName\")"
   ]
  },
  {
   "cell_type": "code",
   "execution_count": 39,
   "id": "5110e313",
   "metadata": {},
   "outputs": [
    {
     "data": {
      "text/plain": [
       "7"
      ]
     },
     "execution_count": 39,
     "metadata": {},
     "output_type": "execute_result"
    }
   ],
   "source": [
    "words.count()"
   ]
  },
  {
   "cell_type": "code",
   "execution_count": 40,
   "id": "c68605e8",
   "metadata": {},
   "outputs": [
    {
     "data": {
      "text/plain": [
       "./data/flight-data/json/2015-summary.json MapPartitionsRDD[149] at textFile at NativeMethodAccessorImpl.java:0"
      ]
     },
     "execution_count": 40,
     "metadata": {},
     "output_type": "execute_result"
    }
   ],
   "source": [
    "#### CASE 3: from Data Source (file(s))\n",
    "spark.sparkContext.textFile('./data/flight-data/json/2015-summary.json')\n",
    "\n"
   ]
  },
  {
   "cell_type": "markdown",
   "id": "5800f558",
   "metadata": {},
   "source": [
    "In this RDD, the name of the file is the first object and the value of the text file is the second string object.\n",
    "\n",
    "[('file_name1', 'object_file1'),\n",
    "('file_name2', 'object_file2'),\n",
    "...]"
   ]
  },
  {
   "cell_type": "code",
   "execution_count": 54,
   "id": "b788159c",
   "metadata": {},
   "outputs": [
    {
     "name": "stdout",
     "output_type": "stream",
     "text": [
      "[('file:/home/ail/Spark/data/flight-data/json/2010-summary.json', '{\"ORIGIN_COUNTRY_NAME\":\"Romania\",\"DEST_COUNTRY_NAME\":\"United States\",\"count\":1}\\n{\"ORIGIN_COUNTRY_NAME\":\"Ireland\",\"DEST_COUNTRY_NAME\":\"United States\",\"count\":264}\\n{\"ORIGIN_COUNTRY_NAME\":\"India\",\"DEST_COUNTRY_NAME\":\"United States\",\"count\":69}\\n{\"ORIGIN_COUNTRY_NAME\":\"United States\",\"DEST_COUNTRY_NAME\":\"Egypt\",\"count\":24}\\n{\"ORIGIN_COUNTRY_NAME\":\"United States\",\"DEST_COUNTRY_NAME\":\"Equatorial Guinea\",\"count\":1}\\n{\"ORIGIN_COUNTRY_NAME\":\"Singapore\",\"DEST_COUNTRY_NAME\":\"United States\",\"count\":25}\\n{\"ORIGIN_COUNTRY_NAME\":\"Grenada\",\"DEST_COUNTRY_NAME\":\"United States\",\"count\":54}\\n{\"ORIGIN_COUNTRY_NAME\":\"United States\",\"DEST_COUNTRY_NAME\":\"Costa Rica\",\"count\":477}\\n{\"ORIGIN_COUNTRY_NAME\":\"United States\",\"DEST_COUNTRY_NAME\":\"Senegal\",\"count\":29}\\n{\"ORIGIN_COUNTRY_NAME\":\"Marshall Islands\",\"DEST_COUNTRY_NAME\":\"United States\",\"count\":44}\\n{\"ORIGIN_COUNTRY_NAME\":\"United States\",\"DEST_COUNTRY_NAME\":\"Guyana\",\"count\":17}\\n{\"ORIGIN_COUNTRY_NAME\":\"Sint Maarten\",\"DEST_COUNTRY_NAME\":\"United States\",\"count\":53}\\n{\"ORIGIN_COUNTRY_NAME\":\"United States\",\"DEST_COUNTRY_NAME\":\"Malta\",\"count\":1}\\n{\"ORIGIN_COUNTRY_NAME\":\"United States\",\"DEST_COUNTRY_NAME\":\"Bolivia\",\"count\":46}\\n{\"ORIGIN_COUNTRY_NAME\":\"United States\",\"DEST_COUNTRY_NAME\":\"Anguilla\",\"count\":21}\\n{\"ORIGIN_COUNTRY_NAME\":\"United States\",\"DEST_COUNTRY_NAME\":\"Turks and Caicos Islands\",\"count\":136}\\n{\"ORIGIN_COUNTRY_NAME\":\"Afghanistan\",\"DEST_COUNTRY_NAME\":\"United States\",\"count\":2}\\n{\"ORIGIN_COUNTRY_NAME\":\"United States\",\"DEST_COUNTRY_NAME\":\"Saint Vincent and the Grenadines\",\"count\":1}\\n{\"ORIGIN_COUNTRY_NAME\":\"United States\",\"DEST_COUNTRY_NAME\":\"Italy\",\"count\":390}\\n{\"ORIGIN_COUNTRY_NAME\":\"Russia\",\"DEST_COUNTRY_NAME\":\"United States\",\"count\":156}\\n{\"ORIGIN_COUNTRY_NAME\":\"Federated States of Micronesia\",\"DEST_COUNTRY_NAME\":\"United States\",\"count\":48}\\n{\"ORIGIN_COUNTRY_NAME\":\"United States\",\"DEST_COUNTRY_NAME\":\"Pakistan\",\"count\":9}\\n{\"ORIGIN_COUNTRY_NAME\":\"Netherlands\",\"DEST_COUNTRY_NAME\":\"United States\",\"count\":570}\\n{\"ORIGIN_COUNTRY_NAME\":\"United States\",\"DEST_COUNTRY_NAME\":\"Iceland\",\"count\":118}\\n{\"ORIGIN_COUNTRY_NAME\":\"United States\",\"DEST_COUNTRY_NAME\":\"Marshall Islands\",\"count\":77}\\n{\"ORIGIN_COUNTRY_NAME\":\"United States\",\"DEST_COUNTRY_NAME\":\"Luxembourg\",\"count\":91}\\n{\"ORIGIN_COUNTRY_NAME\":\"United States\",\"DEST_COUNTRY_NAME\":\"Honduras\",\"count\":391}\\n{\"ORIGIN_COUNTRY_NAME\":\"United States\",\"DEST_COUNTRY_NAME\":\"The Bahamas\",\"count\":903}\\n{\"ORIGIN_COUNTRY_NAME\":\"United States\",\"DEST_COUNTRY_NAME\":\"El Salvador\",\"count\":519}\\n{\"ORIGIN_COUNTRY_NAME\":\"Senegal\",\"DEST_COUNTRY_NAME\":\"United States\",\"count\":46}\\n{\"ORIGIN_COUNTRY_NAME\":\"United States\",\"DEST_COUNTRY_NAME\":\"Samoa\",\"count\":28}\\n{\"ORIGIN_COUNTRY_NAME\":\"Angola\",\"DEST_COUNTRY_NAME\":\"United States\",\"count\":18}\\n{\"ORIGIN_COUNTRY_NAME\":\"United States\",\"DEST_COUNTRY_NAME\":\"Kazakhstan\",\"count\":3}\\n{\"ORIGIN_COUNTRY_NAME\":\"United States\",\"DEST_COUNTRY_NAME\":\"Switzerland\",\"count\":315}\\n{\"ORIGIN_COUNTRY_NAME\":\"Anguilla\",\"DEST_COUNTRY_NAME\":\"United States\",\"count\":20}\\n{\"ORIGIN_COUNTRY_NAME\":\"United States\",\"DEST_COUNTRY_NAME\":\"Sint Maarten\",\"count\":61}\\n{\"ORIGIN_COUNTRY_NAME\":\"United States\",\"DEST_COUNTRY_NAME\":\"Hong Kong\",\"count\":252}\\n{\"ORIGIN_COUNTRY_NAME\":\"United States\",\"DEST_COUNTRY_NAME\":\"Trinidad and Tobago\",\"count\":187}\\n{\"ORIGIN_COUNTRY_NAME\":\"United States\",\"DEST_COUNTRY_NAME\":\"Latvia\",\"count\":12}\\n{\"ORIGIN_COUNTRY_NAME\":\"Ecuador\",\"DEST_COUNTRY_NAME\":\"United States\",\"count\":345}\\n{\"ORIGIN_COUNTRY_NAME\":\"United States\",\"DEST_COUNTRY_NAME\":\"Slovakia\",\"count\":1}\\n{\"ORIGIN_COUNTRY_NAME\":\"United States\",\"DEST_COUNTRY_NAME\":\"Suriname\",\"count\":12}\\n{\"ORIGIN_COUNTRY_NAME\":\"United States\",\"DEST_COUNTRY_NAME\":\"Mexico\",\"count\":6200}\\n{\"ORIGIN_COUNTRY_NAME\":\"Cyprus\",\"DEST_COUNTRY_NAME\":\"United States\",\"count\":1}\\n{\"ORIGIN_COUNTRY_NAME\":\"United States\",\"DEST_COUNTRY_NAME\":\"Ecuador\",\"count\":272}\\n{\"ORIGIN_COUNTRY_NAME\":\"Bosnia and Herzegovina\",\"DEST_COUNTRY_NAME\":\"United States\",\"count\":1}\\n{\"ORIGIN_COUNTRY_NAME\":\"Portugal\",\"DEST_COUNTRY_NAME\":\"United States\",\"count\":104}\\n{\"ORIGIN_COUNTRY_NAME\":\"Costa Rica\",\"DEST_COUNTRY_NAME\":\"United States\",\"count\":501}\\n{\"ORIGIN_COUNTRY_NAME\":\"Guatemala\",\"DEST_COUNTRY_NAME\":\"United States\",\"count\":333}\\n{\"ORIGIN_COUNTRY_NAME\":\"Suriname\",\"DEST_COUNTRY_NAME\":\"United States\",\"count\":13}\\n{\"ORIGIN_COUNTRY_NAME\":\"United States\",\"DEST_COUNTRY_NAME\":\"Colombia\",\"count\":785}\\n{\"ORIGIN_COUNTRY_NAME\":\"Cape Verde\",\"DEST_COUNTRY_NAME\":\"United States\",\"count\":18}\\n{\"ORIGIN_COUNTRY_NAME\":\"Jamaica\",\"DEST_COUNTRY_NAME\":\"United States\",\"count\":757}\\n{\"ORIGIN_COUNTRY_NAME\":\"Malaysia\",\"DEST_COUNTRY_NAME\":\"United States\",\"count\":3}\\n{\"ORIGIN_COUNTRY_NAME\":\"United States\",\"DEST_COUNTRY_NAME\":\"Norway\",\"count\":29}\\n{\"ORIGIN_COUNTRY_NAME\":\"Morocco\",\"DEST_COUNTRY_NAME\":\"United States\",\"count\":16}\\n{\"ORIGIN_COUNTRY_NAME\":\"United States\",\"DEST_COUNTRY_NAME\":\"Thailand\",\"count\":16}\\n{\"ORIGIN_COUNTRY_NAME\":\"United States\",\"DEST_COUNTRY_NAME\":\"Venezuela\",\"count\":377}\\n{\"ORIGIN_COUNTRY_NAME\":\"Palau\",\"DEST_COUNTRY_NAME\":\"United States\",\"count\":30}\\n{\"ORIGIN_COUNTRY_NAME\":\"Samoa\",\"DEST_COUNTRY_NAME\":\"United States\",\"count\":28}\\n{\"ORIGIN_COUNTRY_NAME\":\"Algeria\",\"DEST_COUNTRY_NAME\":\"United States\",\"count\":1}\\n{\"ORIGIN_COUNTRY_NAME\":\"Venezuela\",\"DEST_COUNTRY_NAME\":\"United States\",\"count\":341}\\n{\"ORIGIN_COUNTRY_NAME\":\"United States\",\"DEST_COUNTRY_NAME\":\"Panama\",\"count\":355}\\n{\"ORIGIN_COUNTRY_NAME\":\"Finland\",\"DEST_COUNTRY_NAME\":\"United States\",\"count\":20}\\n{\"ORIGIN_COUNTRY_NAME\":\"Chile\",\"DEST_COUNTRY_NAME\":\"United States\",\"count\":176}\\n{\"ORIGIN_COUNTRY_NAME\":\"United States\",\"DEST_COUNTRY_NAME\":\"Morocco\",\"count\":16}\\n{\"ORIGIN_COUNTRY_NAME\":\"Greece\",\"DEST_COUNTRY_NAME\":\"United States\",\"count\":61}\\n{\"ORIGIN_COUNTRY_NAME\":\"United States\",\"DEST_COUNTRY_NAME\":\"Antigua and Barbuda\",\"count\":123}\\n{\"ORIGIN_COUNTRY_NAME\":\"United States\",\"DEST_COUNTRY_NAME\":\"Azerbaijan\",\"count\":1}\\n{\"ORIGIN_COUNTRY_NAME\":\"The Bahamas\",\"DEST_COUNTRY_NAME\":\"United States\",\"count\":959}\\n{\"ORIGIN_COUNTRY_NAME\":\"United States\",\"DEST_COUNTRY_NAME\":\"New Zealand\",\"count\":86}\\n{\"ORIGIN_COUNTRY_NAME\":\"United States\",\"DEST_COUNTRY_NAME\":\"Liberia\",\"count\":1}\\n{\"ORIGIN_COUNTRY_NAME\":\"Hong Kong\",\"DEST_COUNTRY_NAME\":\"United States\",\"count\":293}\\n{\"ORIGIN_COUNTRY_NAME\":\"United States\",\"DEST_COUNTRY_NAME\":\"Hungary\",\"count\":14}\\n{\"ORIGIN_COUNTRY_NAME\":\"China\",\"DEST_COUNTRY_NAME\":\"United States\",\"count\":505}\\n{\"ORIGIN_COUNTRY_NAME\":\"Vietnam\",\"DEST_COUNTRY_NAME\":\"United States\",\"count\":1}\\n{\"ORIGIN_COUNTRY_NAME\":\"United States\",\"DEST_COUNTRY_NAME\":\"Sweden\",\"count\":65}\\n{\"ORIGIN_COUNTRY_NAME\":\"Kuwait\",\"DEST_COUNTRY_NAME\":\"United States\",\"count\":25}\\n{\"ORIGIN_COUNTRY_NAME\":\"Dominican Republic\",\"DEST_COUNTRY_NAME\":\"United States\",\"count\":1150}\\n{\"ORIGIN_COUNTRY_NAME\":\"Egypt\",\"DEST_COUNTRY_NAME\":\"United States\",\"count\":25}\\n{\"ORIGIN_COUNTRY_NAME\":\"United States\",\"DEST_COUNTRY_NAME\":\"Israel\",\"count\":117}\\n{\"ORIGIN_COUNTRY_NAME\":\"United States\",\"DEST_COUNTRY_NAME\":\"United States\",\"count\":348113}\\n{\"ORIGIN_COUNTRY_NAME\":\"Luxembourg\",\"DEST_COUNTRY_NAME\":\"United States\",\"count\":90}\\n{\"ORIGIN_COUNTRY_NAME\":\"United States\",\"DEST_COUNTRY_NAME\":\"Ethiopia\",\"count\":12}\\n{\"ORIGIN_COUNTRY_NAME\":\"Poland\",\"DEST_COUNTRY_NAME\":\"United States\",\"count\":61}\\n{\"ORIGIN_COUNTRY_NAME\":\"United States\",\"DEST_COUNTRY_NAME\":\"Martinique\",\"count\":23}\\n{\"ORIGIN_COUNTRY_NAME\":\"United States\",\"DEST_COUNTRY_NAME\":\"Saint Barthelemy\",\"count\":28}\\n{\"ORIGIN_COUNTRY_NAME\":\"Saint Barthelemy\",\"DEST_COUNTRY_NAME\":\"United States\",\"count\":29}\\n{\"ORIGIN_COUNTRY_NAME\":\"Turkey\",\"DEST_COUNTRY_NAME\":\"United States\",\"count\":87}\\n{\"ORIGIN_COUNTRY_NAME\":\"United States\",\"DEST_COUNTRY_NAME\":\"Barbados\",\"count\":130}\\n{\"ORIGIN_COUNTRY_NAME\":\"Estonia\",\"DEST_COUNTRY_NAME\":\"United States\",\"count\":1}\\n{\"ORIGIN_COUNTRY_NAME\":\"Azerbaijan\",\"DEST_COUNTRY_NAME\":\"United States\",\"count\":1}\\n{\"ORIGIN_COUNTRY_NAME\":\"United States\",\"DEST_COUNTRY_NAME\":\"Germany\",\"count\":1392}\\n{\"ORIGIN_COUNTRY_NAME\":\"United States\",\"DEST_COUNTRY_NAME\":\"Kyrgyzstan\",\"count\":2}\\n{\"ORIGIN_COUNTRY_NAME\":\"South Korea\",\"DEST_COUNTRY_NAME\":\"United States\",\"count\":621}\\n{\"ORIGIN_COUNTRY_NAME\":\"El Salvador\",\"DEST_COUNTRY_NAME\":\"United States\",\"count\":464}\\n{\"ORIGIN_COUNTRY_NAME\":\"United States\",\"DEST_COUNTRY_NAME\":\"Ireland\",\"count\":231}\\n{\"ORIGIN_COUNTRY_NAME\":\"Hungary\",\"DEST_COUNTRY_NAME\":\"United States\",\"count\":15}\\n{\"ORIGIN_COUNTRY_NAME\":\"Serbia\",\"DEST_COUNTRY_NAME\":\"United States\",\"count\":1}\\n{\"ORIGIN_COUNTRY_NAME\":\"United States\",\"DEST_COUNTRY_NAME\":\"Malaysia\",\"count\":1}\\n{\"ORIGIN_COUNTRY_NAME\":\"Panama\",\"DEST_COUNTRY_NAME\":\"United States\",\"count\":363}\\n{\"ORIGIN_COUNTRY_NAME\":\"Ethiopia\",\"DEST_COUNTRY_NAME\":\"United States\",\"count\":12}\\n{\"ORIGIN_COUNTRY_NAME\":\"Aruba\",\"DEST_COUNTRY_NAME\":\"United States\",\"count\":349}\\n{\"ORIGIN_COUNTRY_NAME\":\"Thailand\",\"DEST_COUNTRY_NAME\":\"United States\",\"count\":13}\\n{\"ORIGIN_COUNTRY_NAME\":\"Netherlands Antilles\",\"DEST_COUNTRY_NAME\":\"United States\",\"count\":289}\\n{\"ORIGIN_COUNTRY_NAME\":\"Turks and Caicos Islands\",\"DEST_COUNTRY_NAME\":\"United States\",\"count\":147}\\n{\"ORIGIN_COUNTRY_NAME\":\"United States\",\"DEST_COUNTRY_NAME\":\"Cyprus\",\"count\":2}\\n{\"ORIGIN_COUNTRY_NAME\":\"Pakistan\",\"DEST_COUNTRY_NAME\":\"United States\",\"count\":15}\\n{\"ORIGIN_COUNTRY_NAME\":\"Honduras\",\"DEST_COUNTRY_NAME\":\"United States\",\"count\":393}\\n{\"ORIGIN_COUNTRY_NAME\":\"United States\",\"DEST_COUNTRY_NAME\":\"Qatar\",\"count\":41}\\n{\"ORIGIN_COUNTRY_NAME\":\"United States\",\"DEST_COUNTRY_NAME\":\"Fiji\",\"count\":53}\\n{\"ORIGIN_COUNTRY_NAME\":\"United States\",\"DEST_COUNTRY_NAME\":\"Saint Kitts and Nevis\",\"count\":113}\\n{\"ORIGIN_COUNTRY_NAME\":\"United States\",\"DEST_COUNTRY_NAME\":\"Taiwan\",\"count\":275}\\n{\"ORIGIN_COUNTRY_NAME\":\"United States\",\"DEST_COUNTRY_NAME\":\"Haiti\",\"count\":238}\\n{\"ORIGIN_COUNTRY_NAME\":\"United States\",\"DEST_COUNTRY_NAME\":\"Kuwait\",\"count\":26}\\n{\"ORIGIN_COUNTRY_NAME\":\"United States\",\"DEST_COUNTRY_NAME\":\"Canada\",\"count\":8271}\\n{\"ORIGIN_COUNTRY_NAME\":\"United States\",\"DEST_COUNTRY_NAME\":\"Federated States of Micronesia\",\"count\":46}\\n{\"ORIGIN_COUNTRY_NAME\":\"Liberia\",\"DEST_COUNTRY_NAME\":\"United States\",\"count\":1}\\n{\"ORIGIN_COUNTRY_NAME\":\"United States\",\"DEST_COUNTRY_NAME\":\"Jamaica\",\"count\":733}\\n{\"ORIGIN_COUNTRY_NAME\":\"Malta\",\"DEST_COUNTRY_NAME\":\"United States\",\"count\":2}\\n{\"ORIGIN_COUNTRY_NAME\":\"United States\",\"DEST_COUNTRY_NAME\":\"Dominican Republic\",\"count\":1109}\\n{\"ORIGIN_COUNTRY_NAME\":\"United States\",\"DEST_COUNTRY_NAME\":\"Japan\",\"count\":1383}\\n{\"ORIGIN_COUNTRY_NAME\":\"Saint Vincent and the Grenadines\",\"DEST_COUNTRY_NAME\":\"United States\",\"count\":16}\\n{\"ORIGIN_COUNTRY_NAME\":\"Guadeloupe\",\"DEST_COUNTRY_NAME\":\"United States\",\"count\":33}\\n{\"ORIGIN_COUNTRY_NAME\":\"United States\",\"DEST_COUNTRY_NAME\":\"Finland\",\"count\":24}\\n{\"ORIGIN_COUNTRY_NAME\":\"Ukraine\",\"DEST_COUNTRY_NAME\":\"United States\",\"count\":17}\\n{\"ORIGIN_COUNTRY_NAME\":\"France\",\"DEST_COUNTRY_NAME\":\"United States\",\"count\":776}\\n{\"ORIGIN_COUNTRY_NAME\":\"Norway\",\"DEST_COUNTRY_NAME\":\"United States\",\"count\":36}\\n{\"ORIGIN_COUNTRY_NAME\":\"United States\",\"DEST_COUNTRY_NAME\":\"Aruba\",\"count\":359}\\n{\"ORIGIN_COUNTRY_NAME\":\"United States\",\"DEST_COUNTRY_NAME\":\"French Guiana\",\"count\":4}\\n{\"ORIGIN_COUNTRY_NAME\":\"Kiribati\",\"DEST_COUNTRY_NAME\":\"United States\",\"count\":18}\\n{\"ORIGIN_COUNTRY_NAME\":\"United States\",\"DEST_COUNTRY_NAME\":\"India\",\"count\":66}\\n{\"ORIGIN_COUNTRY_NAME\":\"United States\",\"DEST_COUNTRY_NAME\":\"British Virgin Islands\",\"count\":49}\\n{\"ORIGIN_COUNTRY_NAME\":\"Germany\",\"DEST_COUNTRY_NAME\":\"United States\",\"count\":1406}\\n{\"ORIGIN_COUNTRY_NAME\":\"United States\",\"DEST_COUNTRY_NAME\":\"Brazil\",\"count\":995}\\n{\"ORIGIN_COUNTRY_NAME\":\"New Zealand\",\"DEST_COUNTRY_NAME\":\"United States\",\"count\":71}\\n{\"ORIGIN_COUNTRY_NAME\":\"United States\",\"DEST_COUNTRY_NAME\":\"French Polynesia\",\"count\":38}\\n{\"ORIGIN_COUNTRY_NAME\":\"United States\",\"DEST_COUNTRY_NAME\":\"United Arab Emirates\",\"count\":165}\\n{\"ORIGIN_COUNTRY_NAME\":\"United States\",\"DEST_COUNTRY_NAME\":\"Singapore\",\"count\":25}\\n{\"ORIGIN_COUNTRY_NAME\":\"Mexico\",\"DEST_COUNTRY_NAME\":\"United States\",\"count\":6220}\\n{\"ORIGIN_COUNTRY_NAME\":\"United States\",\"DEST_COUNTRY_NAME\":\"Netherlands\",\"count\":586}\\n{\"ORIGIN_COUNTRY_NAME\":\"Sweden\",\"DEST_COUNTRY_NAME\":\"United States\",\"count\":73}\\n{\"ORIGIN_COUNTRY_NAME\":\"Gabon\",\"DEST_COUNTRY_NAME\":\"United States\",\"count\":1}\\n{\"ORIGIN_COUNTRY_NAME\":\"Martinique\",\"DEST_COUNTRY_NAME\":\"United States\",\"count\":20}\\n{\"ORIGIN_COUNTRY_NAME\":\"United Arab Emirates\",\"DEST_COUNTRY_NAME\":\"United States\",\"count\":156}\\n{\"ORIGIN_COUNTRY_NAME\":\"Bulgaria\",\"DEST_COUNTRY_NAME\":\"United States\",\"count\":2}\\n{\"ORIGIN_COUNTRY_NAME\":\"United States\",\"DEST_COUNTRY_NAME\":\"China\",\"count\":448}\\n{\"ORIGIN_COUNTRY_NAME\":\"United States\",\"DEST_COUNTRY_NAME\":\"Denmark\",\"count\":98}\\n{\"ORIGIN_COUNTRY_NAME\":\"Philippines\",\"DEST_COUNTRY_NAME\":\"United States\",\"count\":116}\\n{\"ORIGIN_COUNTRY_NAME\":\"Nicaragua\",\"DEST_COUNTRY_NAME\":\"United States\",\"count\":181}\\n{\"ORIGIN_COUNTRY_NAME\":\"Belgium\",\"DEST_COUNTRY_NAME\":\"United States\",\"count\":355}\\n{\"ORIGIN_COUNTRY_NAME\":\"United States\",\"DEST_COUNTRY_NAME\":\"Peru\",\"count\":212}\\n{\"ORIGIN_COUNTRY_NAME\":\"United States\",\"DEST_COUNTRY_NAME\":\"Argentina\",\"count\":184}\\n{\"ORIGIN_COUNTRY_NAME\":\"United States\",\"DEST_COUNTRY_NAME\":\"Cayman Islands\",\"count\":247}\\n{\"ORIGIN_COUNTRY_NAME\":\"United States\",\"DEST_COUNTRY_NAME\":\"South Africa\",\"count\":25}\\n{\"ORIGIN_COUNTRY_NAME\":\"Iceland\",\"DEST_COUNTRY_NAME\":\"United States\",\"count\":129}\\n{\"ORIGIN_COUNTRY_NAME\":\"Argentina\",\"DEST_COUNTRY_NAME\":\"United States\",\"count\":159}\\n{\"ORIGIN_COUNTRY_NAME\":\"United States\",\"DEST_COUNTRY_NAME\":\"Spain\",\"count\":422}\\n{\"ORIGIN_COUNTRY_NAME\":\"United States\",\"DEST_COUNTRY_NAME\":\"Netherlands Antilles\",\"count\":286}\\n{\"ORIGIN_COUNTRY_NAME\":\"United States\",\"DEST_COUNTRY_NAME\":\"Bermuda\",\"count\":183}\\n{\"ORIGIN_COUNTRY_NAME\":\"Austria\",\"DEST_COUNTRY_NAME\":\"United States\",\"count\":34}\\n{\"ORIGIN_COUNTRY_NAME\":\"Nigeria\",\"DEST_COUNTRY_NAME\":\"United States\",\"count\":18}\\n{\"ORIGIN_COUNTRY_NAME\":\"Bonaire, Sint Eustatius, and Saba\",\"DEST_COUNTRY_NAME\":\"United States\",\"count\":16}\\n{\"ORIGIN_COUNTRY_NAME\":\"United States\",\"DEST_COUNTRY_NAME\":\"Kiribati\",\"count\":17}\\n{\"ORIGIN_COUNTRY_NAME\":\"United States\",\"DEST_COUNTRY_NAME\":\"Saudi Arabia\",\"count\":42}\\n{\"ORIGIN_COUNTRY_NAME\":\"United States\",\"DEST_COUNTRY_NAME\":\"Czech Republic\",\"count\":21}\\n{\"ORIGIN_COUNTRY_NAME\":\"United States\",\"DEST_COUNTRY_NAME\":\"Belgium\",\"count\":408}\\n{\"ORIGIN_COUNTRY_NAME\":\"Israel\",\"DEST_COUNTRY_NAME\":\"United States\",\"count\":122}\\n{\"ORIGIN_COUNTRY_NAME\":\"Bahrain\",\"DEST_COUNTRY_NAME\":\"United States\",\"count\":1}\\n{\"ORIGIN_COUNTRY_NAME\":\"Saint Lucia\",\"DEST_COUNTRY_NAME\":\"United States\",\"count\":121}\\n{\"ORIGIN_COUNTRY_NAME\":\"United States\",\"DEST_COUNTRY_NAME\":\"Afghanistan\",\"count\":11}\\n{\"ORIGIN_COUNTRY_NAME\":\"British Virgin Islands\",\"DEST_COUNTRY_NAME\":\"United States\",\"count\":47}\\n{\"ORIGIN_COUNTRY_NAME\":\"United States\",\"DEST_COUNTRY_NAME\":\"Curacao\",\"count\":20}\\n{\"ORIGIN_COUNTRY_NAME\":\"United States\",\"DEST_COUNTRY_NAME\":\"Georgia\",\"count\":2}\\n{\"ORIGIN_COUNTRY_NAME\":\"Guyana\",\"DEST_COUNTRY_NAME\":\"United States\",\"count\":20}\\n{\"ORIGIN_COUNTRY_NAME\":\"Denmark\",\"DEST_COUNTRY_NAME\":\"United States\",\"count\":107}\\n{\"ORIGIN_COUNTRY_NAME\":\"United States\",\"DEST_COUNTRY_NAME\":\"Philippines\",\"count\":132}\\n{\"ORIGIN_COUNTRY_NAME\":\"United States\",\"DEST_COUNTRY_NAME\":\"Grenada\",\"count\":65}\\n{\"ORIGIN_COUNTRY_NAME\":\"United States\",\"DEST_COUNTRY_NAME\":\"Cape Verde\",\"count\":18}\\n{\"ORIGIN_COUNTRY_NAME\":\"United States\",\"DEST_COUNTRY_NAME\":\"Ukraine\",\"count\":19}\\n{\"ORIGIN_COUNTRY_NAME\":\"Papua New Guinea\",\"DEST_COUNTRY_NAME\":\"United States\",\"count\":1}\\n{\"ORIGIN_COUNTRY_NAME\":\"Saudi Arabia\",\"DEST_COUNTRY_NAME\":\"United States\",\"count\":54}\\n{\"ORIGIN_COUNTRY_NAME\":\"United States\",\"DEST_COUNTRY_NAME\":\"Russia\",\"count\":152}\\n{\"ORIGIN_COUNTRY_NAME\":\"United States\",\"DEST_COUNTRY_NAME\":\"Guatemala\",\"count\":386}\\n{\"ORIGIN_COUNTRY_NAME\":\"United States\",\"DEST_COUNTRY_NAME\":\"Saint Lucia\",\"count\":116}\\n{\"ORIGIN_COUNTRY_NAME\":\"United States\",\"DEST_COUNTRY_NAME\":\"Paraguay\",\"count\":90}\\n{\"ORIGIN_COUNTRY_NAME\":\"Curacao\",\"DEST_COUNTRY_NAME\":\"United States\",\"count\":14}\\n{\"ORIGIN_COUNTRY_NAME\":\"Taiwan\",\"DEST_COUNTRY_NAME\":\"United States\",\"count\":252}\\n{\"ORIGIN_COUNTRY_NAME\":\"South Africa\",\"DEST_COUNTRY_NAME\":\"United States\",\"count\":15}\\n{\"ORIGIN_COUNTRY_NAME\":\"United States\",\"DEST_COUNTRY_NAME\":\"Turkey\",\"count\":75}\\n{\"ORIGIN_COUNTRY_NAME\":\"United States\",\"DEST_COUNTRY_NAME\":\"United Kingdom\",\"count\":1629}\\n{\"ORIGIN_COUNTRY_NAME\":\"Greenland\",\"DEST_COUNTRY_NAME\":\"United States\",\"count\":2}\\n{\"ORIGIN_COUNTRY_NAME\":\"Spain\",\"DEST_COUNTRY_NAME\":\"United States\",\"count\":442}\\n{\"ORIGIN_COUNTRY_NAME\":\"United States\",\"DEST_COUNTRY_NAME\":\"Cuba\",\"count\":243}\\n{\"ORIGIN_COUNTRY_NAME\":\"Italy\",\"DEST_COUNTRY_NAME\":\"United States\",\"count\":433}\\n{\"ORIGIN_COUNTRY_NAME\":\"Switzerland\",\"DEST_COUNTRY_NAME\":\"United States\",\"count\":334}\\n{\"ORIGIN_COUNTRY_NAME\":\"United States\",\"DEST_COUNTRY_NAME\":\"Dominica\",\"count\":28}\\n{\"ORIGIN_COUNTRY_NAME\":\"Japan\",\"DEST_COUNTRY_NAME\":\"United States\",\"count\":1307}\\n{\"ORIGIN_COUNTRY_NAME\":\"United States\",\"DEST_COUNTRY_NAME\":\"Portugal\",\"count\":102}\\n{\"ORIGIN_COUNTRY_NAME\":\"Brazil\",\"DEST_COUNTRY_NAME\":\"United States\",\"count\":578}\\n{\"ORIGIN_COUNTRY_NAME\":\"United States\",\"DEST_COUNTRY_NAME\":\"Bahrain\",\"count\":30}\\n{\"ORIGIN_COUNTRY_NAME\":\"Peru\",\"DEST_COUNTRY_NAME\":\"United States\",\"count\":284}\\n{\"ORIGIN_COUNTRY_NAME\":\"United States\",\"DEST_COUNTRY_NAME\":\"Vietnam\",\"count\":1}\\n{\"ORIGIN_COUNTRY_NAME\":\"United Kingdom\",\"DEST_COUNTRY_NAME\":\"United States\",\"count\":1503}\\n{\"ORIGIN_COUNTRY_NAME\":\"Belize\",\"DEST_COUNTRY_NAME\":\"United States\",\"count\":118}\\n{\"ORIGIN_COUNTRY_NAME\":\"United States\",\"DEST_COUNTRY_NAME\":\"Belize\",\"count\":121}\\n{\"ORIGIN_COUNTRY_NAME\":\"Ghana\",\"DEST_COUNTRY_NAME\":\"United States\",\"count\":28}\\n{\"ORIGIN_COUNTRY_NAME\":\"Indonesia\",\"DEST_COUNTRY_NAME\":\"United States\",\"count\":1}\\n{\"ORIGIN_COUNTRY_NAME\":\"Fiji\",\"DEST_COUNTRY_NAME\":\"United States\",\"count\":51}\\n{\"ORIGIN_COUNTRY_NAME\":\"Canada\",\"DEST_COUNTRY_NAME\":\"United States\",\"count\":8305}\\n{\"ORIGIN_COUNTRY_NAME\":\"French Polynesia\",\"DEST_COUNTRY_NAME\":\"United States\",\"count\":38}\\n{\"ORIGIN_COUNTRY_NAME\":\"Antigua and Barbuda\",\"DEST_COUNTRY_NAME\":\"United States\",\"count\":121}\\n{\"ORIGIN_COUNTRY_NAME\":\"Burkina Faso\",\"DEST_COUNTRY_NAME\":\"United States\",\"count\":1}\\n{\"ORIGIN_COUNTRY_NAME\":\"United States\",\"DEST_COUNTRY_NAME\":\"Nicaragua\",\"count\":178}\\n{\"ORIGIN_COUNTRY_NAME\":\"Latvia\",\"DEST_COUNTRY_NAME\":\"United States\",\"count\":13}\\n{\"ORIGIN_COUNTRY_NAME\":\"Dominica\",\"DEST_COUNTRY_NAME\":\"United States\",\"count\":32}\\n{\"ORIGIN_COUNTRY_NAME\":\"Czech Republic\",\"DEST_COUNTRY_NAME\":\"United States\",\"count\":22}\\n{\"ORIGIN_COUNTRY_NAME\":\"Australia\",\"DEST_COUNTRY_NAME\":\"United States\",\"count\":216}\\n{\"ORIGIN_COUNTRY_NAME\":\"United States\",\"DEST_COUNTRY_NAME\":\"Austria\",\"count\":36}\\n{\"ORIGIN_COUNTRY_NAME\":\"Cook Islands\",\"DEST_COUNTRY_NAME\":\"United States\",\"count\":12}\\n{\"ORIGIN_COUNTRY_NAME\":\"United States\",\"DEST_COUNTRY_NAME\":\"Jordan\",\"count\":50}\\n{\"ORIGIN_COUNTRY_NAME\":\"United States\",\"DEST_COUNTRY_NAME\":\"Palau\",\"count\":31}\\n{\"ORIGIN_COUNTRY_NAME\":\"United States\",\"DEST_COUNTRY_NAME\":\"Uganda\",\"count\":2}\\n{\"ORIGIN_COUNTRY_NAME\":\"Cameroon\",\"DEST_COUNTRY_NAME\":\"United States\",\"count\":1}\\n{\"ORIGIN_COUNTRY_NAME\":\"United States\",\"DEST_COUNTRY_NAME\":\"South Korea\",\"count\":683}\\n{\"ORIGIN_COUNTRY_NAME\":\"United States\",\"DEST_COUNTRY_NAME\":\"Angola\",\"count\":14}\\n{\"ORIGIN_COUNTRY_NAME\":\"United States\",\"DEST_COUNTRY_NAME\":\"Ghana\",\"count\":27}\\n{\"ORIGIN_COUNTRY_NAME\":\"United States\",\"DEST_COUNTRY_NAME\":\"Guadeloupe\",\"count\":40}\\n{\"ORIGIN_COUNTRY_NAME\":\"United States\",\"DEST_COUNTRY_NAME\":\"France\",\"count\":774}\\n{\"ORIGIN_COUNTRY_NAME\":\"Kyrgyzstan\",\"DEST_COUNTRY_NAME\":\"United States\",\"count\":12}\\n{\"ORIGIN_COUNTRY_NAME\":\"United States\",\"DEST_COUNTRY_NAME\":\"Poland\",\"count\":62}\\n{\"ORIGIN_COUNTRY_NAME\":\"United States\",\"DEST_COUNTRY_NAME\":\"Nigeria\",\"count\":16}\\n{\"ORIGIN_COUNTRY_NAME\":\"Uruguay\",\"DEST_COUNTRY_NAME\":\"United States\",\"count\":24}\\n{\"ORIGIN_COUNTRY_NAME\":\"United States\",\"DEST_COUNTRY_NAME\":\"Greenland\",\"count\":2}\\n{\"ORIGIN_COUNTRY_NAME\":\"United States\",\"DEST_COUNTRY_NAME\":\"Chile\",\"count\":166}\\n{\"ORIGIN_COUNTRY_NAME\":\"Bermuda\",\"DEST_COUNTRY_NAME\":\"United States\",\"count\":180}\\n{\"ORIGIN_COUNTRY_NAME\":\"Cuba\",\"DEST_COUNTRY_NAME\":\"United States\",\"count\":235}\\n{\"ORIGIN_COUNTRY_NAME\":\"Colombia\",\"DEST_COUNTRY_NAME\":\"United States\",\"count\":832}\\n{\"ORIGIN_COUNTRY_NAME\":\"Qatar\",\"DEST_COUNTRY_NAME\":\"United States\",\"count\":40}\\n{\"ORIGIN_COUNTRY_NAME\":\"Barbados\",\"DEST_COUNTRY_NAME\":\"United States\",\"count\":119}\\n{\"ORIGIN_COUNTRY_NAME\":\"United States\",\"DEST_COUNTRY_NAME\":\"Australia\",\"count\":290}\\n{\"ORIGIN_COUNTRY_NAME\":\"Jordan\",\"DEST_COUNTRY_NAME\":\"United States\",\"count\":51}\\n{\"ORIGIN_COUNTRY_NAME\":\"Cayman Islands\",\"DEST_COUNTRY_NAME\":\"United States\",\"count\":251}\\n{\"ORIGIN_COUNTRY_NAME\":\"Trinidad and Tobago\",\"DEST_COUNTRY_NAME\":\"United States\",\"count\":200}\\n{\"ORIGIN_COUNTRY_NAME\":\"Bolivia\",\"DEST_COUNTRY_NAME\":\"United States\",\"count\":39}\\n{\"ORIGIN_COUNTRY_NAME\":\"Slovakia\",\"DEST_COUNTRY_NAME\":\"United States\",\"count\":1}\\n{\"ORIGIN_COUNTRY_NAME\":\"United States\",\"DEST_COUNTRY_NAME\":\"Uruguay\",\"count\":54}\\n{\"ORIGIN_COUNTRY_NAME\":\"United States\",\"DEST_COUNTRY_NAME\":\"Cook Islands\",\"count\":13}\\n{\"ORIGIN_COUNTRY_NAME\":\"Saint Kitts and Nevis\",\"DEST_COUNTRY_NAME\":\"United States\",\"count\":127}\\n{\"ORIGIN_COUNTRY_NAME\":\"United States\",\"DEST_COUNTRY_NAME\":\"Bulgaria\",\"count\":1}\\n{\"ORIGIN_COUNTRY_NAME\":\"French Guiana\",\"DEST_COUNTRY_NAME\":\"United States\",\"count\":1}\\n{\"ORIGIN_COUNTRY_NAME\":\"Haiti\",\"DEST_COUNTRY_NAME\":\"United States\",\"count\":226}\\n{\"ORIGIN_COUNTRY_NAME\":\"Uganda\",\"DEST_COUNTRY_NAME\":\"United States\",\"count\":1}\\n{\"ORIGIN_COUNTRY_NAME\":\"United States\",\"DEST_COUNTRY_NAME\":\"Bonaire, Sint Eustatius, and Saba\",\"count\":16}\\n{\"ORIGIN_COUNTRY_NAME\":\"United States\",\"DEST_COUNTRY_NAME\":\"Greece\",\"count\":50}\\n'), ('file:/home/ail/Spark/data/flight-data/json/2011-summary.json', '{\"ORIGIN_COUNTRY_NAME\":\"Saint Martin\",\"DEST_COUNTRY_NAME\":\"United States\",\"count\":2}\\n{\"ORIGIN_COUNTRY_NAME\":\"Guinea\",\"DEST_COUNTRY_NAME\":\"United States\",\"count\":2}\\n{\"ORIGIN_COUNTRY_NAME\":\"Croatia\",\"DEST_COUNTRY_NAME\":\"United States\",\"count\":1}\\n{\"ORIGIN_COUNTRY_NAME\":\"Romania\",\"DEST_COUNTRY_NAME\":\"United States\",\"count\":3}\\n{\"ORIGIN_COUNTRY_NAME\":\"Ireland\",\"DEST_COUNTRY_NAME\":\"United States\",\"count\":268}\\n{\"ORIGIN_COUNTRY_NAME\":\"United States\",\"DEST_COUNTRY_NAME\":\"Egypt\",\"count\":13}\\n{\"ORIGIN_COUNTRY_NAME\":\"India\",\"DEST_COUNTRY_NAME\":\"United States\",\"count\":76}\\n{\"ORIGIN_COUNTRY_NAME\":\"Singapore\",\"DEST_COUNTRY_NAME\":\"United States\",\"count\":24}\\n{\"ORIGIN_COUNTRY_NAME\":\"Grenada\",\"DEST_COUNTRY_NAME\":\"United States\",\"count\":59}\\n{\"ORIGIN_COUNTRY_NAME\":\"United States\",\"DEST_COUNTRY_NAME\":\"Costa Rica\",\"count\":494}\\n{\"ORIGIN_COUNTRY_NAME\":\"United States\",\"DEST_COUNTRY_NAME\":\"Senegal\",\"count\":29}\\n{\"ORIGIN_COUNTRY_NAME\":\"United States\",\"DEST_COUNTRY_NAME\":\"Guyana\",\"count\":26}\\n{\"ORIGIN_COUNTRY_NAME\":\"Marshall Islands\",\"DEST_COUNTRY_NAME\":\"United States\",\"count\":49}\\n{\"ORIGIN_COUNTRY_NAME\":\"Sint Maarten\",\"DEST_COUNTRY_NAME\":\"United States\",\"count\":223}\\n{\"ORIGIN_COUNTRY_NAME\":\"United States\",\"DEST_COUNTRY_NAME\":\"Malta\",\"count\":1}\\n{\"ORIGIN_COUNTRY_NAME\":\"United States\",\"DEST_COUNTRY_NAME\":\"Bolivia\",\"count\":61}\\n{\"ORIGIN_COUNTRY_NAME\":\"United States\",\"DEST_COUNTRY_NAME\":\"Anguilla\",\"count\":21}\\n{\"ORIGIN_COUNTRY_NAME\":\"Paraguay\",\"DEST_COUNTRY_NAME\":\"United States\",\"count\":3}\\n{\"ORIGIN_COUNTRY_NAME\":\"Gibraltar\",\"DEST_COUNTRY_NAME\":\"United States\",\"count\":1}\\n{\"ORIGIN_COUNTRY_NAME\":\"United States\",\"DEST_COUNTRY_NAME\":\"Turks and Caicos Islands\",\"count\":163}\\n{\"ORIGIN_COUNTRY_NAME\":\"Afghanistan\",\"DEST_COUNTRY_NAME\":\"United States\",\"count\":3}\\n{\"ORIGIN_COUNTRY_NAME\":\"United States\",\"DEST_COUNTRY_NAME\":\"Saint Vincent and the Grenadines\",\"count\":6}\\n{\"ORIGIN_COUNTRY_NAME\":\"United States\",\"DEST_COUNTRY_NAME\":\"Italy\",\"count\":428}\\n{\"ORIGIN_COUNTRY_NAME\":\"Russia\",\"DEST_COUNTRY_NAME\":\"United States\",\"count\":153}\\n{\"ORIGIN_COUNTRY_NAME\":\"Federated States of Micronesia\",\"DEST_COUNTRY_NAME\":\"United States\",\"count\":54}\\n{\"ORIGIN_COUNTRY_NAME\":\"United States\",\"DEST_COUNTRY_NAME\":\"Pakistan\",\"count\":12}\\n{\"ORIGIN_COUNTRY_NAME\":\"United States\",\"DEST_COUNTRY_NAME\":\"Iceland\",\"count\":113}\\n{\"ORIGIN_COUNTRY_NAME\":\"Netherlands\",\"DEST_COUNTRY_NAME\":\"United States\",\"count\":622}\\n{\"ORIGIN_COUNTRY_NAME\":\"United States\",\"DEST_COUNTRY_NAME\":\"Marshall Islands\",\"count\":81}\\n{\"ORIGIN_COUNTRY_NAME\":\"United States\",\"DEST_COUNTRY_NAME\":\"Luxembourg\",\"count\":120}\\n{\"ORIGIN_COUNTRY_NAME\":\"United States\",\"DEST_COUNTRY_NAME\":\"Honduras\",\"count\":386}\\n{\"ORIGIN_COUNTRY_NAME\":\"United States\",\"DEST_COUNTRY_NAME\":\"The Bahamas\",\"count\":811}\\n{\"ORIGIN_COUNTRY_NAME\":\"United States\",\"DEST_COUNTRY_NAME\":\"El Salvador\",\"count\":495}\\n{\"ORIGIN_COUNTRY_NAME\":\"Senegal\",\"DEST_COUNTRY_NAME\":\"United States\",\"count\":33}\\n{\"ORIGIN_COUNTRY_NAME\":\"United States\",\"DEST_COUNTRY_NAME\":\"Samoa\",\"count\":25}\\n{\"ORIGIN_COUNTRY_NAME\":\"Angola\",\"DEST_COUNTRY_NAME\":\"United States\",\"count\":12}\\n{\"ORIGIN_COUNTRY_NAME\":\"United States\",\"DEST_COUNTRY_NAME\":\"Switzerland\",\"count\":314}\\n{\"ORIGIN_COUNTRY_NAME\":\"Anguilla\",\"DEST_COUNTRY_NAME\":\"United States\",\"count\":20}\\n{\"ORIGIN_COUNTRY_NAME\":\"United States\",\"DEST_COUNTRY_NAME\":\"Sint Maarten\",\"count\":240}\\n{\"ORIGIN_COUNTRY_NAME\":\"United States\",\"DEST_COUNTRY_NAME\":\"Hong Kong\",\"count\":282}\\n{\"ORIGIN_COUNTRY_NAME\":\"United States\",\"DEST_COUNTRY_NAME\":\"Trinidad and Tobago\",\"count\":205}\\n{\"ORIGIN_COUNTRY_NAME\":\"United States\",\"DEST_COUNTRY_NAME\":\"Latvia\",\"count\":12}\\n{\"ORIGIN_COUNTRY_NAME\":\"United States\",\"DEST_COUNTRY_NAME\":\"Yemen\",\"count\":1}\\n{\"ORIGIN_COUNTRY_NAME\":\"Ecuador\",\"DEST_COUNTRY_NAME\":\"United States\",\"count\":351}\\n{\"ORIGIN_COUNTRY_NAME\":\"United States\",\"DEST_COUNTRY_NAME\":\"Suriname\",\"count\":11}\\n{\"ORIGIN_COUNTRY_NAME\":\"United States\",\"DEST_COUNTRY_NAME\":\"Mexico\",\"count\":5953}\\n{\"ORIGIN_COUNTRY_NAME\":\"Cyprus\",\"DEST_COUNTRY_NAME\":\"United States\",\"count\":1}\\n{\"ORIGIN_COUNTRY_NAME\":\"United States\",\"DEST_COUNTRY_NAME\":\"Ecuador\",\"count\":280}\\n{\"ORIGIN_COUNTRY_NAME\":\"Portugal\",\"DEST_COUNTRY_NAME\":\"United States\",\"count\":109}\\n{\"ORIGIN_COUNTRY_NAME\":\"Guatemala\",\"DEST_COUNTRY_NAME\":\"United States\",\"count\":340}\\n{\"ORIGIN_COUNTRY_NAME\":\"Costa Rica\",\"DEST_COUNTRY_NAME\":\"United States\",\"count\":526}\\n{\"ORIGIN_COUNTRY_NAME\":\"Suriname\",\"DEST_COUNTRY_NAME\":\"United States\",\"count\":20}\\n{\"ORIGIN_COUNTRY_NAME\":\"United States\",\"DEST_COUNTRY_NAME\":\"Colombia\",\"count\":707}\\n{\"ORIGIN_COUNTRY_NAME\":\"Cape Verde\",\"DEST_COUNTRY_NAME\":\"United States\",\"count\":19}\\n{\"ORIGIN_COUNTRY_NAME\":\"Jamaica\",\"DEST_COUNTRY_NAME\":\"United States\",\"count\":695}\\n{\"ORIGIN_COUNTRY_NAME\":\"United States\",\"DEST_COUNTRY_NAME\":\"Norway\",\"count\":25}\\n{\"ORIGIN_COUNTRY_NAME\":\"Malaysia\",\"DEST_COUNTRY_NAME\":\"United States\",\"count\":1}\\n{\"ORIGIN_COUNTRY_NAME\":\"United States\",\"DEST_COUNTRY_NAME\":\"The Gambia\",\"count\":1}\\n{\"ORIGIN_COUNTRY_NAME\":\"Morocco\",\"DEST_COUNTRY_NAME\":\"United States\",\"count\":17}\\n{\"ORIGIN_COUNTRY_NAME\":\"United States\",\"DEST_COUNTRY_NAME\":\"Thailand\",\"count\":12}\\n{\"ORIGIN_COUNTRY_NAME\":\"Palau\",\"DEST_COUNTRY_NAME\":\"United States\",\"count\":41}\\n{\"ORIGIN_COUNTRY_NAME\":\"United States\",\"DEST_COUNTRY_NAME\":\"Venezuela\",\"count\":373}\\n{\"ORIGIN_COUNTRY_NAME\":\"Samoa\",\"DEST_COUNTRY_NAME\":\"United States\",\"count\":25}\\n{\"ORIGIN_COUNTRY_NAME\":\"Algeria\",\"DEST_COUNTRY_NAME\":\"United States\",\"count\":1}\\n{\"ORIGIN_COUNTRY_NAME\":\"United States\",\"DEST_COUNTRY_NAME\":\"Panama\",\"count\":397}\\n{\"ORIGIN_COUNTRY_NAME\":\"Venezuela\",\"DEST_COUNTRY_NAME\":\"United States\",\"count\":352}\\n{\"ORIGIN_COUNTRY_NAME\":\"United States\",\"DEST_COUNTRY_NAME\":\"Guinea\",\"count\":5}\\n{\"ORIGIN_COUNTRY_NAME\":\"United States\",\"DEST_COUNTRY_NAME\":\"Antigua and Barbuda\",\"count\":146}\\n{\"ORIGIN_COUNTRY_NAME\":\"Finland\",\"DEST_COUNTRY_NAME\":\"United States\",\"count\":32}\\n{\"ORIGIN_COUNTRY_NAME\":\"Chile\",\"DEST_COUNTRY_NAME\":\"United States\",\"count\":182}\\n{\"ORIGIN_COUNTRY_NAME\":\"Greece\",\"DEST_COUNTRY_NAME\":\"United States\",\"count\":45}\\n{\"ORIGIN_COUNTRY_NAME\":\"United States\",\"DEST_COUNTRY_NAME\":\"Morocco\",\"count\":19}\\n{\"ORIGIN_COUNTRY_NAME\":\"The Bahamas\",\"DEST_COUNTRY_NAME\":\"United States\",\"count\":888}\\n{\"ORIGIN_COUNTRY_NAME\":\"Brunei\",\"DEST_COUNTRY_NAME\":\"United States\",\"count\":1}\\n{\"ORIGIN_COUNTRY_NAME\":\"United States\",\"DEST_COUNTRY_NAME\":\"New Zealand\",\"count\":96}\\n{\"ORIGIN_COUNTRY_NAME\":\"Hong Kong\",\"DEST_COUNTRY_NAME\":\"United States\",\"count\":317}\\n{\"ORIGIN_COUNTRY_NAME\":\"United States\",\"DEST_COUNTRY_NAME\":\"Hungary\",\"count\":13}\\n{\"ORIGIN_COUNTRY_NAME\":\"China\",\"DEST_COUNTRY_NAME\":\"United States\",\"count\":605}\\n{\"ORIGIN_COUNTRY_NAME\":\"United States\",\"DEST_COUNTRY_NAME\":\"Sweden\",\"count\":59}\\n{\"ORIGIN_COUNTRY_NAME\":\"Kuwait\",\"DEST_COUNTRY_NAME\":\"United States\",\"count\":27}\\n{\"ORIGIN_COUNTRY_NAME\":\"Dominican Republic\",\"DEST_COUNTRY_NAME\":\"United States\",\"count\":1100}\\n{\"ORIGIN_COUNTRY_NAME\":\"Egypt\",\"DEST_COUNTRY_NAME\":\"United States\",\"count\":15}\\n{\"ORIGIN_COUNTRY_NAME\":\"United States\",\"DEST_COUNTRY_NAME\":\"Israel\",\"count\":121}\\n{\"ORIGIN_COUNTRY_NAME\":\"United States\",\"DEST_COUNTRY_NAME\":\"United States\",\"count\":352742}\\n{\"ORIGIN_COUNTRY_NAME\":\"Luxembourg\",\"DEST_COUNTRY_NAME\":\"United States\",\"count\":170}\\n{\"ORIGIN_COUNTRY_NAME\":\"United States\",\"DEST_COUNTRY_NAME\":\"Ethiopia\",\"count\":12}\\n{\"ORIGIN_COUNTRY_NAME\":\"Poland\",\"DEST_COUNTRY_NAME\":\"United States\",\"count\":42}\\n{\"ORIGIN_COUNTRY_NAME\":\"United States\",\"DEST_COUNTRY_NAME\":\"Martinique\",\"count\":20}\\n{\"ORIGIN_COUNTRY_NAME\":\"United States\",\"DEST_COUNTRY_NAME\":\"Saint Barthelemy\",\"count\":38}\\n{\"ORIGIN_COUNTRY_NAME\":\"Saint Barthelemy\",\"DEST_COUNTRY_NAME\":\"United States\",\"count\":39}\\n{\"ORIGIN_COUNTRY_NAME\":\"United States\",\"DEST_COUNTRY_NAME\":\"Barbados\",\"count\":129}\\n{\"ORIGIN_COUNTRY_NAME\":\"Turkey\",\"DEST_COUNTRY_NAME\":\"United States\",\"count\":99}\\n{\"ORIGIN_COUNTRY_NAME\":\"Azerbaijan\",\"DEST_COUNTRY_NAME\":\"United States\",\"count\":3}\\n{\"ORIGIN_COUNTRY_NAME\":\"United States\",\"DEST_COUNTRY_NAME\":\"Germany\",\"count\":1423}\\n{\"ORIGIN_COUNTRY_NAME\":\"South Korea\",\"DEST_COUNTRY_NAME\":\"United States\",\"count\":661}\\n{\"ORIGIN_COUNTRY_NAME\":\"El Salvador\",\"DEST_COUNTRY_NAME\":\"United States\",\"count\":443}\\n{\"ORIGIN_COUNTRY_NAME\":\"United States\",\"DEST_COUNTRY_NAME\":\"Ireland\",\"count\":250}\\n{\"ORIGIN_COUNTRY_NAME\":\"Hungary\",\"DEST_COUNTRY_NAME\":\"United States\",\"count\":17}\\n{\"ORIGIN_COUNTRY_NAME\":\"United States\",\"DEST_COUNTRY_NAME\":\"Malaysia\",\"count\":2}\\n{\"ORIGIN_COUNTRY_NAME\":\"Panama\",\"DEST_COUNTRY_NAME\":\"United States\",\"count\":380}\\n{\"ORIGIN_COUNTRY_NAME\":\"Ethiopia\",\"DEST_COUNTRY_NAME\":\"United States\",\"count\":12}\\n{\"ORIGIN_COUNTRY_NAME\":\"Thailand\",\"DEST_COUNTRY_NAME\":\"United States\",\"count\":14}\\n{\"ORIGIN_COUNTRY_NAME\":\"Aruba\",\"DEST_COUNTRY_NAME\":\"United States\",\"count\":332}\\n{\"ORIGIN_COUNTRY_NAME\":\"Turks and Caicos Islands\",\"DEST_COUNTRY_NAME\":\"United States\",\"count\":177}\\n{\"ORIGIN_COUNTRY_NAME\":\"United States\",\"DEST_COUNTRY_NAME\":\"Croatia\",\"count\":2}\\n{\"ORIGIN_COUNTRY_NAME\":\"Pakistan\",\"DEST_COUNTRY_NAME\":\"United States\",\"count\":24}\\n{\"ORIGIN_COUNTRY_NAME\":\"Honduras\",\"DEST_COUNTRY_NAME\":\"United States\",\"count\":388}\\n{\"ORIGIN_COUNTRY_NAME\":\"United States\",\"DEST_COUNTRY_NAME\":\"Qatar\",\"count\":48}\\n{\"ORIGIN_COUNTRY_NAME\":\"United States\",\"DEST_COUNTRY_NAME\":\"Fiji\",\"count\":49}\\n{\"ORIGIN_COUNTRY_NAME\":\"United States\",\"DEST_COUNTRY_NAME\":\"Saint Kitts and Nevis\",\"count\":105}\\n{\"ORIGIN_COUNTRY_NAME\":\"United States\",\"DEST_COUNTRY_NAME\":\"Taiwan\",\"count\":248}\\n{\"ORIGIN_COUNTRY_NAME\":\"United States\",\"DEST_COUNTRY_NAME\":\"Haiti\",\"count\":188}\\n{\"ORIGIN_COUNTRY_NAME\":\"United States\",\"DEST_COUNTRY_NAME\":\"Kuwait\",\"count\":27}\\n{\"ORIGIN_COUNTRY_NAME\":\"United States\",\"DEST_COUNTRY_NAME\":\"Canada\",\"count\":8514}\\n{\"ORIGIN_COUNTRY_NAME\":\"United States\",\"DEST_COUNTRY_NAME\":\"Belarus\",\"count\":1}\\n{\"ORIGIN_COUNTRY_NAME\":\"United States\",\"DEST_COUNTRY_NAME\":\"Federated States of Micronesia\",\"count\":48}\\n{\"ORIGIN_COUNTRY_NAME\":\"United States\",\"DEST_COUNTRY_NAME\":\"Jamaica\",\"count\":675}\\n{\"ORIGIN_COUNTRY_NAME\":\"Malta\",\"DEST_COUNTRY_NAME\":\"United States\",\"count\":3}\\n{\"ORIGIN_COUNTRY_NAME\":\"United States\",\"DEST_COUNTRY_NAME\":\"Dominican Republic\",\"count\":1020}\\n{\"ORIGIN_COUNTRY_NAME\":\"United States\",\"DEST_COUNTRY_NAME\":\"Japan\",\"count\":1532}\\n{\"ORIGIN_COUNTRY_NAME\":\"Lithuania\",\"DEST_COUNTRY_NAME\":\"United States\",\"count\":1}\\n{\"ORIGIN_COUNTRY_NAME\":\"Saint Vincent and the Grenadines\",\"DEST_COUNTRY_NAME\":\"United States\",\"count\":17}\\n{\"ORIGIN_COUNTRY_NAME\":\"United States\",\"DEST_COUNTRY_NAME\":\"Finland\",\"count\":33}\\n{\"ORIGIN_COUNTRY_NAME\":\"Ukraine\",\"DEST_COUNTRY_NAME\":\"United States\",\"count\":15}\\n{\"ORIGIN_COUNTRY_NAME\":\"Guadeloupe\",\"DEST_COUNTRY_NAME\":\"United States\",\"count\":31}\\n{\"ORIGIN_COUNTRY_NAME\":\"France\",\"DEST_COUNTRY_NAME\":\"United States\",\"count\":914}\\n{\"ORIGIN_COUNTRY_NAME\":\"United States\",\"DEST_COUNTRY_NAME\":\"Aruba\",\"count\":347}\\n{\"ORIGIN_COUNTRY_NAME\":\"United States\",\"DEST_COUNTRY_NAME\":\"French Guiana\",\"count\":14}\\n{\"ORIGIN_COUNTRY_NAME\":\"Norway\",\"DEST_COUNTRY_NAME\":\"United States\",\"count\":33}\\n{\"ORIGIN_COUNTRY_NAME\":\"Kiribati\",\"DEST_COUNTRY_NAME\":\"United States\",\"count\":28}\\n{\"ORIGIN_COUNTRY_NAME\":\"United States\",\"DEST_COUNTRY_NAME\":\"India\",\"count\":73}\\n{\"ORIGIN_COUNTRY_NAME\":\"United States\",\"DEST_COUNTRY_NAME\":\"British Virgin Islands\",\"count\":73}\\n{\"ORIGIN_COUNTRY_NAME\":\"Germany\",\"DEST_COUNTRY_NAME\":\"United States\",\"count\":1480}\\n{\"ORIGIN_COUNTRY_NAME\":\"United States\",\"DEST_COUNTRY_NAME\":\"Brazil\",\"count\":969}\\n{\"ORIGIN_COUNTRY_NAME\":\"New Zealand\",\"DEST_COUNTRY_NAME\":\"United States\",\"count\":77}\\n{\"ORIGIN_COUNTRY_NAME\":\"United States\",\"DEST_COUNTRY_NAME\":\"French Polynesia\",\"count\":36}\\n{\"ORIGIN_COUNTRY_NAME\":\"United States\",\"DEST_COUNTRY_NAME\":\"United Arab Emirates\",\"count\":157}\\n{\"ORIGIN_COUNTRY_NAME\":\"United States\",\"DEST_COUNTRY_NAME\":\"Singapore\",\"count\":27}\\n{\"ORIGIN_COUNTRY_NAME\":\"Mexico\",\"DEST_COUNTRY_NAME\":\"United States\",\"count\":6000}\\n{\"ORIGIN_COUNTRY_NAME\":\"United States\",\"DEST_COUNTRY_NAME\":\"Netherlands\",\"count\":635}\\n{\"ORIGIN_COUNTRY_NAME\":\"Sweden\",\"DEST_COUNTRY_NAME\":\"United States\",\"count\":68}\\n{\"ORIGIN_COUNTRY_NAME\":\"Martinique\",\"DEST_COUNTRY_NAME\":\"United States\",\"count\":20}\\n{\"ORIGIN_COUNTRY_NAME\":\"United Arab Emirates\",\"DEST_COUNTRY_NAME\":\"United States\",\"count\":142}\\n{\"ORIGIN_COUNTRY_NAME\":\"United States\",\"DEST_COUNTRY_NAME\":\"China\",\"count\":504}\\n{\"ORIGIN_COUNTRY_NAME\":\"Philippines\",\"DEST_COUNTRY_NAME\":\"United States\",\"count\":109}\\n{\"ORIGIN_COUNTRY_NAME\":\"Nicaragua\",\"DEST_COUNTRY_NAME\":\"United States\",\"count\":173}\\n{\"ORIGIN_COUNTRY_NAME\":\"United States\",\"DEST_COUNTRY_NAME\":\"Denmark\",\"count\":95}\\n{\"ORIGIN_COUNTRY_NAME\":\"Georgia\",\"DEST_COUNTRY_NAME\":\"United States\",\"count\":1}\\n{\"ORIGIN_COUNTRY_NAME\":\"Belgium\",\"DEST_COUNTRY_NAME\":\"United States\",\"count\":369}\\n{\"ORIGIN_COUNTRY_NAME\":\"United States\",\"DEST_COUNTRY_NAME\":\"Libya\",\"count\":1}\\n{\"ORIGIN_COUNTRY_NAME\":\"United States\",\"DEST_COUNTRY_NAME\":\"Argentina\",\"count\":183}\\n{\"ORIGIN_COUNTRY_NAME\":\"United States\",\"DEST_COUNTRY_NAME\":\"Peru\",\"count\":246}\\n{\"ORIGIN_COUNTRY_NAME\":\"United States\",\"DEST_COUNTRY_NAME\":\"Cayman Islands\",\"count\":251}\\n{\"ORIGIN_COUNTRY_NAME\":\"United States\",\"DEST_COUNTRY_NAME\":\"South Africa\",\"count\":24}\\n{\"ORIGIN_COUNTRY_NAME\":\"Argentina\",\"DEST_COUNTRY_NAME\":\"United States\",\"count\":152}\\n{\"ORIGIN_COUNTRY_NAME\":\"Iceland\",\"DEST_COUNTRY_NAME\":\"United States\",\"count\":138}\\n{\"ORIGIN_COUNTRY_NAME\":\"United States\",\"DEST_COUNTRY_NAME\":\"Spain\",\"count\":445}\\n{\"ORIGIN_COUNTRY_NAME\":\"United States\",\"DEST_COUNTRY_NAME\":\"Bermuda\",\"count\":191}\\n{\"ORIGIN_COUNTRY_NAME\":\"Austria\",\"DEST_COUNTRY_NAME\":\"United States\",\"count\":34}\\n{\"ORIGIN_COUNTRY_NAME\":\"Nigeria\",\"DEST_COUNTRY_NAME\":\"United States\",\"count\":26}\\n{\"ORIGIN_COUNTRY_NAME\":\"Bonaire, Sint Eustatius, and Saba\",\"DEST_COUNTRY_NAME\":\"United States\",\"count\":49}\\n{\"ORIGIN_COUNTRY_NAME\":\"United States\",\"DEST_COUNTRY_NAME\":\"Kiribati\",\"count\":28}\\n{\"ORIGIN_COUNTRY_NAME\":\"United States\",\"DEST_COUNTRY_NAME\":\"Czech Republic\",\"count\":23}\\n{\"ORIGIN_COUNTRY_NAME\":\"United States\",\"DEST_COUNTRY_NAME\":\"Saudi Arabia\",\"count\":83}\\n{\"ORIGIN_COUNTRY_NAME\":\"United States\",\"DEST_COUNTRY_NAME\":\"Macau\",\"count\":2}\\n{\"ORIGIN_COUNTRY_NAME\":\"United States\",\"DEST_COUNTRY_NAME\":\"Belgium\",\"count\":376}\\n{\"ORIGIN_COUNTRY_NAME\":\"Israel\",\"DEST_COUNTRY_NAME\":\"United States\",\"count\":126}\\n{\"ORIGIN_COUNTRY_NAME\":\"Saint Lucia\",\"DEST_COUNTRY_NAME\":\"United States\",\"count\":102}\\n{\"ORIGIN_COUNTRY_NAME\":\"Bahrain\",\"DEST_COUNTRY_NAME\":\"United States\",\"count\":2}\\n{\"ORIGIN_COUNTRY_NAME\":\"British Virgin Islands\",\"DEST_COUNTRY_NAME\":\"United States\",\"count\":65}\\n{\"ORIGIN_COUNTRY_NAME\":\"United States\",\"DEST_COUNTRY_NAME\":\"Afghanistan\",\"count\":8}\\n{\"ORIGIN_COUNTRY_NAME\":\"United States\",\"DEST_COUNTRY_NAME\":\"Curacao\",\"count\":106}\\n{\"ORIGIN_COUNTRY_NAME\":\"United States\",\"DEST_COUNTRY_NAME\":\"Georgia\",\"count\":1}\\n{\"ORIGIN_COUNTRY_NAME\":\"Guyana\",\"DEST_COUNTRY_NAME\":\"United States\",\"count\":29}\\n{\"ORIGIN_COUNTRY_NAME\":\"United States\",\"DEST_COUNTRY_NAME\":\"Philippines\",\"count\":127}\\n{\"ORIGIN_COUNTRY_NAME\":\"Denmark\",\"DEST_COUNTRY_NAME\":\"United States\",\"count\":103}\\n{\"ORIGIN_COUNTRY_NAME\":\"United States\",\"DEST_COUNTRY_NAME\":\"Grenada\",\"count\":67}\\n{\"ORIGIN_COUNTRY_NAME\":\"United States\",\"DEST_COUNTRY_NAME\":\"Cape Verde\",\"count\":13}\\n{\"ORIGIN_COUNTRY_NAME\":\"United States\",\"DEST_COUNTRY_NAME\":\"Ukraine\",\"count\":15}\\n{\"ORIGIN_COUNTRY_NAME\":\"Papua New Guinea\",\"DEST_COUNTRY_NAME\":\"United States\",\"count\":1}\\n{\"ORIGIN_COUNTRY_NAME\":\"United States\",\"DEST_COUNTRY_NAME\":\"Russia\",\"count\":199}\\n{\"ORIGIN_COUNTRY_NAME\":\"Saudi Arabia\",\"DEST_COUNTRY_NAME\":\"United States\",\"count\":77}\\n{\"ORIGIN_COUNTRY_NAME\":\"United States\",\"DEST_COUNTRY_NAME\":\"Guatemala\",\"count\":407}\\n{\"ORIGIN_COUNTRY_NAME\":\"United States\",\"DEST_COUNTRY_NAME\":\"Saint Lucia\",\"count\":102}\\n{\"ORIGIN_COUNTRY_NAME\":\"United States\",\"DEST_COUNTRY_NAME\":\"Paraguay\",\"count\":85}\\n{\"ORIGIN_COUNTRY_NAME\":\"Curacao\",\"DEST_COUNTRY_NAME\":\"United States\",\"count\":97}\\n{\"ORIGIN_COUNTRY_NAME\":\"Taiwan\",\"DEST_COUNTRY_NAME\":\"United States\",\"count\":231}\\n{\"ORIGIN_COUNTRY_NAME\":\"South Africa\",\"DEST_COUNTRY_NAME\":\"United States\",\"count\":21}\\n{\"ORIGIN_COUNTRY_NAME\":\"United States\",\"DEST_COUNTRY_NAME\":\"Togo\",\"count\":1}\\n{\"ORIGIN_COUNTRY_NAME\":\"United States\",\"DEST_COUNTRY_NAME\":\"Turkey\",\"count\":104}\\n{\"ORIGIN_COUNTRY_NAME\":\"United States\",\"DEST_COUNTRY_NAME\":\"United Kingdom\",\"count\":1726}\\n{\"ORIGIN_COUNTRY_NAME\":\"United States\",\"DEST_COUNTRY_NAME\":\"Romania\",\"count\":4}\\n{\"ORIGIN_COUNTRY_NAME\":\"Greenland\",\"DEST_COUNTRY_NAME\":\"United States\",\"count\":2}\\n{\"ORIGIN_COUNTRY_NAME\":\"Spain\",\"DEST_COUNTRY_NAME\":\"United States\",\"count\":472}\\n{\"ORIGIN_COUNTRY_NAME\":\"United States\",\"DEST_COUNTRY_NAME\":\"Cuba\",\"count\":320}\\n{\"ORIGIN_COUNTRY_NAME\":\"Italy\",\"DEST_COUNTRY_NAME\":\"United States\",\"count\":447}\\n{\"ORIGIN_COUNTRY_NAME\":\"Switzerland\",\"DEST_COUNTRY_NAME\":\"United States\",\"count\":319}\\n{\"ORIGIN_COUNTRY_NAME\":\"United States\",\"DEST_COUNTRY_NAME\":\"Dominica\",\"count\":25}\\n{\"ORIGIN_COUNTRY_NAME\":\"Japan\",\"DEST_COUNTRY_NAME\":\"United States\",\"count\":1412}\\n{\"ORIGIN_COUNTRY_NAME\":\"United States\",\"DEST_COUNTRY_NAME\":\"Portugal\",\"count\":95}\\n{\"ORIGIN_COUNTRY_NAME\":\"Brazil\",\"DEST_COUNTRY_NAME\":\"United States\",\"count\":575}\\n{\"ORIGIN_COUNTRY_NAME\":\"United States\",\"DEST_COUNTRY_NAME\":\"Bahrain\",\"count\":40}\\n{\"ORIGIN_COUNTRY_NAME\":\"Peru\",\"DEST_COUNTRY_NAME\":\"United States\",\"count\":288}\\n{\"ORIGIN_COUNTRY_NAME\":\"United States\",\"DEST_COUNTRY_NAME\":\"Vietnam\",\"count\":1}\\n{\"ORIGIN_COUNTRY_NAME\":\"United Kingdom\",\"DEST_COUNTRY_NAME\":\"United States\",\"count\":1649}\\n{\"ORIGIN_COUNTRY_NAME\":\"Belize\",\"DEST_COUNTRY_NAME\":\"United States\",\"count\":112}\\n{\"ORIGIN_COUNTRY_NAME\":\"United States\",\"DEST_COUNTRY_NAME\":\"Belize\",\"count\":113}\\n{\"ORIGIN_COUNTRY_NAME\":\"Ghana\",\"DEST_COUNTRY_NAME\":\"United States\",\"count\":39}\\n{\"ORIGIN_COUNTRY_NAME\":\"United States\",\"DEST_COUNTRY_NAME\":\"Mauritania\",\"count\":1}\\n{\"ORIGIN_COUNTRY_NAME\":\"United States\",\"DEST_COUNTRY_NAME\":\"Saint Martin\",\"count\":1}\\n{\"ORIGIN_COUNTRY_NAME\":\"Indonesia\",\"DEST_COUNTRY_NAME\":\"United States\",\"count\":1}\\n{\"ORIGIN_COUNTRY_NAME\":\"Fiji\",\"DEST_COUNTRY_NAME\":\"United States\",\"count\":48}\\n{\"ORIGIN_COUNTRY_NAME\":\"Mauritania\",\"DEST_COUNTRY_NAME\":\"United States\",\"count\":1}\\n{\"ORIGIN_COUNTRY_NAME\":\"Canada\",\"DEST_COUNTRY_NAME\":\"United States\",\"count\":8650}\\n{\"ORIGIN_COUNTRY_NAME\":\"Antigua and Barbuda\",\"DEST_COUNTRY_NAME\":\"United States\",\"count\":152}\\n{\"ORIGIN_COUNTRY_NAME\":\"French Polynesia\",\"DEST_COUNTRY_NAME\":\"United States\",\"count\":36}\\n{\"ORIGIN_COUNTRY_NAME\":\"United States\",\"DEST_COUNTRY_NAME\":\"Nicaragua\",\"count\":180}\\n{\"ORIGIN_COUNTRY_NAME\":\"United States\",\"DEST_COUNTRY_NAME\":\"Namibia\",\"count\":1}\\n{\"ORIGIN_COUNTRY_NAME\":\"Latvia\",\"DEST_COUNTRY_NAME\":\"United States\",\"count\":12}\\n{\"ORIGIN_COUNTRY_NAME\":\"Dominica\",\"DEST_COUNTRY_NAME\":\"United States\",\"count\":29}\\n{\"ORIGIN_COUNTRY_NAME\":\"Czech Republic\",\"DEST_COUNTRY_NAME\":\"United States\",\"count\":25}\\n{\"ORIGIN_COUNTRY_NAME\":\"Australia\",\"DEST_COUNTRY_NAME\":\"United States\",\"count\":231}\\n{\"ORIGIN_COUNTRY_NAME\":\"Cook Islands\",\"DEST_COUNTRY_NAME\":\"United States\",\"count\":12}\\n{\"ORIGIN_COUNTRY_NAME\":\"United States\",\"DEST_COUNTRY_NAME\":\"Austria\",\"count\":34}\\n{\"ORIGIN_COUNTRY_NAME\":\"United States\",\"DEST_COUNTRY_NAME\":\"Palau\",\"count\":41}\\n{\"ORIGIN_COUNTRY_NAME\":\"United States\",\"DEST_COUNTRY_NAME\":\"Jordan\",\"count\":42}\\n{\"ORIGIN_COUNTRY_NAME\":\"United States\",\"DEST_COUNTRY_NAME\":\"South Korea\",\"count\":713}\\n{\"ORIGIN_COUNTRY_NAME\":\"United States\",\"DEST_COUNTRY_NAME\":\"Ghana\",\"count\":39}\\n{\"ORIGIN_COUNTRY_NAME\":\"United States\",\"DEST_COUNTRY_NAME\":\"Angola\",\"count\":13}\\n{\"ORIGIN_COUNTRY_NAME\":\"United States\",\"DEST_COUNTRY_NAME\":\"Guadeloupe\",\"count\":33}\\n{\"ORIGIN_COUNTRY_NAME\":\"United States\",\"DEST_COUNTRY_NAME\":\"France\",\"count\":876}\\n{\"ORIGIN_COUNTRY_NAME\":\"United States\",\"DEST_COUNTRY_NAME\":\"Nigeria\",\"count\":31}\\n{\"ORIGIN_COUNTRY_NAME\":\"United States\",\"DEST_COUNTRY_NAME\":\"Poland\",\"count\":39}\\n{\"ORIGIN_COUNTRY_NAME\":\"Uruguay\",\"DEST_COUNTRY_NAME\":\"United States\",\"count\":27}\\n{\"ORIGIN_COUNTRY_NAME\":\"United States\",\"DEST_COUNTRY_NAME\":\"Greenland\",\"count\":1}\\n{\"ORIGIN_COUNTRY_NAME\":\"United States\",\"DEST_COUNTRY_NAME\":\"Chile\",\"count\":178}\\n{\"ORIGIN_COUNTRY_NAME\":\"Bermuda\",\"DEST_COUNTRY_NAME\":\"United States\",\"count\":196}\\n{\"ORIGIN_COUNTRY_NAME\":\"United States\",\"DEST_COUNTRY_NAME\":\"Lebanon\",\"count\":1}\\n{\"ORIGIN_COUNTRY_NAME\":\"Cuba\",\"DEST_COUNTRY_NAME\":\"United States\",\"count\":326}\\n{\"ORIGIN_COUNTRY_NAME\":\"Colombia\",\"DEST_COUNTRY_NAME\":\"United States\",\"count\":777}\\n{\"ORIGIN_COUNTRY_NAME\":\"Barbados\",\"DEST_COUNTRY_NAME\":\"United States\",\"count\":125}\\n{\"ORIGIN_COUNTRY_NAME\":\"Qatar\",\"DEST_COUNTRY_NAME\":\"United States\",\"count\":48}\\n{\"ORIGIN_COUNTRY_NAME\":\"United States\",\"DEST_COUNTRY_NAME\":\"Australia\",\"count\":280}\\n{\"ORIGIN_COUNTRY_NAME\":\"Cayman Islands\",\"DEST_COUNTRY_NAME\":\"United States\",\"count\":262}\\n{\"ORIGIN_COUNTRY_NAME\":\"Jordan\",\"DEST_COUNTRY_NAME\":\"United States\",\"count\":45}\\n{\"ORIGIN_COUNTRY_NAME\":\"Bolivia\",\"DEST_COUNTRY_NAME\":\"United States\",\"count\":51}\\n{\"ORIGIN_COUNTRY_NAME\":\"Trinidad and Tobago\",\"DEST_COUNTRY_NAME\":\"United States\",\"count\":213}\\n{\"ORIGIN_COUNTRY_NAME\":\"United States\",\"DEST_COUNTRY_NAME\":\"Uruguay\",\"count\":50}\\n{\"ORIGIN_COUNTRY_NAME\":\"United States\",\"DEST_COUNTRY_NAME\":\"Cook Islands\",\"count\":12}\\n{\"ORIGIN_COUNTRY_NAME\":\"Saint Kitts and Nevis\",\"DEST_COUNTRY_NAME\":\"United States\",\"count\":120}\\n{\"ORIGIN_COUNTRY_NAME\":\"United States\",\"DEST_COUNTRY_NAME\":\"Bulgaria\",\"count\":4}\\n{\"ORIGIN_COUNTRY_NAME\":\"French Guiana\",\"DEST_COUNTRY_NAME\":\"United States\",\"count\":11}\\n{\"ORIGIN_COUNTRY_NAME\":\"Haiti\",\"DEST_COUNTRY_NAME\":\"United States\",\"count\":197}\\n{\"ORIGIN_COUNTRY_NAME\":\"United States\",\"DEST_COUNTRY_NAME\":\"Bonaire, Sint Eustatius, and Saba\",\"count\":50}\\n{\"ORIGIN_COUNTRY_NAME\":\"United States\",\"DEST_COUNTRY_NAME\":\"Greece\",\"count\":38}\\n'), ('file:/home/ail/Spark/data/flight-data/json/2012-summary.json', '{\"ORIGIN_COUNTRY_NAME\":\"Croatia\",\"DEST_COUNTRY_NAME\":\"United States\",\"count\":1}\\n{\"ORIGIN_COUNTRY_NAME\":\"Ireland\",\"DEST_COUNTRY_NAME\":\"United States\",\"count\":252}\\n{\"ORIGIN_COUNTRY_NAME\":\"United States\",\"DEST_COUNTRY_NAME\":\"Egypt\",\"count\":13}\\n{\"ORIGIN_COUNTRY_NAME\":\"India\",\"DEST_COUNTRY_NAME\":\"United States\",\"count\":62}\\n{\"ORIGIN_COUNTRY_NAME\":\"Singapore\",\"DEST_COUNTRY_NAME\":\"United States\",\"count\":25}\\n{\"ORIGIN_COUNTRY_NAME\":\"Grenada\",\"DEST_COUNTRY_NAME\":\"United States\",\"count\":46}\\n{\"ORIGIN_COUNTRY_NAME\":\"United States\",\"DEST_COUNTRY_NAME\":\"Costa Rica\",\"count\":522}\\n{\"ORIGIN_COUNTRY_NAME\":\"United States\",\"DEST_COUNTRY_NAME\":\"Senegal\",\"count\":31}\\n{\"ORIGIN_COUNTRY_NAME\":\"United States\",\"DEST_COUNTRY_NAME\":\"Guyana\",\"count\":65}\\n{\"ORIGIN_COUNTRY_NAME\":\"Marshall Islands\",\"DEST_COUNTRY_NAME\":\"United States\",\"count\":30}\\n{\"ORIGIN_COUNTRY_NAME\":\"Sint Maarten\",\"DEST_COUNTRY_NAME\":\"United States\",\"count\":245}\\n{\"ORIGIN_COUNTRY_NAME\":\"United States\",\"DEST_COUNTRY_NAME\":\"Bolivia\",\"count\":35}\\n{\"ORIGIN_COUNTRY_NAME\":\"United States\",\"DEST_COUNTRY_NAME\":\"Anguilla\",\"count\":19}\\n{\"ORIGIN_COUNTRY_NAME\":\"Paraguay\",\"DEST_COUNTRY_NAME\":\"United States\",\"count\":5}\\n{\"ORIGIN_COUNTRY_NAME\":\"Afghanistan\",\"DEST_COUNTRY_NAME\":\"United States\",\"count\":5}\\n{\"ORIGIN_COUNTRY_NAME\":\"United States\",\"DEST_COUNTRY_NAME\":\"Turks and Caicos Islands\",\"count\":183}\\n{\"ORIGIN_COUNTRY_NAME\":\"United States\",\"DEST_COUNTRY_NAME\":\"Saint Vincent and the Grenadines\",\"count\":6}\\n{\"ORIGIN_COUNTRY_NAME\":\"United States\",\"DEST_COUNTRY_NAME\":\"Italy\",\"count\":381}\\n{\"ORIGIN_COUNTRY_NAME\":\"United States\",\"DEST_COUNTRY_NAME\":\"Pakistan\",\"count\":12}\\n{\"ORIGIN_COUNTRY_NAME\":\"Russia\",\"DEST_COUNTRY_NAME\":\"United States\",\"count\":148}\\n{\"ORIGIN_COUNTRY_NAME\":\"Federated States of Micronesia\",\"DEST_COUNTRY_NAME\":\"United States\",\"count\":63}\\n{\"ORIGIN_COUNTRY_NAME\":\"Netherlands\",\"DEST_COUNTRY_NAME\":\"United States\",\"count\":607}\\n{\"ORIGIN_COUNTRY_NAME\":\"United States\",\"DEST_COUNTRY_NAME\":\"Iceland\",\"count\":137}\\n{\"ORIGIN_COUNTRY_NAME\":\"United States\",\"DEST_COUNTRY_NAME\":\"Marshall Islands\",\"count\":60}\\n{\"ORIGIN_COUNTRY_NAME\":\"Togo\",\"DEST_COUNTRY_NAME\":\"United States\",\"count\":1}\\n{\"ORIGIN_COUNTRY_NAME\":\"United States\",\"DEST_COUNTRY_NAME\":\"Luxembourg\",\"count\":111}\\n{\"ORIGIN_COUNTRY_NAME\":\"United States\",\"DEST_COUNTRY_NAME\":\"Honduras\",\"count\":413}\\n{\"ORIGIN_COUNTRY_NAME\":\"United States\",\"DEST_COUNTRY_NAME\":\"The Bahamas\",\"count\":975}\\n{\"ORIGIN_COUNTRY_NAME\":\"United States\",\"DEST_COUNTRY_NAME\":\"El Salvador\",\"count\":539}\\n{\"ORIGIN_COUNTRY_NAME\":\"Senegal\",\"DEST_COUNTRY_NAME\":\"United States\",\"count\":33}\\n{\"ORIGIN_COUNTRY_NAME\":\"Solomon Islands\",\"DEST_COUNTRY_NAME\":\"United States\",\"count\":1}\\n{\"ORIGIN_COUNTRY_NAME\":\"Angola\",\"DEST_COUNTRY_NAME\":\"United States\",\"count\":12}\\n{\"ORIGIN_COUNTRY_NAME\":\"United States\",\"DEST_COUNTRY_NAME\":\"Samoa\",\"count\":25}\\n{\"ORIGIN_COUNTRY_NAME\":\"United States\",\"DEST_COUNTRY_NAME\":\"Kazakhstan\",\"count\":1}\\n{\"ORIGIN_COUNTRY_NAME\":\"United States\",\"DEST_COUNTRY_NAME\":\"Switzerland\",\"count\":285}\\n{\"ORIGIN_COUNTRY_NAME\":\"Anguilla\",\"DEST_COUNTRY_NAME\":\"United States\",\"count\":19}\\n{\"ORIGIN_COUNTRY_NAME\":\"United States\",\"DEST_COUNTRY_NAME\":\"Sint Maarten\",\"count\":243}\\n{\"ORIGIN_COUNTRY_NAME\":\"United States\",\"DEST_COUNTRY_NAME\":\"Hong Kong\",\"count\":296}\\n{\"ORIGIN_COUNTRY_NAME\":\"United States\",\"DEST_COUNTRY_NAME\":\"Trinidad and Tobago\",\"count\":216}\\n{\"ORIGIN_COUNTRY_NAME\":\"United States\",\"DEST_COUNTRY_NAME\":\"Latvia\",\"count\":13}\\n{\"ORIGIN_COUNTRY_NAME\":\"Ecuador\",\"DEST_COUNTRY_NAME\":\"United States\",\"count\":321}\\n{\"ORIGIN_COUNTRY_NAME\":\"United States\",\"DEST_COUNTRY_NAME\":\"Suriname\",\"count\":14}\\n{\"ORIGIN_COUNTRY_NAME\":\"United States\",\"DEST_COUNTRY_NAME\":\"Mexico\",\"count\":5983}\\n{\"ORIGIN_COUNTRY_NAME\":\"United States\",\"DEST_COUNTRY_NAME\":\"Ecuador\",\"count\":239}\\n{\"ORIGIN_COUNTRY_NAME\":\"Portugal\",\"DEST_COUNTRY_NAME\":\"United States\",\"count\":111}\\n{\"ORIGIN_COUNTRY_NAME\":\"Costa Rica\",\"DEST_COUNTRY_NAME\":\"United States\",\"count\":555}\\n{\"ORIGIN_COUNTRY_NAME\":\"Guatemala\",\"DEST_COUNTRY_NAME\":\"United States\",\"count\":345}\\n{\"ORIGIN_COUNTRY_NAME\":\"Suriname\",\"DEST_COUNTRY_NAME\":\"United States\",\"count\":26}\\n{\"ORIGIN_COUNTRY_NAME\":\"United States\",\"DEST_COUNTRY_NAME\":\"Colombia\",\"count\":759}\\n{\"ORIGIN_COUNTRY_NAME\":\"The Gambia\",\"DEST_COUNTRY_NAME\":\"United States\",\"count\":1}\\n{\"ORIGIN_COUNTRY_NAME\":\"Cape Verde\",\"DEST_COUNTRY_NAME\":\"United States\",\"count\":18}\\n{\"ORIGIN_COUNTRY_NAME\":\"Jamaica\",\"DEST_COUNTRY_NAME\":\"United States\",\"count\":610}\\n{\"ORIGIN_COUNTRY_NAME\":\"United States\",\"DEST_COUNTRY_NAME\":\"Norway\",\"count\":31}\\n{\"ORIGIN_COUNTRY_NAME\":\"United States\",\"DEST_COUNTRY_NAME\":\"The Gambia\",\"count\":2}\\n{\"ORIGIN_COUNTRY_NAME\":\"Morocco\",\"DEST_COUNTRY_NAME\":\"United States\",\"count\":16}\\n{\"ORIGIN_COUNTRY_NAME\":\"United States\",\"DEST_COUNTRY_NAME\":\"Thailand\",\"count\":6}\\n{\"ORIGIN_COUNTRY_NAME\":\"United States\",\"DEST_COUNTRY_NAME\":\"Venezuela\",\"count\":389}\\n{\"ORIGIN_COUNTRY_NAME\":\"Samoa\",\"DEST_COUNTRY_NAME\":\"United States\",\"count\":25}\\n{\"ORIGIN_COUNTRY_NAME\":\"Palau\",\"DEST_COUNTRY_NAME\":\"United States\",\"count\":35}\\n{\"ORIGIN_COUNTRY_NAME\":\"Venezuela\",\"DEST_COUNTRY_NAME\":\"United States\",\"count\":360}\\n{\"ORIGIN_COUNTRY_NAME\":\"United States\",\"DEST_COUNTRY_NAME\":\"Panama\",\"count\":394}\\n{\"ORIGIN_COUNTRY_NAME\":\"Chile\",\"DEST_COUNTRY_NAME\":\"United States\",\"count\":201}\\n{\"ORIGIN_COUNTRY_NAME\":\"Finland\",\"DEST_COUNTRY_NAME\":\"United States\",\"count\":21}\\n{\"ORIGIN_COUNTRY_NAME\":\"United States\",\"DEST_COUNTRY_NAME\":\"Antigua and Barbuda\",\"count\":145}\\n{\"ORIGIN_COUNTRY_NAME\":\"United States\",\"DEST_COUNTRY_NAME\":\"Morocco\",\"count\":15}\\n{\"ORIGIN_COUNTRY_NAME\":\"Greece\",\"DEST_COUNTRY_NAME\":\"United States\",\"count\":21}\\n{\"ORIGIN_COUNTRY_NAME\":\"The Bahamas\",\"DEST_COUNTRY_NAME\":\"United States\",\"count\":1054}\\n{\"ORIGIN_COUNTRY_NAME\":\"United States\",\"DEST_COUNTRY_NAME\":\"New Zealand\",\"count\":92}\\n{\"ORIGIN_COUNTRY_NAME\":\"Hong Kong\",\"DEST_COUNTRY_NAME\":\"United States\",\"count\":331}\\n{\"ORIGIN_COUNTRY_NAME\":\"United States\",\"DEST_COUNTRY_NAME\":\"Hungary\",\"count\":2}\\n{\"ORIGIN_COUNTRY_NAME\":\"Tunisia\",\"DEST_COUNTRY_NAME\":\"United States\",\"count\":1}\\n{\"ORIGIN_COUNTRY_NAME\":\"China\",\"DEST_COUNTRY_NAME\":\"United States\",\"count\":610}\\n{\"ORIGIN_COUNTRY_NAME\":\"United States\",\"DEST_COUNTRY_NAME\":\"Sweden\",\"count\":50}\\n{\"ORIGIN_COUNTRY_NAME\":\"Kuwait\",\"DEST_COUNTRY_NAME\":\"United States\",\"count\":28}\\n{\"ORIGIN_COUNTRY_NAME\":\"Dominican Republic\",\"DEST_COUNTRY_NAME\":\"United States\",\"count\":1123}\\n{\"ORIGIN_COUNTRY_NAME\":\"Egypt\",\"DEST_COUNTRY_NAME\":\"United States\",\"count\":12}\\n{\"ORIGIN_COUNTRY_NAME\":\"United States\",\"DEST_COUNTRY_NAME\":\"Israel\",\"count\":117}\\n{\"ORIGIN_COUNTRY_NAME\":\"United States\",\"DEST_COUNTRY_NAME\":\"United States\",\"count\":347452}\\n{\"ORIGIN_COUNTRY_NAME\":\"Luxembourg\",\"DEST_COUNTRY_NAME\":\"United States\",\"count\":123}\\n{\"ORIGIN_COUNTRY_NAME\":\"United States\",\"DEST_COUNTRY_NAME\":\"Ethiopia\",\"count\":12}\\n{\"ORIGIN_COUNTRY_NAME\":\"Poland\",\"DEST_COUNTRY_NAME\":\"United States\",\"count\":40}\\n{\"ORIGIN_COUNTRY_NAME\":\"United States\",\"DEST_COUNTRY_NAME\":\"Martinique\",\"count\":17}\\n{\"ORIGIN_COUNTRY_NAME\":\"Saint Barthelemy\",\"DEST_COUNTRY_NAME\":\"United States\",\"count\":49}\\n{\"ORIGIN_COUNTRY_NAME\":\"United States\",\"DEST_COUNTRY_NAME\":\"Saint Barthelemy\",\"count\":49}\\n{\"ORIGIN_COUNTRY_NAME\":\"United States\",\"DEST_COUNTRY_NAME\":\"Barbados\",\"count\":121}\\n{\"ORIGIN_COUNTRY_NAME\":\"Azerbaijan\",\"DEST_COUNTRY_NAME\":\"United States\",\"count\":1}\\n{\"ORIGIN_COUNTRY_NAME\":\"Turkey\",\"DEST_COUNTRY_NAME\":\"United States\",\"count\":89}\\n{\"ORIGIN_COUNTRY_NAME\":\"United States\",\"DEST_COUNTRY_NAME\":\"Germany\",\"count\":1404}\\n{\"ORIGIN_COUNTRY_NAME\":\"United States\",\"DEST_COUNTRY_NAME\":\"Kyrgyzstan\",\"count\":1}\\n{\"ORIGIN_COUNTRY_NAME\":\"South Korea\",\"DEST_COUNTRY_NAME\":\"United States\",\"count\":703}\\n{\"ORIGIN_COUNTRY_NAME\":\"El Salvador\",\"DEST_COUNTRY_NAME\":\"United States\",\"count\":465}\\n{\"ORIGIN_COUNTRY_NAME\":\"United States\",\"DEST_COUNTRY_NAME\":\"Ireland\",\"count\":255}\\n{\"ORIGIN_COUNTRY_NAME\":\"Panama\",\"DEST_COUNTRY_NAME\":\"United States\",\"count\":393}\\n{\"ORIGIN_COUNTRY_NAME\":\"Ethiopia\",\"DEST_COUNTRY_NAME\":\"United States\",\"count\":12}\\n{\"ORIGIN_COUNTRY_NAME\":\"Thailand\",\"DEST_COUNTRY_NAME\":\"United States\",\"count\":6}\\n{\"ORIGIN_COUNTRY_NAME\":\"Aruba\",\"DEST_COUNTRY_NAME\":\"United States\",\"count\":332}\\n{\"ORIGIN_COUNTRY_NAME\":\"Turks and Caicos Islands\",\"DEST_COUNTRY_NAME\":\"United States\",\"count\":183}\\n{\"ORIGIN_COUNTRY_NAME\":\"United States\",\"DEST_COUNTRY_NAME\":\"Croatia\",\"count\":1}\\n{\"ORIGIN_COUNTRY_NAME\":\"Pakistan\",\"DEST_COUNTRY_NAME\":\"United States\",\"count\":16}\\n{\"ORIGIN_COUNTRY_NAME\":\"Honduras\",\"DEST_COUNTRY_NAME\":\"United States\",\"count\":372}\\n{\"ORIGIN_COUNTRY_NAME\":\"United States\",\"DEST_COUNTRY_NAME\":\"Qatar\",\"count\":56}\\n{\"ORIGIN_COUNTRY_NAME\":\"United States\",\"DEST_COUNTRY_NAME\":\"Fiji\",\"count\":28}\\n{\"ORIGIN_COUNTRY_NAME\":\"United States\",\"DEST_COUNTRY_NAME\":\"Saint Kitts and Nevis\",\"count\":109}\\n{\"ORIGIN_COUNTRY_NAME\":\"United States\",\"DEST_COUNTRY_NAME\":\"Taiwan\",\"count\":229}\\n{\"ORIGIN_COUNTRY_NAME\":\"United States\",\"DEST_COUNTRY_NAME\":\"Haiti\",\"count\":224}\\n{\"ORIGIN_COUNTRY_NAME\":\"United States\",\"DEST_COUNTRY_NAME\":\"Kuwait\",\"count\":26}\\n{\"ORIGIN_COUNTRY_NAME\":\"United States\",\"DEST_COUNTRY_NAME\":\"Canada\",\"count\":8034}\\n{\"ORIGIN_COUNTRY_NAME\":\"United States\",\"DEST_COUNTRY_NAME\":\"Belarus\",\"count\":1}\\n{\"ORIGIN_COUNTRY_NAME\":\"United States\",\"DEST_COUNTRY_NAME\":\"Federated States of Micronesia\",\"count\":54}\\n{\"ORIGIN_COUNTRY_NAME\":\"United States\",\"DEST_COUNTRY_NAME\":\"Jamaica\",\"count\":617}\\n{\"ORIGIN_COUNTRY_NAME\":\"United States\",\"DEST_COUNTRY_NAME\":\"Dominican Republic\",\"count\":1078}\\n{\"ORIGIN_COUNTRY_NAME\":\"United States\",\"DEST_COUNTRY_NAME\":\"Japan\",\"count\":1538}\\n{\"ORIGIN_COUNTRY_NAME\":\"Saint Vincent and the Grenadines\",\"DEST_COUNTRY_NAME\":\"United States\",\"count\":11}\\n{\"ORIGIN_COUNTRY_NAME\":\"United States\",\"DEST_COUNTRY_NAME\":\"Finland\",\"count\":22}\\n{\"ORIGIN_COUNTRY_NAME\":\"Ukraine\",\"DEST_COUNTRY_NAME\":\"United States\",\"count\":13}\\n{\"ORIGIN_COUNTRY_NAME\":\"Guadeloupe\",\"DEST_COUNTRY_NAME\":\"United States\",\"count\":34}\\n{\"ORIGIN_COUNTRY_NAME\":\"France\",\"DEST_COUNTRY_NAME\":\"United States\",\"count\":840}\\n{\"ORIGIN_COUNTRY_NAME\":\"Norway\",\"DEST_COUNTRY_NAME\":\"United States\",\"count\":33}\\n{\"ORIGIN_COUNTRY_NAME\":\"United States\",\"DEST_COUNTRY_NAME\":\"Aruba\",\"count\":349}\\n{\"ORIGIN_COUNTRY_NAME\":\"United States\",\"DEST_COUNTRY_NAME\":\"French Guiana\",\"count\":8}\\n{\"ORIGIN_COUNTRY_NAME\":\"Kiribati\",\"DEST_COUNTRY_NAME\":\"United States\",\"count\":26}\\n{\"ORIGIN_COUNTRY_NAME\":\"United States\",\"DEST_COUNTRY_NAME\":\"India\",\"count\":61}\\n{\"ORIGIN_COUNTRY_NAME\":\"United States\",\"DEST_COUNTRY_NAME\":\"British Virgin Islands\",\"count\":83}\\n{\"ORIGIN_COUNTRY_NAME\":\"United States\",\"DEST_COUNTRY_NAME\":\"Brazil\",\"count\":979}\\n{\"ORIGIN_COUNTRY_NAME\":\"Germany\",\"DEST_COUNTRY_NAME\":\"United States\",\"count\":1413}\\n{\"ORIGIN_COUNTRY_NAME\":\"New Zealand\",\"DEST_COUNTRY_NAME\":\"United States\",\"count\":65}\\n{\"ORIGIN_COUNTRY_NAME\":\"Cambodia\",\"DEST_COUNTRY_NAME\":\"United States\",\"count\":1}\\n{\"ORIGIN_COUNTRY_NAME\":\"United States\",\"DEST_COUNTRY_NAME\":\"French Polynesia\",\"count\":39}\\n{\"ORIGIN_COUNTRY_NAME\":\"United States\",\"DEST_COUNTRY_NAME\":\"United Arab Emirates\",\"count\":188}\\n{\"ORIGIN_COUNTRY_NAME\":\"United States\",\"DEST_COUNTRY_NAME\":\"Singapore\",\"count\":26}\\n{\"ORIGIN_COUNTRY_NAME\":\"Mexico\",\"DEST_COUNTRY_NAME\":\"United States\",\"count\":5974}\\n{\"ORIGIN_COUNTRY_NAME\":\"United States\",\"DEST_COUNTRY_NAME\":\"Netherlands\",\"count\":640}\\n{\"ORIGIN_COUNTRY_NAME\":\"Sweden\",\"DEST_COUNTRY_NAME\":\"United States\",\"count\":54}\\n{\"ORIGIN_COUNTRY_NAME\":\"Martinique\",\"DEST_COUNTRY_NAME\":\"United States\",\"count\":17}\\n{\"ORIGIN_COUNTRY_NAME\":\"United Arab Emirates\",\"DEST_COUNTRY_NAME\":\"United States\",\"count\":176}\\n{\"ORIGIN_COUNTRY_NAME\":\"United States\",\"DEST_COUNTRY_NAME\":\"China\",\"count\":509}\\n{\"ORIGIN_COUNTRY_NAME\":\"Philippines\",\"DEST_COUNTRY_NAME\":\"United States\",\"count\":112}\\n{\"ORIGIN_COUNTRY_NAME\":\"United States\",\"DEST_COUNTRY_NAME\":\"Denmark\",\"count\":83}\\n{\"ORIGIN_COUNTRY_NAME\":\"Nicaragua\",\"DEST_COUNTRY_NAME\":\"United States\",\"count\":183}\\n{\"ORIGIN_COUNTRY_NAME\":\"United States\",\"DEST_COUNTRY_NAME\":\"Oman\",\"count\":1}\\n{\"ORIGIN_COUNTRY_NAME\":\"Belgium\",\"DEST_COUNTRY_NAME\":\"United States\",\"count\":275}\\n{\"ORIGIN_COUNTRY_NAME\":\"United States\",\"DEST_COUNTRY_NAME\":\"Argentina\",\"count\":208}\\n{\"ORIGIN_COUNTRY_NAME\":\"United States\",\"DEST_COUNTRY_NAME\":\"Peru\",\"count\":249}\\n{\"ORIGIN_COUNTRY_NAME\":\"United States\",\"DEST_COUNTRY_NAME\":\"Cayman Islands\",\"count\":258}\\n{\"ORIGIN_COUNTRY_NAME\":\"United States\",\"DEST_COUNTRY_NAME\":\"South Africa\",\"count\":24}\\n{\"ORIGIN_COUNTRY_NAME\":\"Argentina\",\"DEST_COUNTRY_NAME\":\"United States\",\"count\":170}\\n{\"ORIGIN_COUNTRY_NAME\":\"Iceland\",\"DEST_COUNTRY_NAME\":\"United States\",\"count\":150}\\n{\"ORIGIN_COUNTRY_NAME\":\"United States\",\"DEST_COUNTRY_NAME\":\"Cameroon\",\"count\":1}\\n{\"ORIGIN_COUNTRY_NAME\":\"United States\",\"DEST_COUNTRY_NAME\":\"Spain\",\"count\":390}\\n{\"ORIGIN_COUNTRY_NAME\":\"United States\",\"DEST_COUNTRY_NAME\":\"Bermuda\",\"count\":190}\\n{\"ORIGIN_COUNTRY_NAME\":\"Austria\",\"DEST_COUNTRY_NAME\":\"United States\",\"count\":31}\\n{\"ORIGIN_COUNTRY_NAME\":\"Nigeria\",\"DEST_COUNTRY_NAME\":\"United States\",\"count\":44}\\n{\"ORIGIN_COUNTRY_NAME\":\"Bonaire, Sint Eustatius, and Saba\",\"DEST_COUNTRY_NAME\":\"United States\",\"count\":44}\\n{\"ORIGIN_COUNTRY_NAME\":\"United States\",\"DEST_COUNTRY_NAME\":\"Kiribati\",\"count\":26}\\n{\"ORIGIN_COUNTRY_NAME\":\"United States\",\"DEST_COUNTRY_NAME\":\"Saudi Arabia\",\"count\":72}\\n{\"ORIGIN_COUNTRY_NAME\":\"United States\",\"DEST_COUNTRY_NAME\":\"Czech Republic\",\"count\":15}\\n{\"ORIGIN_COUNTRY_NAME\":\"United States\",\"DEST_COUNTRY_NAME\":\"Macau\",\"count\":1}\\n{\"ORIGIN_COUNTRY_NAME\":\"Bahrain\",\"DEST_COUNTRY_NAME\":\"United States\",\"count\":2}\\n{\"ORIGIN_COUNTRY_NAME\":\"United States\",\"DEST_COUNTRY_NAME\":\"Belgium\",\"count\":352}\\n{\"ORIGIN_COUNTRY_NAME\":\"Israel\",\"DEST_COUNTRY_NAME\":\"United States\",\"count\":117}\\n{\"ORIGIN_COUNTRY_NAME\":\"Saint Lucia\",\"DEST_COUNTRY_NAME\":\"United States\",\"count\":84}\\n{\"ORIGIN_COUNTRY_NAME\":\"United States\",\"DEST_COUNTRY_NAME\":\"Sierra Leone\",\"count\":1}\\n{\"ORIGIN_COUNTRY_NAME\":\"United States\",\"DEST_COUNTRY_NAME\":\"Afghanistan\",\"count\":5}\\n{\"ORIGIN_COUNTRY_NAME\":\"British Virgin Islands\",\"DEST_COUNTRY_NAME\":\"United States\",\"count\":78}\\n{\"ORIGIN_COUNTRY_NAME\":\"United States\",\"DEST_COUNTRY_NAME\":\"Curacao\",\"count\":107}\\n{\"ORIGIN_COUNTRY_NAME\":\"United States\",\"DEST_COUNTRY_NAME\":\"Georgia\",\"count\":2}\\n{\"ORIGIN_COUNTRY_NAME\":\"Guyana\",\"DEST_COUNTRY_NAME\":\"United States\",\"count\":79}\\n{\"ORIGIN_COUNTRY_NAME\":\"United States\",\"DEST_COUNTRY_NAME\":\"Philippines\",\"count\":136}\\n{\"ORIGIN_COUNTRY_NAME\":\"Denmark\",\"DEST_COUNTRY_NAME\":\"United States\",\"count\":82}\\n{\"ORIGIN_COUNTRY_NAME\":\"United States\",\"DEST_COUNTRY_NAME\":\"Grenada\",\"count\":51}\\n{\"ORIGIN_COUNTRY_NAME\":\"United States\",\"DEST_COUNTRY_NAME\":\"Cape Verde\",\"count\":19}\\n{\"ORIGIN_COUNTRY_NAME\":\"United States\",\"DEST_COUNTRY_NAME\":\"Ukraine\",\"count\":14}\\n{\"ORIGIN_COUNTRY_NAME\":\"Papua New Guinea\",\"DEST_COUNTRY_NAME\":\"United States\",\"count\":2}\\n{\"ORIGIN_COUNTRY_NAME\":\"United States\",\"DEST_COUNTRY_NAME\":\"Russia\",\"count\":183}\\n{\"ORIGIN_COUNTRY_NAME\":\"Saudi Arabia\",\"DEST_COUNTRY_NAME\":\"United States\",\"count\":70}\\n{\"ORIGIN_COUNTRY_NAME\":\"United States\",\"DEST_COUNTRY_NAME\":\"Guatemala\",\"count\":413}\\n{\"ORIGIN_COUNTRY_NAME\":\"United States\",\"DEST_COUNTRY_NAME\":\"Saint Lucia\",\"count\":81}\\n{\"ORIGIN_COUNTRY_NAME\":\"United States\",\"DEST_COUNTRY_NAME\":\"Paraguay\",\"count\":85}\\n{\"ORIGIN_COUNTRY_NAME\":\"Curacao\",\"DEST_COUNTRY_NAME\":\"United States\",\"count\":96}\\n{\"ORIGIN_COUNTRY_NAME\":\"Taiwan\",\"DEST_COUNTRY_NAME\":\"United States\",\"count\":214}\\n{\"ORIGIN_COUNTRY_NAME\":\"United States\",\"DEST_COUNTRY_NAME\":\"Tunisia\",\"count\":2}\\n{\"ORIGIN_COUNTRY_NAME\":\"South Africa\",\"DEST_COUNTRY_NAME\":\"United States\",\"count\":29}\\n{\"ORIGIN_COUNTRY_NAME\":\"United States\",\"DEST_COUNTRY_NAME\":\"Turkey\",\"count\":94}\\n{\"ORIGIN_COUNTRY_NAME\":\"United States\",\"DEST_COUNTRY_NAME\":\"United Kingdom\",\"count\":1852}\\n{\"ORIGIN_COUNTRY_NAME\":\"United States\",\"DEST_COUNTRY_NAME\":\"Solomon Islands\",\"count\":2}\\n{\"ORIGIN_COUNTRY_NAME\":\"Greenland\",\"DEST_COUNTRY_NAME\":\"United States\",\"count\":1}\\n{\"ORIGIN_COUNTRY_NAME\":\"Spain\",\"DEST_COUNTRY_NAME\":\"United States\",\"count\":393}\\n{\"ORIGIN_COUNTRY_NAME\":\"Italy\",\"DEST_COUNTRY_NAME\":\"United States\",\"count\":377}\\n{\"ORIGIN_COUNTRY_NAME\":\"United States\",\"DEST_COUNTRY_NAME\":\"Cuba\",\"count\":340}\\n{\"ORIGIN_COUNTRY_NAME\":\"Switzerland\",\"DEST_COUNTRY_NAME\":\"United States\",\"count\":282}\\n{\"ORIGIN_COUNTRY_NAME\":\"United States\",\"DEST_COUNTRY_NAME\":\"Dominica\",\"count\":26}\\n{\"ORIGIN_COUNTRY_NAME\":\"Japan\",\"DEST_COUNTRY_NAME\":\"United States\",\"count\":1451}\\n{\"ORIGIN_COUNTRY_NAME\":\"United States\",\"DEST_COUNTRY_NAME\":\"Portugal\",\"count\":112}\\n{\"ORIGIN_COUNTRY_NAME\":\"United States\",\"DEST_COUNTRY_NAME\":\"Bahrain\",\"count\":65}\\n{\"ORIGIN_COUNTRY_NAME\":\"Brazil\",\"DEST_COUNTRY_NAME\":\"United States\",\"count\":567}\\n{\"ORIGIN_COUNTRY_NAME\":\"Peru\",\"DEST_COUNTRY_NAME\":\"United States\",\"count\":292}\\n{\"ORIGIN_COUNTRY_NAME\":\"United States\",\"DEST_COUNTRY_NAME\":\"Vietnam\",\"count\":2}\\n{\"ORIGIN_COUNTRY_NAME\":\"United Kingdom\",\"DEST_COUNTRY_NAME\":\"United States\",\"count\":1713}\\n{\"ORIGIN_COUNTRY_NAME\":\"Belize\",\"DEST_COUNTRY_NAME\":\"United States\",\"count\":108}\\n{\"ORIGIN_COUNTRY_NAME\":\"United States\",\"DEST_COUNTRY_NAME\":\"Belize\",\"count\":113}\\n{\"ORIGIN_COUNTRY_NAME\":\"Ghana\",\"DEST_COUNTRY_NAME\":\"United States\",\"count\":31}\\n{\"ORIGIN_COUNTRY_NAME\":\"United States\",\"DEST_COUNTRY_NAME\":\"Mauritania\",\"count\":1}\\n{\"ORIGIN_COUNTRY_NAME\":\"Fiji\",\"DEST_COUNTRY_NAME\":\"United States\",\"count\":26}\\n{\"ORIGIN_COUNTRY_NAME\":\"Canada\",\"DEST_COUNTRY_NAME\":\"United States\",\"count\":8097}\\n{\"ORIGIN_COUNTRY_NAME\":\"French Polynesia\",\"DEST_COUNTRY_NAME\":\"United States\",\"count\":38}\\n{\"ORIGIN_COUNTRY_NAME\":\"Antigua and Barbuda\",\"DEST_COUNTRY_NAME\":\"United States\",\"count\":146}\\n{\"ORIGIN_COUNTRY_NAME\":\"United States\",\"DEST_COUNTRY_NAME\":\"Nicaragua\",\"count\":174}\\n{\"ORIGIN_COUNTRY_NAME\":\"Latvia\",\"DEST_COUNTRY_NAME\":\"United States\",\"count\":14}\\n{\"ORIGIN_COUNTRY_NAME\":\"Dominica\",\"DEST_COUNTRY_NAME\":\"United States\",\"count\":25}\\n{\"ORIGIN_COUNTRY_NAME\":\"Czech Republic\",\"DEST_COUNTRY_NAME\":\"United States\",\"count\":13}\\n{\"ORIGIN_COUNTRY_NAME\":\"Australia\",\"DEST_COUNTRY_NAME\":\"United States\",\"count\":211}\\n{\"ORIGIN_COUNTRY_NAME\":\"Cook Islands\",\"DEST_COUNTRY_NAME\":\"United States\",\"count\":12}\\n{\"ORIGIN_COUNTRY_NAME\":\"United States\",\"DEST_COUNTRY_NAME\":\"Austria\",\"count\":34}\\n{\"ORIGIN_COUNTRY_NAME\":\"United States\",\"DEST_COUNTRY_NAME\":\"Jordan\",\"count\":41}\\n{\"ORIGIN_COUNTRY_NAME\":\"United States\",\"DEST_COUNTRY_NAME\":\"Palau\",\"count\":35}\\n{\"ORIGIN_COUNTRY_NAME\":\"Equatorial Guinea\",\"DEST_COUNTRY_NAME\":\"United States\",\"count\":4}\\n{\"ORIGIN_COUNTRY_NAME\":\"United States\",\"DEST_COUNTRY_NAME\":\"South Korea\",\"count\":819}\\n{\"ORIGIN_COUNTRY_NAME\":\"United States\",\"DEST_COUNTRY_NAME\":\"Angola\",\"count\":12}\\n{\"ORIGIN_COUNTRY_NAME\":\"United States\",\"DEST_COUNTRY_NAME\":\"Ghana\",\"count\":30}\\n{\"ORIGIN_COUNTRY_NAME\":\"United States\",\"DEST_COUNTRY_NAME\":\"New Caledonia\",\"count\":1}\\n{\"ORIGIN_COUNTRY_NAME\":\"United States\",\"DEST_COUNTRY_NAME\":\"Guadeloupe\",\"count\":36}\\n{\"ORIGIN_COUNTRY_NAME\":\"United States\",\"DEST_COUNTRY_NAME\":\"France\",\"count\":818}\\n{\"ORIGIN_COUNTRY_NAME\":\"United States\",\"DEST_COUNTRY_NAME\":\"Poland\",\"count\":38}\\n{\"ORIGIN_COUNTRY_NAME\":\"United States\",\"DEST_COUNTRY_NAME\":\"Nigeria\",\"count\":57}\\n{\"ORIGIN_COUNTRY_NAME\":\"Uruguay\",\"DEST_COUNTRY_NAME\":\"United States\",\"count\":17}\\n{\"ORIGIN_COUNTRY_NAME\":\"United States\",\"DEST_COUNTRY_NAME\":\"Greenland\",\"count\":1}\\n{\"ORIGIN_COUNTRY_NAME\":\"United States\",\"DEST_COUNTRY_NAME\":\"Chile\",\"count\":178}\\n{\"ORIGIN_COUNTRY_NAME\":\"Bermuda\",\"DEST_COUNTRY_NAME\":\"United States\",\"count\":194}\\n{\"ORIGIN_COUNTRY_NAME\":\"Cuba\",\"DEST_COUNTRY_NAME\":\"United States\",\"count\":341}\\n{\"ORIGIN_COUNTRY_NAME\":\"Colombia\",\"DEST_COUNTRY_NAME\":\"United States\",\"count\":806}\\n{\"ORIGIN_COUNTRY_NAME\":\"Barbados\",\"DEST_COUNTRY_NAME\":\"United States\",\"count\":109}\\n{\"ORIGIN_COUNTRY_NAME\":\"Qatar\",\"DEST_COUNTRY_NAME\":\"United States\",\"count\":56}\\n{\"ORIGIN_COUNTRY_NAME\":\"United States\",\"DEST_COUNTRY_NAME\":\"Australia\",\"count\":277}\\n{\"ORIGIN_COUNTRY_NAME\":\"Cayman Islands\",\"DEST_COUNTRY_NAME\":\"United States\",\"count\":247}\\n{\"ORIGIN_COUNTRY_NAME\":\"Jordan\",\"DEST_COUNTRY_NAME\":\"United States\",\"count\":43}\\n{\"ORIGIN_COUNTRY_NAME\":\"Trinidad and Tobago\",\"DEST_COUNTRY_NAME\":\"United States\",\"count\":213}\\n{\"ORIGIN_COUNTRY_NAME\":\"Bolivia\",\"DEST_COUNTRY_NAME\":\"United States\",\"count\":21}\\n{\"ORIGIN_COUNTRY_NAME\":\"United States\",\"DEST_COUNTRY_NAME\":\"Uruguay\",\"count\":53}\\n{\"ORIGIN_COUNTRY_NAME\":\"United States\",\"DEST_COUNTRY_NAME\":\"Cook Islands\",\"count\":12}\\n{\"ORIGIN_COUNTRY_NAME\":\"Saint Kitts and Nevis\",\"DEST_COUNTRY_NAME\":\"United States\",\"count\":124}\\n{\"ORIGIN_COUNTRY_NAME\":\"United States\",\"DEST_COUNTRY_NAME\":\"Bulgaria\",\"count\":6}\\n{\"ORIGIN_COUNTRY_NAME\":\"French Guiana\",\"DEST_COUNTRY_NAME\":\"United States\",\"count\":1}\\n{\"ORIGIN_COUNTRY_NAME\":\"Haiti\",\"DEST_COUNTRY_NAME\":\"United States\",\"count\":234}\\n{\"ORIGIN_COUNTRY_NAME\":\"United States\",\"DEST_COUNTRY_NAME\":\"Bonaire, Sint Eustatius, and Saba\",\"count\":46}\\n{\"ORIGIN_COUNTRY_NAME\":\"United States\",\"DEST_COUNTRY_NAME\":\"Greece\",\"count\":17}\\n'), ('file:/home/ail/Spark/data/flight-data/json/2013-summary.json', '{\"ORIGIN_COUNTRY_NAME\":\"Romania\",\"DEST_COUNTRY_NAME\":\"United States\",\"count\":12}\\n{\"ORIGIN_COUNTRY_NAME\":\"Croatia\",\"DEST_COUNTRY_NAME\":\"United States\",\"count\":1}\\n{\"ORIGIN_COUNTRY_NAME\":\"Ireland\",\"DEST_COUNTRY_NAME\":\"United States\",\"count\":266}\\n{\"ORIGIN_COUNTRY_NAME\":\"United States\",\"DEST_COUNTRY_NAME\":\"Egypt\",\"count\":13}\\n{\"ORIGIN_COUNTRY_NAME\":\"India\",\"DEST_COUNTRY_NAME\":\"United States\",\"count\":60}\\n{\"ORIGIN_COUNTRY_NAME\":\"United States\",\"DEST_COUNTRY_NAME\":\"Equatorial Guinea\",\"count\":1}\\n{\"ORIGIN_COUNTRY_NAME\":\"Niger\",\"DEST_COUNTRY_NAME\":\"United States\",\"count\":1}\\n{\"ORIGIN_COUNTRY_NAME\":\"Singapore\",\"DEST_COUNTRY_NAME\":\"United States\",\"count\":22}\\n{\"ORIGIN_COUNTRY_NAME\":\"Grenada\",\"DEST_COUNTRY_NAME\":\"United States\",\"count\":40}\\n{\"ORIGIN_COUNTRY_NAME\":\"United States\",\"DEST_COUNTRY_NAME\":\"Costa Rica\",\"count\":509}\\n{\"ORIGIN_COUNTRY_NAME\":\"United States\",\"DEST_COUNTRY_NAME\":\"Senegal\",\"count\":28}\\n{\"ORIGIN_COUNTRY_NAME\":\"United States\",\"DEST_COUNTRY_NAME\":\"Guyana\",\"count\":34}\\n{\"ORIGIN_COUNTRY_NAME\":\"Sint Maarten\",\"DEST_COUNTRY_NAME\":\"United States\",\"count\":260}\\n{\"ORIGIN_COUNTRY_NAME\":\"Marshall Islands\",\"DEST_COUNTRY_NAME\":\"United States\",\"count\":33}\\n{\"ORIGIN_COUNTRY_NAME\":\"United States\",\"DEST_COUNTRY_NAME\":\"Bolivia\",\"count\":33}\\n{\"ORIGIN_COUNTRY_NAME\":\"United States\",\"DEST_COUNTRY_NAME\":\"Anguilla\",\"count\":22}\\n{\"ORIGIN_COUNTRY_NAME\":\"Paraguay\",\"DEST_COUNTRY_NAME\":\"United States\",\"count\":15}\\n{\"ORIGIN_COUNTRY_NAME\":\"United States\",\"DEST_COUNTRY_NAME\":\"Algeria\",\"count\":2}\\n{\"ORIGIN_COUNTRY_NAME\":\"United States\",\"DEST_COUNTRY_NAME\":\"Turks and Caicos Islands\",\"count\":181}\\n{\"ORIGIN_COUNTRY_NAME\":\"United States\",\"DEST_COUNTRY_NAME\":\"Saint Vincent and the Grenadines\",\"count\":4}\\n{\"ORIGIN_COUNTRY_NAME\":\"United States\",\"DEST_COUNTRY_NAME\":\"Lithuania\",\"count\":1}\\n{\"ORIGIN_COUNTRY_NAME\":\"United States\",\"DEST_COUNTRY_NAME\":\"Pakistan\",\"count\":14}\\n{\"ORIGIN_COUNTRY_NAME\":\"United States\",\"DEST_COUNTRY_NAME\":\"Italy\",\"count\":327}\\n{\"ORIGIN_COUNTRY_NAME\":\"Russia\",\"DEST_COUNTRY_NAME\":\"United States\",\"count\":167}\\n{\"ORIGIN_COUNTRY_NAME\":\"Federated States of Micronesia\",\"DEST_COUNTRY_NAME\":\"United States\",\"count\":62}\\n{\"ORIGIN_COUNTRY_NAME\":\"Netherlands\",\"DEST_COUNTRY_NAME\":\"United States\",\"count\":618}\\n{\"ORIGIN_COUNTRY_NAME\":\"United States\",\"DEST_COUNTRY_NAME\":\"Iceland\",\"count\":146}\\n{\"ORIGIN_COUNTRY_NAME\":\"United States\",\"DEST_COUNTRY_NAME\":\"Marshall Islands\",\"count\":50}\\n{\"ORIGIN_COUNTRY_NAME\":\"United States\",\"DEST_COUNTRY_NAME\":\"Luxembourg\",\"count\":160}\\n{\"ORIGIN_COUNTRY_NAME\":\"United States\",\"DEST_COUNTRY_NAME\":\"Honduras\",\"count\":423}\\n{\"ORIGIN_COUNTRY_NAME\":\"United States\",\"DEST_COUNTRY_NAME\":\"Rwanda\",\"count\":1}\\n{\"ORIGIN_COUNTRY_NAME\":\"United States\",\"DEST_COUNTRY_NAME\":\"The Bahamas\",\"count\":865}\\n{\"ORIGIN_COUNTRY_NAME\":\"United States\",\"DEST_COUNTRY_NAME\":\"El Salvador\",\"count\":551}\\n{\"ORIGIN_COUNTRY_NAME\":\"Senegal\",\"DEST_COUNTRY_NAME\":\"United States\",\"count\":32}\\n{\"ORIGIN_COUNTRY_NAME\":\"United States\",\"DEST_COUNTRY_NAME\":\"Samoa\",\"count\":25}\\n{\"ORIGIN_COUNTRY_NAME\":\"Angola\",\"DEST_COUNTRY_NAME\":\"United States\",\"count\":12}\\n{\"ORIGIN_COUNTRY_NAME\":\"United States\",\"DEST_COUNTRY_NAME\":\"Kazakhstan\",\"count\":2}\\n{\"ORIGIN_COUNTRY_NAME\":\"United States\",\"DEST_COUNTRY_NAME\":\"Switzerland\",\"count\":288}\\n{\"ORIGIN_COUNTRY_NAME\":\"Anguilla\",\"DEST_COUNTRY_NAME\":\"United States\",\"count\":18}\\n{\"ORIGIN_COUNTRY_NAME\":\"Mali\",\"DEST_COUNTRY_NAME\":\"United States\",\"count\":1}\\n{\"ORIGIN_COUNTRY_NAME\":\"United States\",\"DEST_COUNTRY_NAME\":\"Sint Maarten\",\"count\":271}\\n{\"ORIGIN_COUNTRY_NAME\":\"United States\",\"DEST_COUNTRY_NAME\":\"Hong Kong\",\"count\":282}\\n{\"ORIGIN_COUNTRY_NAME\":\"United States\",\"DEST_COUNTRY_NAME\":\"Trinidad and Tobago\",\"count\":183}\\n{\"ORIGIN_COUNTRY_NAME\":\"United States\",\"DEST_COUNTRY_NAME\":\"Latvia\",\"count\":29}\\n{\"ORIGIN_COUNTRY_NAME\":\"Ecuador\",\"DEST_COUNTRY_NAME\":\"United States\",\"count\":307}\\n{\"ORIGIN_COUNTRY_NAME\":\"United States\",\"DEST_COUNTRY_NAME\":\"Suriname\",\"count\":15}\\n{\"ORIGIN_COUNTRY_NAME\":\"United States\",\"DEST_COUNTRY_NAME\":\"Mexico\",\"count\":6372}\\n{\"ORIGIN_COUNTRY_NAME\":\"United States\",\"DEST_COUNTRY_NAME\":\"Ecuador\",\"count\":252}\\n{\"ORIGIN_COUNTRY_NAME\":\"Portugal\",\"DEST_COUNTRY_NAME\":\"United States\",\"count\":126}\\n{\"ORIGIN_COUNTRY_NAME\":\"Costa Rica\",\"DEST_COUNTRY_NAME\":\"United States\",\"count\":549}\\n{\"ORIGIN_COUNTRY_NAME\":\"Guatemala\",\"DEST_COUNTRY_NAME\":\"United States\",\"count\":331}\\n{\"ORIGIN_COUNTRY_NAME\":\"Suriname\",\"DEST_COUNTRY_NAME\":\"United States\",\"count\":21}\\n{\"ORIGIN_COUNTRY_NAME\":\"United States\",\"DEST_COUNTRY_NAME\":\"Colombia\",\"count\":798}\\n{\"ORIGIN_COUNTRY_NAME\":\"Cape Verde\",\"DEST_COUNTRY_NAME\":\"United States\",\"count\":15}\\n{\"ORIGIN_COUNTRY_NAME\":\"United States\",\"DEST_COUNTRY_NAME\":\"Norway\",\"count\":48}\\n{\"ORIGIN_COUNTRY_NAME\":\"Jamaica\",\"DEST_COUNTRY_NAME\":\"United States\",\"count\":599}\\n{\"ORIGIN_COUNTRY_NAME\":\"Malaysia\",\"DEST_COUNTRY_NAME\":\"United States\",\"count\":1}\\n{\"ORIGIN_COUNTRY_NAME\":\"Morocco\",\"DEST_COUNTRY_NAME\":\"United States\",\"count\":16}\\n{\"ORIGIN_COUNTRY_NAME\":\"United States\",\"DEST_COUNTRY_NAME\":\"Thailand\",\"count\":2}\\n{\"ORIGIN_COUNTRY_NAME\":\"United States\",\"DEST_COUNTRY_NAME\":\"Burundi\",\"count\":1}\\n{\"ORIGIN_COUNTRY_NAME\":\"United States\",\"DEST_COUNTRY_NAME\":\"Venezuela\",\"count\":350}\\n{\"ORIGIN_COUNTRY_NAME\":\"Samoa\",\"DEST_COUNTRY_NAME\":\"United States\",\"count\":25}\\n{\"ORIGIN_COUNTRY_NAME\":\"Palau\",\"DEST_COUNTRY_NAME\":\"United States\",\"count\":35}\\n{\"ORIGIN_COUNTRY_NAME\":\"Venezuela\",\"DEST_COUNTRY_NAME\":\"United States\",\"count\":295}\\n{\"ORIGIN_COUNTRY_NAME\":\"United States\",\"DEST_COUNTRY_NAME\":\"Panama\",\"count\":418}\\n{\"ORIGIN_COUNTRY_NAME\":\"Finland\",\"DEST_COUNTRY_NAME\":\"United States\",\"count\":15}\\n{\"ORIGIN_COUNTRY_NAME\":\"United States\",\"DEST_COUNTRY_NAME\":\"Morocco\",\"count\":18}\\n{\"ORIGIN_COUNTRY_NAME\":\"United States\",\"DEST_COUNTRY_NAME\":\"Antigua and Barbuda\",\"count\":123}\\n{\"ORIGIN_COUNTRY_NAME\":\"Chile\",\"DEST_COUNTRY_NAME\":\"United States\",\"count\":171}\\n{\"ORIGIN_COUNTRY_NAME\":\"United States\",\"DEST_COUNTRY_NAME\":\"Azerbaijan\",\"count\":3}\\n{\"ORIGIN_COUNTRY_NAME\":\"Greece\",\"DEST_COUNTRY_NAME\":\"United States\",\"count\":14}\\n{\"ORIGIN_COUNTRY_NAME\":\"The Bahamas\",\"DEST_COUNTRY_NAME\":\"United States\",\"count\":897}\\n{\"ORIGIN_COUNTRY_NAME\":\"United States\",\"DEST_COUNTRY_NAME\":\"New Zealand\",\"count\":114}\\n{\"ORIGIN_COUNTRY_NAME\":\"Hong Kong\",\"DEST_COUNTRY_NAME\":\"United States\",\"count\":344}\\n{\"ORIGIN_COUNTRY_NAME\":\"United States\",\"DEST_COUNTRY_NAME\":\"Hungary\",\"count\":1}\\n{\"ORIGIN_COUNTRY_NAME\":\"China\",\"DEST_COUNTRY_NAME\":\"United States\",\"count\":614}\\n{\"ORIGIN_COUNTRY_NAME\":\"Kuwait\",\"DEST_COUNTRY_NAME\":\"United States\",\"count\":24}\\n{\"ORIGIN_COUNTRY_NAME\":\"United States\",\"DEST_COUNTRY_NAME\":\"Sweden\",\"count\":70}\\n{\"ORIGIN_COUNTRY_NAME\":\"Egypt\",\"DEST_COUNTRY_NAME\":\"United States\",\"count\":12}\\n{\"ORIGIN_COUNTRY_NAME\":\"Dominican Republic\",\"DEST_COUNTRY_NAME\":\"United States\",\"count\":1119}\\n{\"ORIGIN_COUNTRY_NAME\":\"United States\",\"DEST_COUNTRY_NAME\":\"Israel\",\"count\":119}\\n{\"ORIGIN_COUNTRY_NAME\":\"United States\",\"DEST_COUNTRY_NAME\":\"United States\",\"count\":343132}\\n{\"ORIGIN_COUNTRY_NAME\":\"Luxembourg\",\"DEST_COUNTRY_NAME\":\"United States\",\"count\":134}\\n{\"ORIGIN_COUNTRY_NAME\":\"United States\",\"DEST_COUNTRY_NAME\":\"Ethiopia\",\"count\":12}\\n{\"ORIGIN_COUNTRY_NAME\":\"Poland\",\"DEST_COUNTRY_NAME\":\"United States\",\"count\":37}\\n{\"ORIGIN_COUNTRY_NAME\":\"United States\",\"DEST_COUNTRY_NAME\":\"Martinique\",\"count\":26}\\n{\"ORIGIN_COUNTRY_NAME\":\"Zimbabwe\",\"DEST_COUNTRY_NAME\":\"United States\",\"count\":2}\\n{\"ORIGIN_COUNTRY_NAME\":\"Saint Barthelemy\",\"DEST_COUNTRY_NAME\":\"United States\",\"count\":58}\\n{\"ORIGIN_COUNTRY_NAME\":\"United States\",\"DEST_COUNTRY_NAME\":\"Saint Barthelemy\",\"count\":67}\\n{\"ORIGIN_COUNTRY_NAME\":\"Turkey\",\"DEST_COUNTRY_NAME\":\"United States\",\"count\":100}\\n{\"ORIGIN_COUNTRY_NAME\":\"United States\",\"DEST_COUNTRY_NAME\":\"Barbados\",\"count\":97}\\n{\"ORIGIN_COUNTRY_NAME\":\"United States\",\"DEST_COUNTRY_NAME\":\"Germany\",\"count\":1423}\\n{\"ORIGIN_COUNTRY_NAME\":\"United States\",\"DEST_COUNTRY_NAME\":\"Kyrgyzstan\",\"count\":1}\\n{\"ORIGIN_COUNTRY_NAME\":\"South Korea\",\"DEST_COUNTRY_NAME\":\"United States\",\"count\":687}\\n{\"ORIGIN_COUNTRY_NAME\":\"El Salvador\",\"DEST_COUNTRY_NAME\":\"United States\",\"count\":466}\\n{\"ORIGIN_COUNTRY_NAME\":\"United States\",\"DEST_COUNTRY_NAME\":\"Ireland\",\"count\":255}\\n{\"ORIGIN_COUNTRY_NAME\":\"United States\",\"DEST_COUNTRY_NAME\":\"Malaysia\",\"count\":2}\\n{\"ORIGIN_COUNTRY_NAME\":\"Aruba\",\"DEST_COUNTRY_NAME\":\"United States\",\"count\":344}\\n{\"ORIGIN_COUNTRY_NAME\":\"Panama\",\"DEST_COUNTRY_NAME\":\"United States\",\"count\":419}\\n{\"ORIGIN_COUNTRY_NAME\":\"Ethiopia\",\"DEST_COUNTRY_NAME\":\"United States\",\"count\":12}\\n{\"ORIGIN_COUNTRY_NAME\":\"Turks and Caicos Islands\",\"DEST_COUNTRY_NAME\":\"United States\",\"count\":178}\\n{\"ORIGIN_COUNTRY_NAME\":\"Pakistan\",\"DEST_COUNTRY_NAME\":\"United States\",\"count\":12}\\n{\"ORIGIN_COUNTRY_NAME\":\"United States\",\"DEST_COUNTRY_NAME\":\"Cyprus\",\"count\":2}\\n{\"ORIGIN_COUNTRY_NAME\":\"Honduras\",\"DEST_COUNTRY_NAME\":\"United States\",\"count\":392}\\n{\"ORIGIN_COUNTRY_NAME\":\"United States\",\"DEST_COUNTRY_NAME\":\"Fiji\",\"count\":34}\\n{\"ORIGIN_COUNTRY_NAME\":\"United States\",\"DEST_COUNTRY_NAME\":\"Qatar\",\"count\":71}\\n{\"ORIGIN_COUNTRY_NAME\":\"United States\",\"DEST_COUNTRY_NAME\":\"Saint Kitts and Nevis\",\"count\":99}\\n{\"ORIGIN_COUNTRY_NAME\":\"United States\",\"DEST_COUNTRY_NAME\":\"Kuwait\",\"count\":24}\\n{\"ORIGIN_COUNTRY_NAME\":\"United States\",\"DEST_COUNTRY_NAME\":\"Haiti\",\"count\":199}\\n{\"ORIGIN_COUNTRY_NAME\":\"United States\",\"DEST_COUNTRY_NAME\":\"Taiwan\",\"count\":243}\\n{\"ORIGIN_COUNTRY_NAME\":\"United States\",\"DEST_COUNTRY_NAME\":\"Canada\",\"count\":7860}\\n{\"ORIGIN_COUNTRY_NAME\":\"United States\",\"DEST_COUNTRY_NAME\":\"Federated States of Micronesia\",\"count\":53}\\n{\"ORIGIN_COUNTRY_NAME\":\"United States\",\"DEST_COUNTRY_NAME\":\"Jamaica\",\"count\":581}\\n{\"ORIGIN_COUNTRY_NAME\":\"United States\",\"DEST_COUNTRY_NAME\":\"Dominican Republic\",\"count\":1068}\\n{\"ORIGIN_COUNTRY_NAME\":\"United States\",\"DEST_COUNTRY_NAME\":\"Japan\",\"count\":1613}\\n{\"ORIGIN_COUNTRY_NAME\":\"Saint Vincent and the Grenadines\",\"DEST_COUNTRY_NAME\":\"United States\",\"count\":10}\\n{\"ORIGIN_COUNTRY_NAME\":\"United States\",\"DEST_COUNTRY_NAME\":\"Finland\",\"count\":17}\\n{\"ORIGIN_COUNTRY_NAME\":\"Ukraine\",\"DEST_COUNTRY_NAME\":\"United States\",\"count\":4}\\n{\"ORIGIN_COUNTRY_NAME\":\"Guadeloupe\",\"DEST_COUNTRY_NAME\":\"United States\",\"count\":42}\\n{\"ORIGIN_COUNTRY_NAME\":\"France\",\"DEST_COUNTRY_NAME\":\"United States\",\"count\":848}\\n{\"ORIGIN_COUNTRY_NAME\":\"Norway\",\"DEST_COUNTRY_NAME\":\"United States\",\"count\":46}\\n{\"ORIGIN_COUNTRY_NAME\":\"United States\",\"DEST_COUNTRY_NAME\":\"Aruba\",\"count\":352}\\n{\"ORIGIN_COUNTRY_NAME\":\"United States\",\"DEST_COUNTRY_NAME\":\"French Guiana\",\"count\":7}\\n{\"ORIGIN_COUNTRY_NAME\":\"Kiribati\",\"DEST_COUNTRY_NAME\":\"United States\",\"count\":29}\\n{\"ORIGIN_COUNTRY_NAME\":\"United States\",\"DEST_COUNTRY_NAME\":\"Zimbabwe\",\"count\":2}\\n{\"ORIGIN_COUNTRY_NAME\":\"United States\",\"DEST_COUNTRY_NAME\":\"India\",\"count\":61}\\n{\"ORIGIN_COUNTRY_NAME\":\"United States\",\"DEST_COUNTRY_NAME\":\"British Virgin Islands\",\"count\":101}\\n{\"ORIGIN_COUNTRY_NAME\":\"Germany\",\"DEST_COUNTRY_NAME\":\"United States\",\"count\":1402}\\n{\"ORIGIN_COUNTRY_NAME\":\"New Zealand\",\"DEST_COUNTRY_NAME\":\"United States\",\"count\":77}\\n{\"ORIGIN_COUNTRY_NAME\":\"United States\",\"DEST_COUNTRY_NAME\":\"Brazil\",\"count\":912}\\n{\"ORIGIN_COUNTRY_NAME\":\"United States\",\"DEST_COUNTRY_NAME\":\"Saint Helena, Ascension, and Tristan da Cunha\",\"count\":1}\\n{\"ORIGIN_COUNTRY_NAME\":\"Cambodia\",\"DEST_COUNTRY_NAME\":\"United States\",\"count\":3}\\n{\"ORIGIN_COUNTRY_NAME\":\"United States\",\"DEST_COUNTRY_NAME\":\"French Polynesia\",\"count\":43}\\n{\"ORIGIN_COUNTRY_NAME\":\"United States\",\"DEST_COUNTRY_NAME\":\"United Arab Emirates\",\"count\":202}\\n{\"ORIGIN_COUNTRY_NAME\":\"United States\",\"DEST_COUNTRY_NAME\":\"Singapore\",\"count\":21}\\n{\"ORIGIN_COUNTRY_NAME\":\"United States\",\"DEST_COUNTRY_NAME\":\"Tanzania\",\"count\":2}\\n{\"ORIGIN_COUNTRY_NAME\":\"Mexico\",\"DEST_COUNTRY_NAME\":\"United States\",\"count\":6354}\\n{\"ORIGIN_COUNTRY_NAME\":\"United States\",\"DEST_COUNTRY_NAME\":\"Netherlands\",\"count\":640}\\n{\"ORIGIN_COUNTRY_NAME\":\"Sweden\",\"DEST_COUNTRY_NAME\":\"United States\",\"count\":73}\\n{\"ORIGIN_COUNTRY_NAME\":\"Martinique\",\"DEST_COUNTRY_NAME\":\"United States\",\"count\":24}\\n{\"ORIGIN_COUNTRY_NAME\":\"United Arab Emirates\",\"DEST_COUNTRY_NAME\":\"United States\",\"count\":187}\\n{\"ORIGIN_COUNTRY_NAME\":\"United States\",\"DEST_COUNTRY_NAME\":\"Denmark\",\"count\":104}\\n{\"ORIGIN_COUNTRY_NAME\":\"United States\",\"DEST_COUNTRY_NAME\":\"China\",\"count\":543}\\n{\"ORIGIN_COUNTRY_NAME\":\"Nicaragua\",\"DEST_COUNTRY_NAME\":\"United States\",\"count\":185}\\n{\"ORIGIN_COUNTRY_NAME\":\"Philippines\",\"DEST_COUNTRY_NAME\":\"United States\",\"count\":112}\\n{\"ORIGIN_COUNTRY_NAME\":\"Belgium\",\"DEST_COUNTRY_NAME\":\"United States\",\"count\":193}\\n{\"ORIGIN_COUNTRY_NAME\":\"United States\",\"DEST_COUNTRY_NAME\":\"Nepal\",\"count\":1}\\n{\"ORIGIN_COUNTRY_NAME\":\"United States\",\"DEST_COUNTRY_NAME\":\"Libya\",\"count\":1}\\n{\"ORIGIN_COUNTRY_NAME\":\"United States\",\"DEST_COUNTRY_NAME\":\"Argentina\",\"count\":176}\\n{\"ORIGIN_COUNTRY_NAME\":\"United States\",\"DEST_COUNTRY_NAME\":\"Peru\",\"count\":255}\\n{\"ORIGIN_COUNTRY_NAME\":\"United States\",\"DEST_COUNTRY_NAME\":\"Cayman Islands\",\"count\":274}\\n{\"ORIGIN_COUNTRY_NAME\":\"United States\",\"DEST_COUNTRY_NAME\":\"South Africa\",\"count\":24}\\n{\"ORIGIN_COUNTRY_NAME\":\"Iceland\",\"DEST_COUNTRY_NAME\":\"United States\",\"count\":151}\\n{\"ORIGIN_COUNTRY_NAME\":\"Argentina\",\"DEST_COUNTRY_NAME\":\"United States\",\"count\":140}\\n{\"ORIGIN_COUNTRY_NAME\":\"United States\",\"DEST_COUNTRY_NAME\":\"Spain\",\"count\":370}\\n{\"ORIGIN_COUNTRY_NAME\":\"United States\",\"DEST_COUNTRY_NAME\":\"Bermuda\",\"count\":163}\\n{\"ORIGIN_COUNTRY_NAME\":\"Nigeria\",\"DEST_COUNTRY_NAME\":\"United States\",\"count\":49}\\n{\"ORIGIN_COUNTRY_NAME\":\"Austria\",\"DEST_COUNTRY_NAME\":\"United States\",\"count\":39}\\n{\"ORIGIN_COUNTRY_NAME\":\"Bonaire, Sint Eustatius, and Saba\",\"DEST_COUNTRY_NAME\":\"United States\",\"count\":54}\\n{\"ORIGIN_COUNTRY_NAME\":\"United States\",\"DEST_COUNTRY_NAME\":\"Kiribati\",\"count\":29}\\n{\"ORIGIN_COUNTRY_NAME\":\"United States\",\"DEST_COUNTRY_NAME\":\"Saudi Arabia\",\"count\":86}\\n{\"ORIGIN_COUNTRY_NAME\":\"United States\",\"DEST_COUNTRY_NAME\":\"Czech Republic\",\"count\":10}\\n{\"ORIGIN_COUNTRY_NAME\":\"United States\",\"DEST_COUNTRY_NAME\":\"Macau\",\"count\":2}\\n{\"ORIGIN_COUNTRY_NAME\":\"United States\",\"DEST_COUNTRY_NAME\":\"Belgium\",\"count\":265}\\n{\"ORIGIN_COUNTRY_NAME\":\"Israel\",\"DEST_COUNTRY_NAME\":\"United States\",\"count\":107}\\n{\"ORIGIN_COUNTRY_NAME\":\"Saint Lucia\",\"DEST_COUNTRY_NAME\":\"United States\",\"count\":92}\\n{\"ORIGIN_COUNTRY_NAME\":\"United States\",\"DEST_COUNTRY_NAME\":\"Sierra Leone\",\"count\":1}\\n{\"ORIGIN_COUNTRY_NAME\":\"Bahrain\",\"DEST_COUNTRY_NAME\":\"United States\",\"count\":1}\\n{\"ORIGIN_COUNTRY_NAME\":\"British Virgin Islands\",\"DEST_COUNTRY_NAME\":\"United States\",\"count\":94}\\n{\"ORIGIN_COUNTRY_NAME\":\"Saint Helena, Ascension, and Tristan da Cunha\",\"DEST_COUNTRY_NAME\":\"United States\",\"count\":2}\\n{\"ORIGIN_COUNTRY_NAME\":\"United States\",\"DEST_COUNTRY_NAME\":\"Curacao\",\"count\":97}\\n{\"ORIGIN_COUNTRY_NAME\":\"Denmark\",\"DEST_COUNTRY_NAME\":\"United States\",\"count\":106}\\n{\"ORIGIN_COUNTRY_NAME\":\"Guyana\",\"DEST_COUNTRY_NAME\":\"United States\",\"count\":52}\\n{\"ORIGIN_COUNTRY_NAME\":\"United States\",\"DEST_COUNTRY_NAME\":\"Philippines\",\"count\":136}\\n{\"ORIGIN_COUNTRY_NAME\":\"United States\",\"DEST_COUNTRY_NAME\":\"Grenada\",\"count\":42}\\n{\"ORIGIN_COUNTRY_NAME\":\"United States\",\"DEST_COUNTRY_NAME\":\"Cape Verde\",\"count\":21}\\n{\"ORIGIN_COUNTRY_NAME\":\"United States\",\"DEST_COUNTRY_NAME\":\"Ukraine\",\"count\":4}\\n{\"ORIGIN_COUNTRY_NAME\":\"United States\",\"DEST_COUNTRY_NAME\":\"Russia\",\"count\":194}\\n{\"ORIGIN_COUNTRY_NAME\":\"Saudi Arabia\",\"DEST_COUNTRY_NAME\":\"United States\",\"count\":84}\\n{\"ORIGIN_COUNTRY_NAME\":\"United States\",\"DEST_COUNTRY_NAME\":\"Guatemala\",\"count\":376}\\n{\"ORIGIN_COUNTRY_NAME\":\"United States\",\"DEST_COUNTRY_NAME\":\"Saint Lucia\",\"count\":91}\\n{\"ORIGIN_COUNTRY_NAME\":\"United States\",\"DEST_COUNTRY_NAME\":\"Paraguay\",\"count\":75}\\n{\"ORIGIN_COUNTRY_NAME\":\"Curacao\",\"DEST_COUNTRY_NAME\":\"United States\",\"count\":89}\\n{\"ORIGIN_COUNTRY_NAME\":\"Taiwan\",\"DEST_COUNTRY_NAME\":\"United States\",\"count\":235}\\n{\"ORIGIN_COUNTRY_NAME\":\"South Africa\",\"DEST_COUNTRY_NAME\":\"United States\",\"count\":26}\\n{\"ORIGIN_COUNTRY_NAME\":\"United States\",\"DEST_COUNTRY_NAME\":\"Niger\",\"count\":1}\\n{\"ORIGIN_COUNTRY_NAME\":\"United States\",\"DEST_COUNTRY_NAME\":\"Turkey\",\"count\":99}\\n{\"ORIGIN_COUNTRY_NAME\":\"United States\",\"DEST_COUNTRY_NAME\":\"United Kingdom\",\"count\":1802}\\n{\"ORIGIN_COUNTRY_NAME\":\"United States\",\"DEST_COUNTRY_NAME\":\"Romania\",\"count\":14}\\n{\"ORIGIN_COUNTRY_NAME\":\"Greenland\",\"DEST_COUNTRY_NAME\":\"United States\",\"count\":3}\\n{\"ORIGIN_COUNTRY_NAME\":\"United States\",\"DEST_COUNTRY_NAME\":\"Papua New Guinea\",\"count\":2}\\n{\"ORIGIN_COUNTRY_NAME\":\"Spain\",\"DEST_COUNTRY_NAME\":\"United States\",\"count\":377}\\n{\"ORIGIN_COUNTRY_NAME\":\"Italy\",\"DEST_COUNTRY_NAME\":\"United States\",\"count\":333}\\n{\"ORIGIN_COUNTRY_NAME\":\"United States\",\"DEST_COUNTRY_NAME\":\"Cuba\",\"count\":337}\\n{\"ORIGIN_COUNTRY_NAME\":\"Switzerland\",\"DEST_COUNTRY_NAME\":\"United States\",\"count\":285}\\n{\"ORIGIN_COUNTRY_NAME\":\"United States\",\"DEST_COUNTRY_NAME\":\"Dominica\",\"count\":19}\\n{\"ORIGIN_COUNTRY_NAME\":\"United States\",\"DEST_COUNTRY_NAME\":\"Portugal\",\"count\":116}\\n{\"ORIGIN_COUNTRY_NAME\":\"Japan\",\"DEST_COUNTRY_NAME\":\"United States\",\"count\":1476}\\n{\"ORIGIN_COUNTRY_NAME\":\"Brazil\",\"DEST_COUNTRY_NAME\":\"United States\",\"count\":510}\\n{\"ORIGIN_COUNTRY_NAME\":\"United States\",\"DEST_COUNTRY_NAME\":\"Bahrain\",\"count\":50}\\n{\"ORIGIN_COUNTRY_NAME\":\"Peru\",\"DEST_COUNTRY_NAME\":\"United States\",\"count\":300}\\n{\"ORIGIN_COUNTRY_NAME\":\"United States\",\"DEST_COUNTRY_NAME\":\"Indonesia\",\"count\":1}\\n{\"ORIGIN_COUNTRY_NAME\":\"United Kingdom\",\"DEST_COUNTRY_NAME\":\"United States\",\"count\":1711}\\n{\"ORIGIN_COUNTRY_NAME\":\"Belize\",\"DEST_COUNTRY_NAME\":\"United States\",\"count\":127}\\n{\"ORIGIN_COUNTRY_NAME\":\"United States\",\"DEST_COUNTRY_NAME\":\"Belize\",\"count\":137}\\n{\"ORIGIN_COUNTRY_NAME\":\"United States\",\"DEST_COUNTRY_NAME\":\"Kenya\",\"count\":1}\\n{\"ORIGIN_COUNTRY_NAME\":\"Ghana\",\"DEST_COUNTRY_NAME\":\"United States\",\"count\":16}\\n{\"ORIGIN_COUNTRY_NAME\":\"Fiji\",\"DEST_COUNTRY_NAME\":\"United States\",\"count\":30}\\n{\"ORIGIN_COUNTRY_NAME\":\"Canada\",\"DEST_COUNTRY_NAME\":\"United States\",\"count\":7983}\\n{\"ORIGIN_COUNTRY_NAME\":\"French Polynesia\",\"DEST_COUNTRY_NAME\":\"United States\",\"count\":40}\\n{\"ORIGIN_COUNTRY_NAME\":\"Antigua and Barbuda\",\"DEST_COUNTRY_NAME\":\"United States\",\"count\":123}\\n{\"ORIGIN_COUNTRY_NAME\":\"United States\",\"DEST_COUNTRY_NAME\":\"Brunei\",\"count\":1}\\n{\"ORIGIN_COUNTRY_NAME\":\"United States\",\"DEST_COUNTRY_NAME\":\"Nicaragua\",\"count\":178}\\n{\"ORIGIN_COUNTRY_NAME\":\"Latvia\",\"DEST_COUNTRY_NAME\":\"United States\",\"count\":12}\\n{\"ORIGIN_COUNTRY_NAME\":\"Dominica\",\"DEST_COUNTRY_NAME\":\"United States\",\"count\":25}\\n{\"ORIGIN_COUNTRY_NAME\":\"Czech Republic\",\"DEST_COUNTRY_NAME\":\"United States\",\"count\":9}\\n{\"ORIGIN_COUNTRY_NAME\":\"Cook Islands\",\"DEST_COUNTRY_NAME\":\"United States\",\"count\":12}\\n{\"ORIGIN_COUNTRY_NAME\":\"United States\",\"DEST_COUNTRY_NAME\":\"Austria\",\"count\":35}\\n{\"ORIGIN_COUNTRY_NAME\":\"Australia\",\"DEST_COUNTRY_NAME\":\"United States\",\"count\":222}\\n{\"ORIGIN_COUNTRY_NAME\":\"United States\",\"DEST_COUNTRY_NAME\":\"Jordan\",\"count\":74}\\n{\"ORIGIN_COUNTRY_NAME\":\"United States\",\"DEST_COUNTRY_NAME\":\"Palau\",\"count\":35}\\n{\"ORIGIN_COUNTRY_NAME\":\"United States\",\"DEST_COUNTRY_NAME\":\"South Korea\",\"count\":842}\\n{\"ORIGIN_COUNTRY_NAME\":\"United States\",\"DEST_COUNTRY_NAME\":\"Angola\",\"count\":12}\\n{\"ORIGIN_COUNTRY_NAME\":\"United States\",\"DEST_COUNTRY_NAME\":\"Ghana\",\"count\":16}\\n{\"ORIGIN_COUNTRY_NAME\":\"United States\",\"DEST_COUNTRY_NAME\":\"New Caledonia\",\"count\":1}\\n{\"ORIGIN_COUNTRY_NAME\":\"United States\",\"DEST_COUNTRY_NAME\":\"Guadeloupe\",\"count\":41}\\n{\"ORIGIN_COUNTRY_NAME\":\"United States\",\"DEST_COUNTRY_NAME\":\"France\",\"count\":837}\\n{\"ORIGIN_COUNTRY_NAME\":\"United States\",\"DEST_COUNTRY_NAME\":\"Poland\",\"count\":40}\\n{\"ORIGIN_COUNTRY_NAME\":\"United States\",\"DEST_COUNTRY_NAME\":\"Nigeria\",\"count\":58}\\n{\"ORIGIN_COUNTRY_NAME\":\"Uruguay\",\"DEST_COUNTRY_NAME\":\"United States\",\"count\":20}\\n{\"ORIGIN_COUNTRY_NAME\":\"United States\",\"DEST_COUNTRY_NAME\":\"Greenland\",\"count\":1}\\n{\"ORIGIN_COUNTRY_NAME\":\"United States\",\"DEST_COUNTRY_NAME\":\"Chile\",\"count\":147}\\n{\"ORIGIN_COUNTRY_NAME\":\"Bermuda\",\"DEST_COUNTRY_NAME\":\"United States\",\"count\":166}\\n{\"ORIGIN_COUNTRY_NAME\":\"United States\",\"DEST_COUNTRY_NAME\":\"Lebanon\",\"count\":1}\\n{\"ORIGIN_COUNTRY_NAME\":\"Cuba\",\"DEST_COUNTRY_NAME\":\"United States\",\"count\":336}\\n{\"ORIGIN_COUNTRY_NAME\":\"Colombia\",\"DEST_COUNTRY_NAME\":\"United States\",\"count\":811}\\n{\"ORIGIN_COUNTRY_NAME\":\"Qatar\",\"DEST_COUNTRY_NAME\":\"United States\",\"count\":72}\\n{\"ORIGIN_COUNTRY_NAME\":\"Barbados\",\"DEST_COUNTRY_NAME\":\"United States\",\"count\":78}\\n{\"ORIGIN_COUNTRY_NAME\":\"United States\",\"DEST_COUNTRY_NAME\":\"Australia\",\"count\":295}\\n{\"ORIGIN_COUNTRY_NAME\":\"Cayman Islands\",\"DEST_COUNTRY_NAME\":\"United States\",\"count\":274}\\n{\"ORIGIN_COUNTRY_NAME\":\"Jordan\",\"DEST_COUNTRY_NAME\":\"United States\",\"count\":77}\\n{\"ORIGIN_COUNTRY_NAME\":\"Trinidad and Tobago\",\"DEST_COUNTRY_NAME\":\"United States\",\"count\":184}\\n{\"ORIGIN_COUNTRY_NAME\":\"Bolivia\",\"DEST_COUNTRY_NAME\":\"United States\",\"count\":13}\\n{\"ORIGIN_COUNTRY_NAME\":\"United States\",\"DEST_COUNTRY_NAME\":\"Uruguay\",\"count\":57}\\n{\"ORIGIN_COUNTRY_NAME\":\"United States\",\"DEST_COUNTRY_NAME\":\"Cook Islands\",\"count\":12}\\n{\"ORIGIN_COUNTRY_NAME\":\"Saint Kitts and Nevis\",\"DEST_COUNTRY_NAME\":\"United States\",\"count\":115}\\n{\"ORIGIN_COUNTRY_NAME\":\"French Guiana\",\"DEST_COUNTRY_NAME\":\"United States\",\"count\":3}\\n{\"ORIGIN_COUNTRY_NAME\":\"Haiti\",\"DEST_COUNTRY_NAME\":\"United States\",\"count\":186}\\n{\"ORIGIN_COUNTRY_NAME\":\"United States\",\"DEST_COUNTRY_NAME\":\"Bonaire, Sint Eustatius, and Saba\",\"count\":53}\\n{\"ORIGIN_COUNTRY_NAME\":\"United States\",\"DEST_COUNTRY_NAME\":\"Greece\",\"count\":12}\\n'), ('file:/home/ail/Spark/data/flight-data/json/2014-summary.json', '{\"ORIGIN_COUNTRY_NAME\":\"Saint Martin\",\"DEST_COUNTRY_NAME\":\"United States\",\"count\":1}\\n{\"ORIGIN_COUNTRY_NAME\":\"Romania\",\"DEST_COUNTRY_NAME\":\"United States\",\"count\":12}\\n{\"ORIGIN_COUNTRY_NAME\":\"Croatia\",\"DEST_COUNTRY_NAME\":\"United States\",\"count\":2}\\n{\"ORIGIN_COUNTRY_NAME\":\"Ireland\",\"DEST_COUNTRY_NAME\":\"United States\",\"count\":291}\\n{\"ORIGIN_COUNTRY_NAME\":\"India\",\"DEST_COUNTRY_NAME\":\"United States\",\"count\":62}\\n{\"ORIGIN_COUNTRY_NAME\":\"United States\",\"DEST_COUNTRY_NAME\":\"Egypt\",\"count\":11}\\n{\"ORIGIN_COUNTRY_NAME\":\"Grenada\",\"DEST_COUNTRY_NAME\":\"United States\",\"count\":47}\\n{\"ORIGIN_COUNTRY_NAME\":\"United States\",\"DEST_COUNTRY_NAME\":\"Costa Rica\",\"count\":529}\\n{\"ORIGIN_COUNTRY_NAME\":\"United States\",\"DEST_COUNTRY_NAME\":\"Senegal\",\"count\":35}\\n{\"ORIGIN_COUNTRY_NAME\":\"Sint Maarten\",\"DEST_COUNTRY_NAME\":\"United States\",\"count\":290}\\n{\"ORIGIN_COUNTRY_NAME\":\"United States\",\"DEST_COUNTRY_NAME\":\"Guyana\",\"count\":52}\\n{\"ORIGIN_COUNTRY_NAME\":\"Marshall Islands\",\"DEST_COUNTRY_NAME\":\"United States\",\"count\":35}\\n{\"ORIGIN_COUNTRY_NAME\":\"United States\",\"DEST_COUNTRY_NAME\":\"Malta\",\"count\":2}\\n{\"ORIGIN_COUNTRY_NAME\":\"United States\",\"DEST_COUNTRY_NAME\":\"Malawi\",\"count\":1}\\n{\"ORIGIN_COUNTRY_NAME\":\"United States\",\"DEST_COUNTRY_NAME\":\"Bolivia\",\"count\":33}\\n{\"ORIGIN_COUNTRY_NAME\":\"United States\",\"DEST_COUNTRY_NAME\":\"Anguilla\",\"count\":34}\\n{\"ORIGIN_COUNTRY_NAME\":\"United States\",\"DEST_COUNTRY_NAME\":\"Algeria\",\"count\":9}\\n{\"ORIGIN_COUNTRY_NAME\":\"Paraguay\",\"DEST_COUNTRY_NAME\":\"United States\",\"count\":14}\\n{\"ORIGIN_COUNTRY_NAME\":\"United States\",\"DEST_COUNTRY_NAME\":\"Gibraltar\",\"count\":1}\\n{\"ORIGIN_COUNTRY_NAME\":\"United States\",\"DEST_COUNTRY_NAME\":\"Turks and Caicos Islands\",\"count\":193}\\n{\"ORIGIN_COUNTRY_NAME\":\"United States\",\"DEST_COUNTRY_NAME\":\"Saint Vincent and the Grenadines\",\"count\":1}\\n{\"ORIGIN_COUNTRY_NAME\":\"Russia\",\"DEST_COUNTRY_NAME\":\"United States\",\"count\":151}\\n{\"ORIGIN_COUNTRY_NAME\":\"United States\",\"DEST_COUNTRY_NAME\":\"Italy\",\"count\":366}\\n{\"ORIGIN_COUNTRY_NAME\":\"United States\",\"DEST_COUNTRY_NAME\":\"Pakistan\",\"count\":12}\\n{\"ORIGIN_COUNTRY_NAME\":\"Federated States of Micronesia\",\"DEST_COUNTRY_NAME\":\"United States\",\"count\":71}\\n{\"ORIGIN_COUNTRY_NAME\":\"United States\",\"DEST_COUNTRY_NAME\":\"Iceland\",\"count\":150}\\n{\"ORIGIN_COUNTRY_NAME\":\"Netherlands\",\"DEST_COUNTRY_NAME\":\"United States\",\"count\":702}\\n{\"ORIGIN_COUNTRY_NAME\":\"United States\",\"DEST_COUNTRY_NAME\":\"Marshall Islands\",\"count\":46}\\n{\"ORIGIN_COUNTRY_NAME\":\"United States\",\"DEST_COUNTRY_NAME\":\"Luxembourg\",\"count\":161}\\n{\"ORIGIN_COUNTRY_NAME\":\"United States\",\"DEST_COUNTRY_NAME\":\"Honduras\",\"count\":411}\\n{\"ORIGIN_COUNTRY_NAME\":\"United States\",\"DEST_COUNTRY_NAME\":\"The Bahamas\",\"count\":950}\\n{\"ORIGIN_COUNTRY_NAME\":\"United States\",\"DEST_COUNTRY_NAME\":\"El Salvador\",\"count\":572}\\n{\"ORIGIN_COUNTRY_NAME\":\"Senegal\",\"DEST_COUNTRY_NAME\":\"United States\",\"count\":28}\\n{\"ORIGIN_COUNTRY_NAME\":\"United States\",\"DEST_COUNTRY_NAME\":\"Samoa\",\"count\":24}\\n{\"ORIGIN_COUNTRY_NAME\":\"Angola\",\"DEST_COUNTRY_NAME\":\"United States\",\"count\":12}\\n{\"ORIGIN_COUNTRY_NAME\":\"United States\",\"DEST_COUNTRY_NAME\":\"Kazakhstan\",\"count\":1}\\n{\"ORIGIN_COUNTRY_NAME\":\"United States\",\"DEST_COUNTRY_NAME\":\"Switzerland\",\"count\":302}\\n{\"ORIGIN_COUNTRY_NAME\":\"Anguilla\",\"DEST_COUNTRY_NAME\":\"United States\",\"count\":35}\\n{\"ORIGIN_COUNTRY_NAME\":\"United States\",\"DEST_COUNTRY_NAME\":\"Sint Maarten\",\"count\":290}\\n{\"ORIGIN_COUNTRY_NAME\":\"United States\",\"DEST_COUNTRY_NAME\":\"Hong Kong\",\"count\":338}\\n{\"ORIGIN_COUNTRY_NAME\":\"Congo (Brazaville)\",\"DEST_COUNTRY_NAME\":\"United States\",\"count\":1}\\n{\"ORIGIN_COUNTRY_NAME\":\"United States\",\"DEST_COUNTRY_NAME\":\"Latvia\",\"count\":40}\\n{\"ORIGIN_COUNTRY_NAME\":\"United States\",\"DEST_COUNTRY_NAME\":\"Trinidad and Tobago\",\"count\":188}\\n{\"ORIGIN_COUNTRY_NAME\":\"Ecuador\",\"DEST_COUNTRY_NAME\":\"United States\",\"count\":326}\\n{\"ORIGIN_COUNTRY_NAME\":\"United States\",\"DEST_COUNTRY_NAME\":\"Slovakia\",\"count\":1}\\n{\"ORIGIN_COUNTRY_NAME\":\"United States\",\"DEST_COUNTRY_NAME\":\"Suriname\",\"count\":10}\\n{\"ORIGIN_COUNTRY_NAME\":\"United States\",\"DEST_COUNTRY_NAME\":\"Mexico\",\"count\":6427}\\n{\"ORIGIN_COUNTRY_NAME\":\"United States\",\"DEST_COUNTRY_NAME\":\"Ecuador\",\"count\":256}\\n{\"ORIGIN_COUNTRY_NAME\":\"Portugal\",\"DEST_COUNTRY_NAME\":\"United States\",\"count\":122}\\n{\"ORIGIN_COUNTRY_NAME\":\"Guatemala\",\"DEST_COUNTRY_NAME\":\"United States\",\"count\":327}\\n{\"ORIGIN_COUNTRY_NAME\":\"Costa Rica\",\"DEST_COUNTRY_NAME\":\"United States\",\"count\":560}\\n{\"ORIGIN_COUNTRY_NAME\":\"Suriname\",\"DEST_COUNTRY_NAME\":\"United States\",\"count\":27}\\n{\"ORIGIN_COUNTRY_NAME\":\"United States\",\"DEST_COUNTRY_NAME\":\"Colombia\",\"count\":872}\\n{\"ORIGIN_COUNTRY_NAME\":\"Cape Verde\",\"DEST_COUNTRY_NAME\":\"United States\",\"count\":16}\\n{\"ORIGIN_COUNTRY_NAME\":\"Jamaica\",\"DEST_COUNTRY_NAME\":\"United States\",\"count\":714}\\n{\"ORIGIN_COUNTRY_NAME\":\"United States\",\"DEST_COUNTRY_NAME\":\"Norway\",\"count\":86}\\n{\"ORIGIN_COUNTRY_NAME\":\"Morocco\",\"DEST_COUNTRY_NAME\":\"United States\",\"count\":15}\\n{\"ORIGIN_COUNTRY_NAME\":\"United States\",\"DEST_COUNTRY_NAME\":\"Venezuela\",\"count\":335}\\n{\"ORIGIN_COUNTRY_NAME\":\"Samoa\",\"DEST_COUNTRY_NAME\":\"United States\",\"count\":25}\\n{\"ORIGIN_COUNTRY_NAME\":\"Palau\",\"DEST_COUNTRY_NAME\":\"United States\",\"count\":38}\\n{\"ORIGIN_COUNTRY_NAME\":\"Venezuela\",\"DEST_COUNTRY_NAME\":\"United States\",\"count\":258}\\n{\"ORIGIN_COUNTRY_NAME\":\"United States\",\"DEST_COUNTRY_NAME\":\"Panama\",\"count\":456}\\n{\"ORIGIN_COUNTRY_NAME\":\"Chile\",\"DEST_COUNTRY_NAME\":\"United States\",\"count\":168}\\n{\"ORIGIN_COUNTRY_NAME\":\"Finland\",\"DEST_COUNTRY_NAME\":\"United States\",\"count\":19}\\n{\"ORIGIN_COUNTRY_NAME\":\"United States\",\"DEST_COUNTRY_NAME\":\"Antigua and Barbuda\",\"count\":115}\\n{\"ORIGIN_COUNTRY_NAME\":\"United States\",\"DEST_COUNTRY_NAME\":\"Morocco\",\"count\":18}\\n{\"ORIGIN_COUNTRY_NAME\":\"Greece\",\"DEST_COUNTRY_NAME\":\"United States\",\"count\":19}\\n{\"ORIGIN_COUNTRY_NAME\":\"United States\",\"DEST_COUNTRY_NAME\":\"Azerbaijan\",\"count\":7}\\n{\"ORIGIN_COUNTRY_NAME\":\"The Bahamas\",\"DEST_COUNTRY_NAME\":\"United States\",\"count\":991}\\n{\"ORIGIN_COUNTRY_NAME\":\"United States\",\"DEST_COUNTRY_NAME\":\"New Zealand\",\"count\":114}\\n{\"ORIGIN_COUNTRY_NAME\":\"United States\",\"DEST_COUNTRY_NAME\":\"Liberia\",\"count\":3}\\n{\"ORIGIN_COUNTRY_NAME\":\"Hong Kong\",\"DEST_COUNTRY_NAME\":\"United States\",\"count\":381}\\n{\"ORIGIN_COUNTRY_NAME\":\"United States\",\"DEST_COUNTRY_NAME\":\"Hungary\",\"count\":2}\\n{\"ORIGIN_COUNTRY_NAME\":\"Tunisia\",\"DEST_COUNTRY_NAME\":\"United States\",\"count\":1}\\n{\"ORIGIN_COUNTRY_NAME\":\"China\",\"DEST_COUNTRY_NAME\":\"United States\",\"count\":767}\\n{\"ORIGIN_COUNTRY_NAME\":\"United States\",\"DEST_COUNTRY_NAME\":\"Burkina Faso\",\"count\":2}\\n{\"ORIGIN_COUNTRY_NAME\":\"United States\",\"DEST_COUNTRY_NAME\":\"Sweden\",\"count\":94}\\n{\"ORIGIN_COUNTRY_NAME\":\"Kuwait\",\"DEST_COUNTRY_NAME\":\"United States\",\"count\":24}\\n{\"ORIGIN_COUNTRY_NAME\":\"Dominican Republic\",\"DEST_COUNTRY_NAME\":\"United States\",\"count\":1282}\\n{\"ORIGIN_COUNTRY_NAME\":\"Egypt\",\"DEST_COUNTRY_NAME\":\"United States\",\"count\":11}\\n{\"ORIGIN_COUNTRY_NAME\":\"United States\",\"DEST_COUNTRY_NAME\":\"Israel\",\"count\":108}\\n{\"ORIGIN_COUNTRY_NAME\":\"United States\",\"DEST_COUNTRY_NAME\":\"United States\",\"count\":358354}\\n{\"ORIGIN_COUNTRY_NAME\":\"Luxembourg\",\"DEST_COUNTRY_NAME\":\"United States\",\"count\":115}\\n{\"ORIGIN_COUNTRY_NAME\":\"United States\",\"DEST_COUNTRY_NAME\":\"Ethiopia\",\"count\":11}\\n{\"ORIGIN_COUNTRY_NAME\":\"Poland\",\"DEST_COUNTRY_NAME\":\"United States\",\"count\":33}\\n{\"ORIGIN_COUNTRY_NAME\":\"United States\",\"DEST_COUNTRY_NAME\":\"Martinique\",\"count\":31}\\n{\"ORIGIN_COUNTRY_NAME\":\"Saint Barthelemy\",\"DEST_COUNTRY_NAME\":\"United States\",\"count\":53}\\n{\"ORIGIN_COUNTRY_NAME\":\"United States\",\"DEST_COUNTRY_NAME\":\"Saint Barthelemy\",\"count\":53}\\n{\"ORIGIN_COUNTRY_NAME\":\"Turkey\",\"DEST_COUNTRY_NAME\":\"United States\",\"count\":92}\\n{\"ORIGIN_COUNTRY_NAME\":\"United States\",\"DEST_COUNTRY_NAME\":\"Barbados\",\"count\":102}\\n{\"ORIGIN_COUNTRY_NAME\":\"Kazakhstan\",\"DEST_COUNTRY_NAME\":\"United States\",\"count\":1}\\n{\"ORIGIN_COUNTRY_NAME\":\"Azerbaijan\",\"DEST_COUNTRY_NAME\":\"United States\",\"count\":5}\\n{\"ORIGIN_COUNTRY_NAME\":\"United States\",\"DEST_COUNTRY_NAME\":\"Germany\",\"count\":1391}\\n{\"ORIGIN_COUNTRY_NAME\":\"South Korea\",\"DEST_COUNTRY_NAME\":\"United States\",\"count\":754}\\n{\"ORIGIN_COUNTRY_NAME\":\"El Salvador\",\"DEST_COUNTRY_NAME\":\"United States\",\"count\":486}\\n{\"ORIGIN_COUNTRY_NAME\":\"United States\",\"DEST_COUNTRY_NAME\":\"Ireland\",\"count\":267}\\n{\"ORIGIN_COUNTRY_NAME\":\"Hungary\",\"DEST_COUNTRY_NAME\":\"United States\",\"count\":1}\\n{\"ORIGIN_COUNTRY_NAME\":\"United States\",\"DEST_COUNTRY_NAME\":\"Malaysia\",\"count\":2}\\n{\"ORIGIN_COUNTRY_NAME\":\"Panama\",\"DEST_COUNTRY_NAME\":\"United States\",\"count\":460}\\n{\"ORIGIN_COUNTRY_NAME\":\"Aruba\",\"DEST_COUNTRY_NAME\":\"United States\",\"count\":348}\\n{\"ORIGIN_COUNTRY_NAME\":\"Ethiopia\",\"DEST_COUNTRY_NAME\":\"United States\",\"count\":11}\\n{\"ORIGIN_COUNTRY_NAME\":\"Turks and Caicos Islands\",\"DEST_COUNTRY_NAME\":\"United States\",\"count\":204}\\n{\"ORIGIN_COUNTRY_NAME\":\"Pakistan\",\"DEST_COUNTRY_NAME\":\"United States\",\"count\":12}\\n{\"ORIGIN_COUNTRY_NAME\":\"Honduras\",\"DEST_COUNTRY_NAME\":\"United States\",\"count\":412}\\n{\"ORIGIN_COUNTRY_NAME\":\"United States\",\"DEST_COUNTRY_NAME\":\"Fiji\",\"count\":25}\\n{\"ORIGIN_COUNTRY_NAME\":\"United States\",\"DEST_COUNTRY_NAME\":\"Qatar\",\"count\":95}\\n{\"ORIGIN_COUNTRY_NAME\":\"United States\",\"DEST_COUNTRY_NAME\":\"Saint Kitts and Nevis\",\"count\":118}\\n{\"ORIGIN_COUNTRY_NAME\":\"United States\",\"DEST_COUNTRY_NAME\":\"Haiti\",\"count\":201}\\n{\"ORIGIN_COUNTRY_NAME\":\"United States\",\"DEST_COUNTRY_NAME\":\"Taiwan\",\"count\":265}\\n{\"ORIGIN_COUNTRY_NAME\":\"United States\",\"DEST_COUNTRY_NAME\":\"Kuwait\",\"count\":24}\\n{\"ORIGIN_COUNTRY_NAME\":\"United States\",\"DEST_COUNTRY_NAME\":\"Canada\",\"count\":7974}\\n{\"ORIGIN_COUNTRY_NAME\":\"United States\",\"DEST_COUNTRY_NAME\":\"Federated States of Micronesia\",\"count\":60}\\n{\"ORIGIN_COUNTRY_NAME\":\"United States\",\"DEST_COUNTRY_NAME\":\"Jamaica\",\"count\":673}\\n{\"ORIGIN_COUNTRY_NAME\":\"Malta\",\"DEST_COUNTRY_NAME\":\"United States\",\"count\":2}\\n{\"ORIGIN_COUNTRY_NAME\":\"United States\",\"DEST_COUNTRY_NAME\":\"Dominican Republic\",\"count\":1230}\\n{\"ORIGIN_COUNTRY_NAME\":\"United States\",\"DEST_COUNTRY_NAME\":\"Japan\",\"count\":1591}\\n{\"ORIGIN_COUNTRY_NAME\":\"Saint Vincent and the Grenadines\",\"DEST_COUNTRY_NAME\":\"United States\",\"count\":3}\\n{\"ORIGIN_COUNTRY_NAME\":\"United States\",\"DEST_COUNTRY_NAME\":\"Finland\",\"count\":18}\\n{\"ORIGIN_COUNTRY_NAME\":\"Ukraine\",\"DEST_COUNTRY_NAME\":\"United States\",\"count\":1}\\n{\"ORIGIN_COUNTRY_NAME\":\"Guadeloupe\",\"DEST_COUNTRY_NAME\":\"United States\",\"count\":47}\\n{\"ORIGIN_COUNTRY_NAME\":\"France\",\"DEST_COUNTRY_NAME\":\"United States\",\"count\":960}\\n{\"ORIGIN_COUNTRY_NAME\":\"United States\",\"DEST_COUNTRY_NAME\":\"Aruba\",\"count\":351}\\n{\"ORIGIN_COUNTRY_NAME\":\"Norway\",\"DEST_COUNTRY_NAME\":\"United States\",\"count\":87}\\n{\"ORIGIN_COUNTRY_NAME\":\"United States\",\"DEST_COUNTRY_NAME\":\"French Guiana\",\"count\":11}\\n{\"ORIGIN_COUNTRY_NAME\":\"Kiribati\",\"DEST_COUNTRY_NAME\":\"United States\",\"count\":27}\\n{\"ORIGIN_COUNTRY_NAME\":\"United States\",\"DEST_COUNTRY_NAME\":\"India\",\"count\":61}\\n{\"ORIGIN_COUNTRY_NAME\":\"United States\",\"DEST_COUNTRY_NAME\":\"British Virgin Islands\",\"count\":108}\\n{\"ORIGIN_COUNTRY_NAME\":\"United States\",\"DEST_COUNTRY_NAME\":\"Brazil\",\"count\":927}\\n{\"ORIGIN_COUNTRY_NAME\":\"Germany\",\"DEST_COUNTRY_NAME\":\"United States\",\"count\":1343}\\n{\"ORIGIN_COUNTRY_NAME\":\"New Zealand\",\"DEST_COUNTRY_NAME\":\"United States\",\"count\":77}\\n{\"ORIGIN_COUNTRY_NAME\":\"Cambodia\",\"DEST_COUNTRY_NAME\":\"United States\",\"count\":1}\\n{\"ORIGIN_COUNTRY_NAME\":\"United States\",\"DEST_COUNTRY_NAME\":\"French Polynesia\",\"count\":39}\\n{\"ORIGIN_COUNTRY_NAME\":\"United States\",\"DEST_COUNTRY_NAME\":\"United Arab Emirates\",\"count\":247}\\n{\"ORIGIN_COUNTRY_NAME\":\"Mexico\",\"DEST_COUNTRY_NAME\":\"United States\",\"count\":6490}\\n{\"ORIGIN_COUNTRY_NAME\":\"United States\",\"DEST_COUNTRY_NAME\":\"Netherlands\",\"count\":773}\\n{\"ORIGIN_COUNTRY_NAME\":\"Sweden\",\"DEST_COUNTRY_NAME\":\"United States\",\"count\":101}\\n{\"ORIGIN_COUNTRY_NAME\":\"Martinique\",\"DEST_COUNTRY_NAME\":\"United States\",\"count\":32}\\n{\"ORIGIN_COUNTRY_NAME\":\"United Arab Emirates\",\"DEST_COUNTRY_NAME\":\"United States\",\"count\":226}\\n{\"ORIGIN_COUNTRY_NAME\":\"Bulgaria\",\"DEST_COUNTRY_NAME\":\"United States\",\"count\":1}\\n{\"ORIGIN_COUNTRY_NAME\":\"United States\",\"DEST_COUNTRY_NAME\":\"Denmark\",\"count\":114}\\n{\"ORIGIN_COUNTRY_NAME\":\"United States\",\"DEST_COUNTRY_NAME\":\"China\",\"count\":653}\\n{\"ORIGIN_COUNTRY_NAME\":\"Nicaragua\",\"DEST_COUNTRY_NAME\":\"United States\",\"count\":170}\\n{\"ORIGIN_COUNTRY_NAME\":\"Philippines\",\"DEST_COUNTRY_NAME\":\"United States\",\"count\":116}\\n{\"ORIGIN_COUNTRY_NAME\":\"Belgium\",\"DEST_COUNTRY_NAME\":\"United States\",\"count\":230}\\n{\"ORIGIN_COUNTRY_NAME\":\"United States\",\"DEST_COUNTRY_NAME\":\"Peru\",\"count\":277}\\n{\"ORIGIN_COUNTRY_NAME\":\"United States\",\"DEST_COUNTRY_NAME\":\"Argentina\",\"count\":195}\\n{\"ORIGIN_COUNTRY_NAME\":\"United States\",\"DEST_COUNTRY_NAME\":\"Cayman Islands\",\"count\":283}\\n{\"ORIGIN_COUNTRY_NAME\":\"United States\",\"DEST_COUNTRY_NAME\":\"South Africa\",\"count\":32}\\n{\"ORIGIN_COUNTRY_NAME\":\"Argentina\",\"DEST_COUNTRY_NAME\":\"United States\",\"count\":153}\\n{\"ORIGIN_COUNTRY_NAME\":\"Iceland\",\"DEST_COUNTRY_NAME\":\"United States\",\"count\":177}\\n{\"ORIGIN_COUNTRY_NAME\":\"United States\",\"DEST_COUNTRY_NAME\":\"Chad\",\"count\":1}\\n{\"ORIGIN_COUNTRY_NAME\":\"United States\",\"DEST_COUNTRY_NAME\":\"Spain\",\"count\":388}\\n{\"ORIGIN_COUNTRY_NAME\":\"United States\",\"DEST_COUNTRY_NAME\":\"Bermuda\",\"count\":185}\\n{\"ORIGIN_COUNTRY_NAME\":\"Nigeria\",\"DEST_COUNTRY_NAME\":\"United States\",\"count\":43}\\n{\"ORIGIN_COUNTRY_NAME\":\"Austria\",\"DEST_COUNTRY_NAME\":\"United States\",\"count\":46}\\n{\"ORIGIN_COUNTRY_NAME\":\"Bonaire, Sint Eustatius, and Saba\",\"DEST_COUNTRY_NAME\":\"United States\",\"count\":63}\\n{\"ORIGIN_COUNTRY_NAME\":\"United States\",\"DEST_COUNTRY_NAME\":\"Kiribati\",\"count\":26}\\n{\"ORIGIN_COUNTRY_NAME\":\"United States\",\"DEST_COUNTRY_NAME\":\"Saudi Arabia\",\"count\":79}\\n{\"ORIGIN_COUNTRY_NAME\":\"United States\",\"DEST_COUNTRY_NAME\":\"Czech Republic\",\"count\":11}\\n{\"ORIGIN_COUNTRY_NAME\":\"United States\",\"DEST_COUNTRY_NAME\":\"Macau\",\"count\":3}\\n{\"ORIGIN_COUNTRY_NAME\":\"United States\",\"DEST_COUNTRY_NAME\":\"Belgium\",\"count\":259}\\n{\"ORIGIN_COUNTRY_NAME\":\"Israel\",\"DEST_COUNTRY_NAME\":\"United States\",\"count\":112}\\n{\"ORIGIN_COUNTRY_NAME\":\"Saint Lucia\",\"DEST_COUNTRY_NAME\":\"United States\",\"count\":109}\\n{\"ORIGIN_COUNTRY_NAME\":\"British Virgin Islands\",\"DEST_COUNTRY_NAME\":\"United States\",\"count\":101}\\n{\"ORIGIN_COUNTRY_NAME\":\"United States\",\"DEST_COUNTRY_NAME\":\"Curacao\",\"count\":74}\\n{\"ORIGIN_COUNTRY_NAME\":\"Denmark\",\"DEST_COUNTRY_NAME\":\"United States\",\"count\":116}\\n{\"ORIGIN_COUNTRY_NAME\":\"Guyana\",\"DEST_COUNTRY_NAME\":\"United States\",\"count\":55}\\n{\"ORIGIN_COUNTRY_NAME\":\"United States\",\"DEST_COUNTRY_NAME\":\"Philippines\",\"count\":134}\\n{\"ORIGIN_COUNTRY_NAME\":\"United States\",\"DEST_COUNTRY_NAME\":\"Grenada\",\"count\":43}\\n{\"ORIGIN_COUNTRY_NAME\":\"United States\",\"DEST_COUNTRY_NAME\":\"Cape Verde\",\"count\":24}\\n{\"ORIGIN_COUNTRY_NAME\":\"United States\",\"DEST_COUNTRY_NAME\":\"Ukraine\",\"count\":11}\\n{\"ORIGIN_COUNTRY_NAME\":\"United States\",\"DEST_COUNTRY_NAME\":\"Russia\",\"count\":213}\\n{\"ORIGIN_COUNTRY_NAME\":\"Saudi Arabia\",\"DEST_COUNTRY_NAME\":\"United States\",\"count\":74}\\n{\"ORIGIN_COUNTRY_NAME\":\"United States\",\"DEST_COUNTRY_NAME\":\"Guatemala\",\"count\":383}\\n{\"ORIGIN_COUNTRY_NAME\":\"United States\",\"DEST_COUNTRY_NAME\":\"Saint Lucia\",\"count\":107}\\n{\"ORIGIN_COUNTRY_NAME\":\"United States\",\"DEST_COUNTRY_NAME\":\"Paraguay\",\"count\":90}\\n{\"ORIGIN_COUNTRY_NAME\":\"Curacao\",\"DEST_COUNTRY_NAME\":\"United States\",\"count\":77}\\n{\"ORIGIN_COUNTRY_NAME\":\"Taiwan\",\"DEST_COUNTRY_NAME\":\"United States\",\"count\":240}\\n{\"ORIGIN_COUNTRY_NAME\":\"United States\",\"DEST_COUNTRY_NAME\":\"Tunisia\",\"count\":2}\\n{\"ORIGIN_COUNTRY_NAME\":\"South Africa\",\"DEST_COUNTRY_NAME\":\"United States\",\"count\":32}\\n{\"ORIGIN_COUNTRY_NAME\":\"United States\",\"DEST_COUNTRY_NAME\":\"Turkey\",\"count\":91}\\n{\"ORIGIN_COUNTRY_NAME\":\"United States\",\"DEST_COUNTRY_NAME\":\"United Kingdom\",\"count\":1912}\\n{\"ORIGIN_COUNTRY_NAME\":\"United States\",\"DEST_COUNTRY_NAME\":\"Romania\",\"count\":11}\\n{\"ORIGIN_COUNTRY_NAME\":\"Greenland\",\"DEST_COUNTRY_NAME\":\"United States\",\"count\":1}\\n{\"ORIGIN_COUNTRY_NAME\":\"Spain\",\"DEST_COUNTRY_NAME\":\"United States\",\"count\":424}\\n{\"ORIGIN_COUNTRY_NAME\":\"United States\",\"DEST_COUNTRY_NAME\":\"Cuba\",\"count\":417}\\n{\"ORIGIN_COUNTRY_NAME\":\"Italy\",\"DEST_COUNTRY_NAME\":\"United States\",\"count\":385}\\n{\"ORIGIN_COUNTRY_NAME\":\"Switzerland\",\"DEST_COUNTRY_NAME\":\"United States\",\"count\":300}\\n{\"ORIGIN_COUNTRY_NAME\":\"United States\",\"DEST_COUNTRY_NAME\":\"Dominica\",\"count\":25}\\n{\"ORIGIN_COUNTRY_NAME\":\"Japan\",\"DEST_COUNTRY_NAME\":\"United States\",\"count\":1501}\\n{\"ORIGIN_COUNTRY_NAME\":\"United States\",\"DEST_COUNTRY_NAME\":\"Portugal\",\"count\":124}\\n{\"ORIGIN_COUNTRY_NAME\":\"Brazil\",\"DEST_COUNTRY_NAME\":\"United States\",\"count\":578}\\n{\"ORIGIN_COUNTRY_NAME\":\"United States\",\"DEST_COUNTRY_NAME\":\"Bahrain\",\"count\":41}\\n{\"ORIGIN_COUNTRY_NAME\":\"Peru\",\"DEST_COUNTRY_NAME\":\"United States\",\"count\":315}\\n{\"ORIGIN_COUNTRY_NAME\":\"United States\",\"DEST_COUNTRY_NAME\":\"Indonesia\",\"count\":1}\\n{\"ORIGIN_COUNTRY_NAME\":\"United Kingdom\",\"DEST_COUNTRY_NAME\":\"United States\",\"count\":1812}\\n{\"ORIGIN_COUNTRY_NAME\":\"Belize\",\"DEST_COUNTRY_NAME\":\"United States\",\"count\":143}\\n{\"ORIGIN_COUNTRY_NAME\":\"United States\",\"DEST_COUNTRY_NAME\":\"Belize\",\"count\":142}\\n{\"ORIGIN_COUNTRY_NAME\":\"Ghana\",\"DEST_COUNTRY_NAME\":\"United States\",\"count\":15}\\n{\"ORIGIN_COUNTRY_NAME\":\"United States\",\"DEST_COUNTRY_NAME\":\"Mauritania\",\"count\":1}\\n{\"ORIGIN_COUNTRY_NAME\":\"Indonesia\",\"DEST_COUNTRY_NAME\":\"United States\",\"count\":1}\\n{\"ORIGIN_COUNTRY_NAME\":\"Fiji\",\"DEST_COUNTRY_NAME\":\"United States\",\"count\":27}\\n{\"ORIGIN_COUNTRY_NAME\":\"Canada\",\"DEST_COUNTRY_NAME\":\"United States\",\"count\":8177}\\n{\"ORIGIN_COUNTRY_NAME\":\"Antigua and Barbuda\",\"DEST_COUNTRY_NAME\":\"United States\",\"count\":112}\\n{\"ORIGIN_COUNTRY_NAME\":\"French Polynesia\",\"DEST_COUNTRY_NAME\":\"United States\",\"count\":40}\\n{\"ORIGIN_COUNTRY_NAME\":\"United States\",\"DEST_COUNTRY_NAME\":\"Nicaragua\",\"count\":168}\\n{\"ORIGIN_COUNTRY_NAME\":\"Latvia\",\"DEST_COUNTRY_NAME\":\"United States\",\"count\":13}\\n{\"ORIGIN_COUNTRY_NAME\":\"Dominica\",\"DEST_COUNTRY_NAME\":\"United States\",\"count\":36}\\n{\"ORIGIN_COUNTRY_NAME\":\"Czech Republic\",\"DEST_COUNTRY_NAME\":\"United States\",\"count\":11}\\n{\"ORIGIN_COUNTRY_NAME\":\"Cook Islands\",\"DEST_COUNTRY_NAME\":\"United States\",\"count\":12}\\n{\"ORIGIN_COUNTRY_NAME\":\"Australia\",\"DEST_COUNTRY_NAME\":\"United States\",\"count\":235}\\n{\"ORIGIN_COUNTRY_NAME\":\"United States\",\"DEST_COUNTRY_NAME\":\"Austria\",\"count\":47}\\n{\"ORIGIN_COUNTRY_NAME\":\"United States\",\"DEST_COUNTRY_NAME\":\"Jordan\",\"count\":65}\\n{\"ORIGIN_COUNTRY_NAME\":\"United States\",\"DEST_COUNTRY_NAME\":\"Palau\",\"count\":38}\\n{\"ORIGIN_COUNTRY_NAME\":\"United States\",\"DEST_COUNTRY_NAME\":\"South Korea\",\"count\":968}\\n{\"ORIGIN_COUNTRY_NAME\":\"United States\",\"DEST_COUNTRY_NAME\":\"Angola\",\"count\":13}\\n{\"ORIGIN_COUNTRY_NAME\":\"United States\",\"DEST_COUNTRY_NAME\":\"Ghana\",\"count\":13}\\n{\"ORIGIN_COUNTRY_NAME\":\"United States\",\"DEST_COUNTRY_NAME\":\"Guadeloupe\",\"count\":43}\\n{\"ORIGIN_COUNTRY_NAME\":\"United States\",\"DEST_COUNTRY_NAME\":\"France\",\"count\":966}\\n{\"ORIGIN_COUNTRY_NAME\":\"United States\",\"DEST_COUNTRY_NAME\":\"Poland\",\"count\":35}\\n{\"ORIGIN_COUNTRY_NAME\":\"United States\",\"DEST_COUNTRY_NAME\":\"Nigeria\",\"count\":49}\\n{\"ORIGIN_COUNTRY_NAME\":\"Uruguay\",\"DEST_COUNTRY_NAME\":\"United States\",\"count\":18}\\n{\"ORIGIN_COUNTRY_NAME\":\"United States\",\"DEST_COUNTRY_NAME\":\"Greenland\",\"count\":2}\\n{\"ORIGIN_COUNTRY_NAME\":\"United States\",\"DEST_COUNTRY_NAME\":\"Chile\",\"count\":156}\\n{\"ORIGIN_COUNTRY_NAME\":\"Bermuda\",\"DEST_COUNTRY_NAME\":\"United States\",\"count\":190}\\n{\"ORIGIN_COUNTRY_NAME\":\"Cuba\",\"DEST_COUNTRY_NAME\":\"United States\",\"count\":419}\\n{\"ORIGIN_COUNTRY_NAME\":\"Qatar\",\"DEST_COUNTRY_NAME\":\"United States\",\"count\":96}\\n{\"ORIGIN_COUNTRY_NAME\":\"Colombia\",\"DEST_COUNTRY_NAME\":\"United States\",\"count\":888}\\n{\"ORIGIN_COUNTRY_NAME\":\"Barbados\",\"DEST_COUNTRY_NAME\":\"United States\",\"count\":89}\\n{\"ORIGIN_COUNTRY_NAME\":\"United States\",\"DEST_COUNTRY_NAME\":\"Australia\",\"count\":293}\\n{\"ORIGIN_COUNTRY_NAME\":\"Cayman Islands\",\"DEST_COUNTRY_NAME\":\"United States\",\"count\":278}\\n{\"ORIGIN_COUNTRY_NAME\":\"Jordan\",\"DEST_COUNTRY_NAME\":\"United States\",\"count\":64}\\n{\"ORIGIN_COUNTRY_NAME\":\"Trinidad and Tobago\",\"DEST_COUNTRY_NAME\":\"United States\",\"count\":175}\\n{\"ORIGIN_COUNTRY_NAME\":\"Bolivia\",\"DEST_COUNTRY_NAME\":\"United States\",\"count\":14}\\n{\"ORIGIN_COUNTRY_NAME\":\"United States\",\"DEST_COUNTRY_NAME\":\"Uruguay\",\"count\":60}\\n{\"ORIGIN_COUNTRY_NAME\":\"United States\",\"DEST_COUNTRY_NAME\":\"Cook Islands\",\"count\":12}\\n{\"ORIGIN_COUNTRY_NAME\":\"French Guiana\",\"DEST_COUNTRY_NAME\":\"United States\",\"count\":4}\\n{\"ORIGIN_COUNTRY_NAME\":\"Saint Kitts and Nevis\",\"DEST_COUNTRY_NAME\":\"United States\",\"count\":123}\\n{\"ORIGIN_COUNTRY_NAME\":\"Haiti\",\"DEST_COUNTRY_NAME\":\"United States\",\"count\":193}\\n{\"ORIGIN_COUNTRY_NAME\":\"United States\",\"DEST_COUNTRY_NAME\":\"Bonaire, Sint Eustatius, and Saba\",\"count\":62}\\n{\"ORIGIN_COUNTRY_NAME\":\"United States\",\"DEST_COUNTRY_NAME\":\"Greece\",\"count\":20}\\n'), ('file:/home/ail/Spark/data/flight-data/json/2015-summary.json', '{\"ORIGIN_COUNTRY_NAME\":\"Romania\",\"DEST_COUNTRY_NAME\":\"United States\",\"count\":15}\\n{\"ORIGIN_COUNTRY_NAME\":\"Croatia\",\"DEST_COUNTRY_NAME\":\"United States\",\"count\":1}\\n{\"ORIGIN_COUNTRY_NAME\":\"Ireland\",\"DEST_COUNTRY_NAME\":\"United States\",\"count\":344}\\n{\"ORIGIN_COUNTRY_NAME\":\"United States\",\"DEST_COUNTRY_NAME\":\"Egypt\",\"count\":15}\\n{\"ORIGIN_COUNTRY_NAME\":\"India\",\"DEST_COUNTRY_NAME\":\"United States\",\"count\":62}\\n{\"ORIGIN_COUNTRY_NAME\":\"Singapore\",\"DEST_COUNTRY_NAME\":\"United States\",\"count\":1}\\n{\"ORIGIN_COUNTRY_NAME\":\"Grenada\",\"DEST_COUNTRY_NAME\":\"United States\",\"count\":62}\\n{\"ORIGIN_COUNTRY_NAME\":\"United States\",\"DEST_COUNTRY_NAME\":\"Costa Rica\",\"count\":588}\\n{\"ORIGIN_COUNTRY_NAME\":\"United States\",\"DEST_COUNTRY_NAME\":\"Senegal\",\"count\":40}\\n{\"ORIGIN_COUNTRY_NAME\":\"United States\",\"DEST_COUNTRY_NAME\":\"Moldova\",\"count\":1}\\n{\"ORIGIN_COUNTRY_NAME\":\"Sint Maarten\",\"DEST_COUNTRY_NAME\":\"United States\",\"count\":325}\\n{\"ORIGIN_COUNTRY_NAME\":\"Marshall Islands\",\"DEST_COUNTRY_NAME\":\"United States\",\"count\":39}\\n{\"ORIGIN_COUNTRY_NAME\":\"United States\",\"DEST_COUNTRY_NAME\":\"Guyana\",\"count\":64}\\n{\"ORIGIN_COUNTRY_NAME\":\"United States\",\"DEST_COUNTRY_NAME\":\"Malta\",\"count\":1}\\n{\"ORIGIN_COUNTRY_NAME\":\"United States\",\"DEST_COUNTRY_NAME\":\"Anguilla\",\"count\":41}\\n{\"ORIGIN_COUNTRY_NAME\":\"United States\",\"DEST_COUNTRY_NAME\":\"Bolivia\",\"count\":30}\\n{\"ORIGIN_COUNTRY_NAME\":\"Paraguay\",\"DEST_COUNTRY_NAME\":\"United States\",\"count\":6}\\n{\"ORIGIN_COUNTRY_NAME\":\"United States\",\"DEST_COUNTRY_NAME\":\"Algeria\",\"count\":4}\\n{\"ORIGIN_COUNTRY_NAME\":\"United States\",\"DEST_COUNTRY_NAME\":\"Turks and Caicos Islands\",\"count\":230}\\n{\"ORIGIN_COUNTRY_NAME\":\"Gibraltar\",\"DEST_COUNTRY_NAME\":\"United States\",\"count\":1}\\n{\"ORIGIN_COUNTRY_NAME\":\"United States\",\"DEST_COUNTRY_NAME\":\"Saint Vincent and the Grenadines\",\"count\":1}\\n{\"ORIGIN_COUNTRY_NAME\":\"United States\",\"DEST_COUNTRY_NAME\":\"Italy\",\"count\":382}\\n{\"ORIGIN_COUNTRY_NAME\":\"Federated States of Micronesia\",\"DEST_COUNTRY_NAME\":\"United States\",\"count\":69}\\n{\"ORIGIN_COUNTRY_NAME\":\"Russia\",\"DEST_COUNTRY_NAME\":\"United States\",\"count\":161}\\n{\"ORIGIN_COUNTRY_NAME\":\"United States\",\"DEST_COUNTRY_NAME\":\"Pakistan\",\"count\":12}\\n{\"ORIGIN_COUNTRY_NAME\":\"Netherlands\",\"DEST_COUNTRY_NAME\":\"United States\",\"count\":660}\\n{\"ORIGIN_COUNTRY_NAME\":\"United States\",\"DEST_COUNTRY_NAME\":\"Iceland\",\"count\":181}\\n{\"ORIGIN_COUNTRY_NAME\":\"United States\",\"DEST_COUNTRY_NAME\":\"Marshall Islands\",\"count\":42}\\n{\"ORIGIN_COUNTRY_NAME\":\"United States\",\"DEST_COUNTRY_NAME\":\"Luxembourg\",\"count\":155}\\n{\"ORIGIN_COUNTRY_NAME\":\"United States\",\"DEST_COUNTRY_NAME\":\"Honduras\",\"count\":362}\\n{\"ORIGIN_COUNTRY_NAME\":\"United States\",\"DEST_COUNTRY_NAME\":\"The Bahamas\",\"count\":955}\\n{\"ORIGIN_COUNTRY_NAME\":\"Senegal\",\"DEST_COUNTRY_NAME\":\"United States\",\"count\":42}\\n{\"ORIGIN_COUNTRY_NAME\":\"United States\",\"DEST_COUNTRY_NAME\":\"El Salvador\",\"count\":561}\\n{\"ORIGIN_COUNTRY_NAME\":\"United States\",\"DEST_COUNTRY_NAME\":\"Samoa\",\"count\":25}\\n{\"ORIGIN_COUNTRY_NAME\":\"Angola\",\"DEST_COUNTRY_NAME\":\"United States\",\"count\":13}\\n{\"ORIGIN_COUNTRY_NAME\":\"United States\",\"DEST_COUNTRY_NAME\":\"Switzerland\",\"count\":294}\\n{\"ORIGIN_COUNTRY_NAME\":\"Anguilla\",\"DEST_COUNTRY_NAME\":\"United States\",\"count\":38}\\n{\"ORIGIN_COUNTRY_NAME\":\"United States\",\"DEST_COUNTRY_NAME\":\"Sint Maarten\",\"count\":325}\\n{\"ORIGIN_COUNTRY_NAME\":\"United States\",\"DEST_COUNTRY_NAME\":\"Hong Kong\",\"count\":332}\\n{\"ORIGIN_COUNTRY_NAME\":\"United States\",\"DEST_COUNTRY_NAME\":\"Trinidad and Tobago\",\"count\":211}\\n{\"ORIGIN_COUNTRY_NAME\":\"United States\",\"DEST_COUNTRY_NAME\":\"Latvia\",\"count\":19}\\n{\"ORIGIN_COUNTRY_NAME\":\"Ecuador\",\"DEST_COUNTRY_NAME\":\"United States\",\"count\":300}\\n{\"ORIGIN_COUNTRY_NAME\":\"United States\",\"DEST_COUNTRY_NAME\":\"Suriname\",\"count\":1}\\n{\"ORIGIN_COUNTRY_NAME\":\"United States\",\"DEST_COUNTRY_NAME\":\"Mexico\",\"count\":7140}\\n{\"ORIGIN_COUNTRY_NAME\":\"Cyprus\",\"DEST_COUNTRY_NAME\":\"United States\",\"count\":1}\\n{\"ORIGIN_COUNTRY_NAME\":\"United States\",\"DEST_COUNTRY_NAME\":\"Ecuador\",\"count\":268}\\n{\"ORIGIN_COUNTRY_NAME\":\"Portugal\",\"DEST_COUNTRY_NAME\":\"United States\",\"count\":134}\\n{\"ORIGIN_COUNTRY_NAME\":\"Costa Rica\",\"DEST_COUNTRY_NAME\":\"United States\",\"count\":608}\\n{\"ORIGIN_COUNTRY_NAME\":\"Guatemala\",\"DEST_COUNTRY_NAME\":\"United States\",\"count\":318}\\n{\"ORIGIN_COUNTRY_NAME\":\"Suriname\",\"DEST_COUNTRY_NAME\":\"United States\",\"count\":34}\\n{\"ORIGIN_COUNTRY_NAME\":\"United States\",\"DEST_COUNTRY_NAME\":\"Colombia\",\"count\":873}\\n{\"ORIGIN_COUNTRY_NAME\":\"Cape Verde\",\"DEST_COUNTRY_NAME\":\"United States\",\"count\":14}\\n{\"ORIGIN_COUNTRY_NAME\":\"Jamaica\",\"DEST_COUNTRY_NAME\":\"United States\",\"count\":712}\\n{\"ORIGIN_COUNTRY_NAME\":\"United States\",\"DEST_COUNTRY_NAME\":\"Norway\",\"count\":121}\\n{\"ORIGIN_COUNTRY_NAME\":\"Malaysia\",\"DEST_COUNTRY_NAME\":\"United States\",\"count\":3}\\n{\"ORIGIN_COUNTRY_NAME\":\"Morocco\",\"DEST_COUNTRY_NAME\":\"United States\",\"count\":19}\\n{\"ORIGIN_COUNTRY_NAME\":\"United States\",\"DEST_COUNTRY_NAME\":\"Thailand\",\"count\":3}\\n{\"ORIGIN_COUNTRY_NAME\":\"Samoa\",\"DEST_COUNTRY_NAME\":\"United States\",\"count\":25}\\n{\"ORIGIN_COUNTRY_NAME\":\"United States\",\"DEST_COUNTRY_NAME\":\"Venezuela\",\"count\":290}\\n{\"ORIGIN_COUNTRY_NAME\":\"Palau\",\"DEST_COUNTRY_NAME\":\"United States\",\"count\":31}\\n{\"ORIGIN_COUNTRY_NAME\":\"Venezuela\",\"DEST_COUNTRY_NAME\":\"United States\",\"count\":246}\\n{\"ORIGIN_COUNTRY_NAME\":\"United States\",\"DEST_COUNTRY_NAME\":\"Panama\",\"count\":510}\\n{\"ORIGIN_COUNTRY_NAME\":\"United States\",\"DEST_COUNTRY_NAME\":\"Antigua and Barbuda\",\"count\":126}\\n{\"ORIGIN_COUNTRY_NAME\":\"Chile\",\"DEST_COUNTRY_NAME\":\"United States\",\"count\":185}\\n{\"ORIGIN_COUNTRY_NAME\":\"United States\",\"DEST_COUNTRY_NAME\":\"Morocco\",\"count\":15}\\n{\"ORIGIN_COUNTRY_NAME\":\"Finland\",\"DEST_COUNTRY_NAME\":\"United States\",\"count\":28}\\n{\"ORIGIN_COUNTRY_NAME\":\"United States\",\"DEST_COUNTRY_NAME\":\"Azerbaijan\",\"count\":21}\\n{\"ORIGIN_COUNTRY_NAME\":\"Greece\",\"DEST_COUNTRY_NAME\":\"United States\",\"count\":23}\\n{\"ORIGIN_COUNTRY_NAME\":\"The Bahamas\",\"DEST_COUNTRY_NAME\":\"United States\",\"count\":986}\\n{\"ORIGIN_COUNTRY_NAME\":\"United States\",\"DEST_COUNTRY_NAME\":\"New Zealand\",\"count\":111}\\n{\"ORIGIN_COUNTRY_NAME\":\"United States\",\"DEST_COUNTRY_NAME\":\"Liberia\",\"count\":2}\\n{\"ORIGIN_COUNTRY_NAME\":\"Hong Kong\",\"DEST_COUNTRY_NAME\":\"United States\",\"count\":414}\\n{\"ORIGIN_COUNTRY_NAME\":\"United States\",\"DEST_COUNTRY_NAME\":\"Hungary\",\"count\":2}\\n{\"ORIGIN_COUNTRY_NAME\":\"China\",\"DEST_COUNTRY_NAME\":\"United States\",\"count\":920}\\n{\"ORIGIN_COUNTRY_NAME\":\"Vietnam\",\"DEST_COUNTRY_NAME\":\"United States\",\"count\":2}\\n{\"ORIGIN_COUNTRY_NAME\":\"United States\",\"DEST_COUNTRY_NAME\":\"Burkina Faso\",\"count\":1}\\n{\"ORIGIN_COUNTRY_NAME\":\"United States\",\"DEST_COUNTRY_NAME\":\"Sweden\",\"count\":118}\\n{\"ORIGIN_COUNTRY_NAME\":\"Kuwait\",\"DEST_COUNTRY_NAME\":\"United States\",\"count\":28}\\n{\"ORIGIN_COUNTRY_NAME\":\"Dominican Republic\",\"DEST_COUNTRY_NAME\":\"United States\",\"count\":1420}\\n{\"ORIGIN_COUNTRY_NAME\":\"Egypt\",\"DEST_COUNTRY_NAME\":\"United States\",\"count\":12}\\n{\"ORIGIN_COUNTRY_NAME\":\"United States\",\"DEST_COUNTRY_NAME\":\"Israel\",\"count\":134}\\n{\"ORIGIN_COUNTRY_NAME\":\"United States\",\"DEST_COUNTRY_NAME\":\"United States\",\"count\":370002}\\n{\"ORIGIN_COUNTRY_NAME\":\"United States\",\"DEST_COUNTRY_NAME\":\"Ethiopia\",\"count\":13}\\n{\"ORIGIN_COUNTRY_NAME\":\"Luxembourg\",\"DEST_COUNTRY_NAME\":\"United States\",\"count\":134}\\n{\"ORIGIN_COUNTRY_NAME\":\"Poland\",\"DEST_COUNTRY_NAME\":\"United States\",\"count\":33}\\n{\"ORIGIN_COUNTRY_NAME\":\"United States\",\"DEST_COUNTRY_NAME\":\"Martinique\",\"count\":44}\\n{\"ORIGIN_COUNTRY_NAME\":\"Saint Barthelemy\",\"DEST_COUNTRY_NAME\":\"United States\",\"count\":41}\\n{\"ORIGIN_COUNTRY_NAME\":\"United States\",\"DEST_COUNTRY_NAME\":\"Saint Barthelemy\",\"count\":39}\\n{\"ORIGIN_COUNTRY_NAME\":\"United States\",\"DEST_COUNTRY_NAME\":\"Barbados\",\"count\":154}\\n{\"ORIGIN_COUNTRY_NAME\":\"Turkey\",\"DEST_COUNTRY_NAME\":\"United States\",\"count\":129}\\n{\"ORIGIN_COUNTRY_NAME\":\"United States\",\"DEST_COUNTRY_NAME\":\"Djibouti\",\"count\":1}\\n{\"ORIGIN_COUNTRY_NAME\":\"Azerbaijan\",\"DEST_COUNTRY_NAME\":\"United States\",\"count\":21}\\n{\"ORIGIN_COUNTRY_NAME\":\"Estonia\",\"DEST_COUNTRY_NAME\":\"United States\",\"count\":1}\\n{\"ORIGIN_COUNTRY_NAME\":\"United States\",\"DEST_COUNTRY_NAME\":\"Germany\",\"count\":1468}\\n{\"ORIGIN_COUNTRY_NAME\":\"South Korea\",\"DEST_COUNTRY_NAME\":\"United States\",\"count\":827}\\n{\"ORIGIN_COUNTRY_NAME\":\"El Salvador\",\"DEST_COUNTRY_NAME\":\"United States\",\"count\":508}\\n{\"ORIGIN_COUNTRY_NAME\":\"United States\",\"DEST_COUNTRY_NAME\":\"Ireland\",\"count\":335}\\n{\"ORIGIN_COUNTRY_NAME\":\"Hungary\",\"DEST_COUNTRY_NAME\":\"United States\",\"count\":3}\\n{\"ORIGIN_COUNTRY_NAME\":\"United States\",\"DEST_COUNTRY_NAME\":\"Zambia\",\"count\":1}\\n{\"ORIGIN_COUNTRY_NAME\":\"United States\",\"DEST_COUNTRY_NAME\":\"Malaysia\",\"count\":2}\\n{\"ORIGIN_COUNTRY_NAME\":\"Ethiopia\",\"DEST_COUNTRY_NAME\":\"United States\",\"count\":12}\\n{\"ORIGIN_COUNTRY_NAME\":\"Panama\",\"DEST_COUNTRY_NAME\":\"United States\",\"count\":465}\\n{\"ORIGIN_COUNTRY_NAME\":\"Aruba\",\"DEST_COUNTRY_NAME\":\"United States\",\"count\":342}\\n{\"ORIGIN_COUNTRY_NAME\":\"Thailand\",\"DEST_COUNTRY_NAME\":\"United States\",\"count\":4}\\n{\"ORIGIN_COUNTRY_NAME\":\"Turks and Caicos Islands\",\"DEST_COUNTRY_NAME\":\"United States\",\"count\":236}\\n{\"ORIGIN_COUNTRY_NAME\":\"United States\",\"DEST_COUNTRY_NAME\":\"Croatia\",\"count\":2}\\n{\"ORIGIN_COUNTRY_NAME\":\"Pakistan\",\"DEST_COUNTRY_NAME\":\"United States\",\"count\":12}\\n{\"ORIGIN_COUNTRY_NAME\":\"United States\",\"DEST_COUNTRY_NAME\":\"Cyprus\",\"count\":1}\\n{\"ORIGIN_COUNTRY_NAME\":\"Honduras\",\"DEST_COUNTRY_NAME\":\"United States\",\"count\":407}\\n{\"ORIGIN_COUNTRY_NAME\":\"United States\",\"DEST_COUNTRY_NAME\":\"Fiji\",\"count\":24}\\n{\"ORIGIN_COUNTRY_NAME\":\"United States\",\"DEST_COUNTRY_NAME\":\"Qatar\",\"count\":108}\\n{\"ORIGIN_COUNTRY_NAME\":\"United States\",\"DEST_COUNTRY_NAME\":\"Saint Kitts and Nevis\",\"count\":139}\\n{\"ORIGIN_COUNTRY_NAME\":\"United States\",\"DEST_COUNTRY_NAME\":\"Kuwait\",\"count\":32}\\n{\"ORIGIN_COUNTRY_NAME\":\"United States\",\"DEST_COUNTRY_NAME\":\"Taiwan\",\"count\":266}\\n{\"ORIGIN_COUNTRY_NAME\":\"United States\",\"DEST_COUNTRY_NAME\":\"Haiti\",\"count\":226}\\n{\"ORIGIN_COUNTRY_NAME\":\"United States\",\"DEST_COUNTRY_NAME\":\"Canada\",\"count\":8399}\\n{\"ORIGIN_COUNTRY_NAME\":\"United States\",\"DEST_COUNTRY_NAME\":\"Federated States of Micronesia\",\"count\":69}\\n{\"ORIGIN_COUNTRY_NAME\":\"Liberia\",\"DEST_COUNTRY_NAME\":\"United States\",\"count\":2}\\n{\"ORIGIN_COUNTRY_NAME\":\"United States\",\"DEST_COUNTRY_NAME\":\"Jamaica\",\"count\":666}\\n{\"ORIGIN_COUNTRY_NAME\":\"Malta\",\"DEST_COUNTRY_NAME\":\"United States\",\"count\":2}\\n{\"ORIGIN_COUNTRY_NAME\":\"United States\",\"DEST_COUNTRY_NAME\":\"Dominican Republic\",\"count\":1353}\\n{\"ORIGIN_COUNTRY_NAME\":\"United States\",\"DEST_COUNTRY_NAME\":\"Japan\",\"count\":1548}\\n{\"ORIGIN_COUNTRY_NAME\":\"Lithuania\",\"DEST_COUNTRY_NAME\":\"United States\",\"count\":1}\\n{\"ORIGIN_COUNTRY_NAME\":\"United States\",\"DEST_COUNTRY_NAME\":\"Finland\",\"count\":26}\\n{\"ORIGIN_COUNTRY_NAME\":\"Guadeloupe\",\"DEST_COUNTRY_NAME\":\"United States\",\"count\":59}\\n{\"ORIGIN_COUNTRY_NAME\":\"Ukraine\",\"DEST_COUNTRY_NAME\":\"United States\",\"count\":13}\\n{\"ORIGIN_COUNTRY_NAME\":\"France\",\"DEST_COUNTRY_NAME\":\"United States\",\"count\":952}\\n{\"ORIGIN_COUNTRY_NAME\":\"Norway\",\"DEST_COUNTRY_NAME\":\"United States\",\"count\":115}\\n{\"ORIGIN_COUNTRY_NAME\":\"United States\",\"DEST_COUNTRY_NAME\":\"Aruba\",\"count\":346}\\n{\"ORIGIN_COUNTRY_NAME\":\"United States\",\"DEST_COUNTRY_NAME\":\"French Guiana\",\"count\":5}\\n{\"ORIGIN_COUNTRY_NAME\":\"Kiribati\",\"DEST_COUNTRY_NAME\":\"United States\",\"count\":35}\\n{\"ORIGIN_COUNTRY_NAME\":\"United States\",\"DEST_COUNTRY_NAME\":\"India\",\"count\":61}\\n{\"ORIGIN_COUNTRY_NAME\":\"United States\",\"DEST_COUNTRY_NAME\":\"British Virgin Islands\",\"count\":107}\\n{\"ORIGIN_COUNTRY_NAME\":\"United States\",\"DEST_COUNTRY_NAME\":\"Brazil\",\"count\":853}\\n{\"ORIGIN_COUNTRY_NAME\":\"Germany\",\"DEST_COUNTRY_NAME\":\"United States\",\"count\":1336}\\n{\"ORIGIN_COUNTRY_NAME\":\"New Zealand\",\"DEST_COUNTRY_NAME\":\"United States\",\"count\":74}\\n{\"ORIGIN_COUNTRY_NAME\":\"United States\",\"DEST_COUNTRY_NAME\":\"French Polynesia\",\"count\":43}\\n{\"ORIGIN_COUNTRY_NAME\":\"United States\",\"DEST_COUNTRY_NAME\":\"United Arab Emirates\",\"count\":320}\\n{\"ORIGIN_COUNTRY_NAME\":\"United States\",\"DEST_COUNTRY_NAME\":\"Singapore\",\"count\":3}\\n{\"ORIGIN_COUNTRY_NAME\":\"Mexico\",\"DEST_COUNTRY_NAME\":\"United States\",\"count\":7187}\\n{\"ORIGIN_COUNTRY_NAME\":\"Sweden\",\"DEST_COUNTRY_NAME\":\"United States\",\"count\":119}\\n{\"ORIGIN_COUNTRY_NAME\":\"United States\",\"DEST_COUNTRY_NAME\":\"Netherlands\",\"count\":776}\\n{\"ORIGIN_COUNTRY_NAME\":\"Martinique\",\"DEST_COUNTRY_NAME\":\"United States\",\"count\":43}\\n{\"ORIGIN_COUNTRY_NAME\":\"United Arab Emirates\",\"DEST_COUNTRY_NAME\":\"United States\",\"count\":313}\\n{\"ORIGIN_COUNTRY_NAME\":\"Bulgaria\",\"DEST_COUNTRY_NAME\":\"United States\",\"count\":1}\\n{\"ORIGIN_COUNTRY_NAME\":\"United States\",\"DEST_COUNTRY_NAME\":\"Denmark\",\"count\":153}\\n{\"ORIGIN_COUNTRY_NAME\":\"United States\",\"DEST_COUNTRY_NAME\":\"China\",\"count\":772}\\n{\"ORIGIN_COUNTRY_NAME\":\"Nicaragua\",\"DEST_COUNTRY_NAME\":\"United States\",\"count\":201}\\n{\"ORIGIN_COUNTRY_NAME\":\"Philippines\",\"DEST_COUNTRY_NAME\":\"United States\",\"count\":126}\\n{\"ORIGIN_COUNTRY_NAME\":\"Georgia\",\"DEST_COUNTRY_NAME\":\"United States\",\"count\":1}\\n{\"ORIGIN_COUNTRY_NAME\":\"Belgium\",\"DEST_COUNTRY_NAME\":\"United States\",\"count\":228}\\n{\"ORIGIN_COUNTRY_NAME\":\"United States\",\"DEST_COUNTRY_NAME\":\"Cayman Islands\",\"count\":314}\\n{\"ORIGIN_COUNTRY_NAME\":\"United States\",\"DEST_COUNTRY_NAME\":\"Argentina\",\"count\":180}\\n{\"ORIGIN_COUNTRY_NAME\":\"United States\",\"DEST_COUNTRY_NAME\":\"Peru\",\"count\":279}\\n{\"ORIGIN_COUNTRY_NAME\":\"United States\",\"DEST_COUNTRY_NAME\":\"South Africa\",\"count\":36}\\n{\"ORIGIN_COUNTRY_NAME\":\"Iceland\",\"DEST_COUNTRY_NAME\":\"United States\",\"count\":202}\\n{\"ORIGIN_COUNTRY_NAME\":\"Argentina\",\"DEST_COUNTRY_NAME\":\"United States\",\"count\":141}\\n{\"ORIGIN_COUNTRY_NAME\":\"United States\",\"DEST_COUNTRY_NAME\":\"Spain\",\"count\":420}\\n{\"ORIGIN_COUNTRY_NAME\":\"United States\",\"DEST_COUNTRY_NAME\":\"Bermuda\",\"count\":183}\\n{\"ORIGIN_COUNTRY_NAME\":\"Nigeria\",\"DEST_COUNTRY_NAME\":\"United States\",\"count\":50}\\n{\"ORIGIN_COUNTRY_NAME\":\"Austria\",\"DEST_COUNTRY_NAME\":\"United States\",\"count\":63}\\n{\"ORIGIN_COUNTRY_NAME\":\"Bonaire, Sint Eustatius, and Saba\",\"DEST_COUNTRY_NAME\":\"United States\",\"count\":59}\\n{\"ORIGIN_COUNTRY_NAME\":\"United States\",\"DEST_COUNTRY_NAME\":\"Kiribati\",\"count\":26}\\n{\"ORIGIN_COUNTRY_NAME\":\"United States\",\"DEST_COUNTRY_NAME\":\"Saudi Arabia\",\"count\":83}\\n{\"ORIGIN_COUNTRY_NAME\":\"United States\",\"DEST_COUNTRY_NAME\":\"Czech Republic\",\"count\":13}\\n{\"ORIGIN_COUNTRY_NAME\":\"Israel\",\"DEST_COUNTRY_NAME\":\"United States\",\"count\":127}\\n{\"ORIGIN_COUNTRY_NAME\":\"United States\",\"DEST_COUNTRY_NAME\":\"Belgium\",\"count\":259}\\n{\"ORIGIN_COUNTRY_NAME\":\"Saint Lucia\",\"DEST_COUNTRY_NAME\":\"United States\",\"count\":136}\\n{\"ORIGIN_COUNTRY_NAME\":\"Bahrain\",\"DEST_COUNTRY_NAME\":\"United States\",\"count\":1}\\n{\"ORIGIN_COUNTRY_NAME\":\"British Virgin Islands\",\"DEST_COUNTRY_NAME\":\"United States\",\"count\":80}\\n{\"ORIGIN_COUNTRY_NAME\":\"United States\",\"DEST_COUNTRY_NAME\":\"Curacao\",\"count\":90}\\n{\"ORIGIN_COUNTRY_NAME\":\"United States\",\"DEST_COUNTRY_NAME\":\"Georgia\",\"count\":2}\\n{\"ORIGIN_COUNTRY_NAME\":\"Denmark\",\"DEST_COUNTRY_NAME\":\"United States\",\"count\":152}\\n{\"ORIGIN_COUNTRY_NAME\":\"Guyana\",\"DEST_COUNTRY_NAME\":\"United States\",\"count\":63}\\n{\"ORIGIN_COUNTRY_NAME\":\"United States\",\"DEST_COUNTRY_NAME\":\"Philippines\",\"count\":134}\\n{\"ORIGIN_COUNTRY_NAME\":\"United States\",\"DEST_COUNTRY_NAME\":\"Grenada\",\"count\":53}\\n{\"ORIGIN_COUNTRY_NAME\":\"United States\",\"DEST_COUNTRY_NAME\":\"Cape Verde\",\"count\":20}\\n{\"ORIGIN_COUNTRY_NAME\":\"United States\",\"DEST_COUNTRY_NAME\":\"Cote d\\'Ivoire\",\"count\":1}\\n{\"ORIGIN_COUNTRY_NAME\":\"United States\",\"DEST_COUNTRY_NAME\":\"Ukraine\",\"count\":14}\\n{\"ORIGIN_COUNTRY_NAME\":\"Papua New Guinea\",\"DEST_COUNTRY_NAME\":\"United States\",\"count\":1}\\n{\"ORIGIN_COUNTRY_NAME\":\"United States\",\"DEST_COUNTRY_NAME\":\"Russia\",\"count\":176}\\n{\"ORIGIN_COUNTRY_NAME\":\"Saudi Arabia\",\"DEST_COUNTRY_NAME\":\"United States\",\"count\":70}\\n{\"ORIGIN_COUNTRY_NAME\":\"United States\",\"DEST_COUNTRY_NAME\":\"Guatemala\",\"count\":397}\\n{\"ORIGIN_COUNTRY_NAME\":\"United States\",\"DEST_COUNTRY_NAME\":\"Saint Lucia\",\"count\":123}\\n{\"ORIGIN_COUNTRY_NAME\":\"United States\",\"DEST_COUNTRY_NAME\":\"Paraguay\",\"count\":60}\\n{\"ORIGIN_COUNTRY_NAME\":\"Curacao\",\"DEST_COUNTRY_NAME\":\"United States\",\"count\":83}\\n{\"ORIGIN_COUNTRY_NAME\":\"United States\",\"DEST_COUNTRY_NAME\":\"Kosovo\",\"count\":1}\\n{\"ORIGIN_COUNTRY_NAME\":\"Taiwan\",\"DEST_COUNTRY_NAME\":\"United States\",\"count\":235}\\n{\"ORIGIN_COUNTRY_NAME\":\"United States\",\"DEST_COUNTRY_NAME\":\"Tunisia\",\"count\":3}\\n{\"ORIGIN_COUNTRY_NAME\":\"South Africa\",\"DEST_COUNTRY_NAME\":\"United States\",\"count\":40}\\n{\"ORIGIN_COUNTRY_NAME\":\"United States\",\"DEST_COUNTRY_NAME\":\"Niger\",\"count\":2}\\n{\"ORIGIN_COUNTRY_NAME\":\"United States\",\"DEST_COUNTRY_NAME\":\"Turkey\",\"count\":138}\\n{\"ORIGIN_COUNTRY_NAME\":\"United States\",\"DEST_COUNTRY_NAME\":\"United Kingdom\",\"count\":2025}\\n{\"ORIGIN_COUNTRY_NAME\":\"United States\",\"DEST_COUNTRY_NAME\":\"Romania\",\"count\":14}\\n{\"ORIGIN_COUNTRY_NAME\":\"Greenland\",\"DEST_COUNTRY_NAME\":\"United States\",\"count\":4}\\n{\"ORIGIN_COUNTRY_NAME\":\"United States\",\"DEST_COUNTRY_NAME\":\"Papua New Guinea\",\"count\":3}\\n{\"ORIGIN_COUNTRY_NAME\":\"Spain\",\"DEST_COUNTRY_NAME\":\"United States\",\"count\":442}\\n{\"ORIGIN_COUNTRY_NAME\":\"United States\",\"DEST_COUNTRY_NAME\":\"Iraq\",\"count\":1}\\n{\"ORIGIN_COUNTRY_NAME\":\"Italy\",\"DEST_COUNTRY_NAME\":\"United States\",\"count\":438}\\n{\"ORIGIN_COUNTRY_NAME\":\"United States\",\"DEST_COUNTRY_NAME\":\"Cuba\",\"count\":466}\\n{\"ORIGIN_COUNTRY_NAME\":\"Switzerland\",\"DEST_COUNTRY_NAME\":\"United States\",\"count\":305}\\n{\"ORIGIN_COUNTRY_NAME\":\"United States\",\"DEST_COUNTRY_NAME\":\"Dominica\",\"count\":20}\\n{\"ORIGIN_COUNTRY_NAME\":\"Japan\",\"DEST_COUNTRY_NAME\":\"United States\",\"count\":1496}\\n{\"ORIGIN_COUNTRY_NAME\":\"United States\",\"DEST_COUNTRY_NAME\":\"Portugal\",\"count\":127}\\n{\"ORIGIN_COUNTRY_NAME\":\"Brazil\",\"DEST_COUNTRY_NAME\":\"United States\",\"count\":619}\\n{\"ORIGIN_COUNTRY_NAME\":\"United States\",\"DEST_COUNTRY_NAME\":\"Bahrain\",\"count\":19}\\n{\"ORIGIN_COUNTRY_NAME\":\"Peru\",\"DEST_COUNTRY_NAME\":\"United States\",\"count\":337}\\n{\"ORIGIN_COUNTRY_NAME\":\"United States\",\"DEST_COUNTRY_NAME\":\"Indonesia\",\"count\":1}\\n{\"ORIGIN_COUNTRY_NAME\":\"Belize\",\"DEST_COUNTRY_NAME\":\"United States\",\"count\":193}\\n{\"ORIGIN_COUNTRY_NAME\":\"United Kingdom\",\"DEST_COUNTRY_NAME\":\"United States\",\"count\":1970}\\n{\"ORIGIN_COUNTRY_NAME\":\"United States\",\"DEST_COUNTRY_NAME\":\"Belize\",\"count\":188}\\n{\"ORIGIN_COUNTRY_NAME\":\"Ghana\",\"DEST_COUNTRY_NAME\":\"United States\",\"count\":20}\\n{\"ORIGIN_COUNTRY_NAME\":\"Indonesia\",\"DEST_COUNTRY_NAME\":\"United States\",\"count\":2}\\n{\"ORIGIN_COUNTRY_NAME\":\"Fiji\",\"DEST_COUNTRY_NAME\":\"United States\",\"count\":25}\\n{\"ORIGIN_COUNTRY_NAME\":\"Canada\",\"DEST_COUNTRY_NAME\":\"United States\",\"count\":8483}\\n{\"ORIGIN_COUNTRY_NAME\":\"Antigua and Barbuda\",\"DEST_COUNTRY_NAME\":\"United States\",\"count\":117}\\n{\"ORIGIN_COUNTRY_NAME\":\"French Polynesia\",\"DEST_COUNTRY_NAME\":\"United States\",\"count\":40}\\n{\"ORIGIN_COUNTRY_NAME\":\"United States\",\"DEST_COUNTRY_NAME\":\"Nicaragua\",\"count\":179}\\n{\"ORIGIN_COUNTRY_NAME\":\"Latvia\",\"DEST_COUNTRY_NAME\":\"United States\",\"count\":15}\\n{\"ORIGIN_COUNTRY_NAME\":\"Dominica\",\"DEST_COUNTRY_NAME\":\"United States\",\"count\":27}\\n{\"ORIGIN_COUNTRY_NAME\":\"Czech Republic\",\"DEST_COUNTRY_NAME\":\"United States\",\"count\":12}\\n{\"ORIGIN_COUNTRY_NAME\":\"Australia\",\"DEST_COUNTRY_NAME\":\"United States\",\"count\":258}\\n{\"ORIGIN_COUNTRY_NAME\":\"Cook Islands\",\"DEST_COUNTRY_NAME\":\"United States\",\"count\":13}\\n{\"ORIGIN_COUNTRY_NAME\":\"United States\",\"DEST_COUNTRY_NAME\":\"Austria\",\"count\":62}\\n{\"ORIGIN_COUNTRY_NAME\":\"United States\",\"DEST_COUNTRY_NAME\":\"Jordan\",\"count\":44}\\n{\"ORIGIN_COUNTRY_NAME\":\"United States\",\"DEST_COUNTRY_NAME\":\"Palau\",\"count\":30}\\n{\"ORIGIN_COUNTRY_NAME\":\"United States\",\"DEST_COUNTRY_NAME\":\"South Korea\",\"count\":1048}\\n{\"ORIGIN_COUNTRY_NAME\":\"United States\",\"DEST_COUNTRY_NAME\":\"Angola\",\"count\":15}\\n{\"ORIGIN_COUNTRY_NAME\":\"United States\",\"DEST_COUNTRY_NAME\":\"Ghana\",\"count\":18}\\n{\"ORIGIN_COUNTRY_NAME\":\"United States\",\"DEST_COUNTRY_NAME\":\"New Caledonia\",\"count\":1}\\n{\"ORIGIN_COUNTRY_NAME\":\"United States\",\"DEST_COUNTRY_NAME\":\"Guadeloupe\",\"count\":56}\\n{\"ORIGIN_COUNTRY_NAME\":\"United States\",\"DEST_COUNTRY_NAME\":\"France\",\"count\":935}\\n{\"ORIGIN_COUNTRY_NAME\":\"United States\",\"DEST_COUNTRY_NAME\":\"Poland\",\"count\":32}\\n{\"ORIGIN_COUNTRY_NAME\":\"United States\",\"DEST_COUNTRY_NAME\":\"Nigeria\",\"count\":59}\\n{\"ORIGIN_COUNTRY_NAME\":\"Uruguay\",\"DEST_COUNTRY_NAME\":\"United States\",\"count\":13}\\n{\"ORIGIN_COUNTRY_NAME\":\"United States\",\"DEST_COUNTRY_NAME\":\"Greenland\",\"count\":2}\\n{\"ORIGIN_COUNTRY_NAME\":\"Bermuda\",\"DEST_COUNTRY_NAME\":\"United States\",\"count\":193}\\n{\"ORIGIN_COUNTRY_NAME\":\"United States\",\"DEST_COUNTRY_NAME\":\"Chile\",\"count\":174}\\n{\"ORIGIN_COUNTRY_NAME\":\"Cuba\",\"DEST_COUNTRY_NAME\":\"United States\",\"count\":478}\\n{\"ORIGIN_COUNTRY_NAME\":\"Montenegro\",\"DEST_COUNTRY_NAME\":\"United States\",\"count\":1}\\n{\"ORIGIN_COUNTRY_NAME\":\"Colombia\",\"DEST_COUNTRY_NAME\":\"United States\",\"count\":867}\\n{\"ORIGIN_COUNTRY_NAME\":\"Barbados\",\"DEST_COUNTRY_NAME\":\"United States\",\"count\":130}\\n{\"ORIGIN_COUNTRY_NAME\":\"Qatar\",\"DEST_COUNTRY_NAME\":\"United States\",\"count\":109}\\n{\"ORIGIN_COUNTRY_NAME\":\"United States\",\"DEST_COUNTRY_NAME\":\"Australia\",\"count\":329}\\n{\"ORIGIN_COUNTRY_NAME\":\"Cayman Islands\",\"DEST_COUNTRY_NAME\":\"United States\",\"count\":310}\\n{\"ORIGIN_COUNTRY_NAME\":\"Jordan\",\"DEST_COUNTRY_NAME\":\"United States\",\"count\":44}\\n{\"ORIGIN_COUNTRY_NAME\":\"Namibia\",\"DEST_COUNTRY_NAME\":\"United States\",\"count\":1}\\n{\"ORIGIN_COUNTRY_NAME\":\"Trinidad and Tobago\",\"DEST_COUNTRY_NAME\":\"United States\",\"count\":217}\\n{\"ORIGIN_COUNTRY_NAME\":\"Bolivia\",\"DEST_COUNTRY_NAME\":\"United States\",\"count\":13}\\n{\"ORIGIN_COUNTRY_NAME\":\"United States\",\"DEST_COUNTRY_NAME\":\"Cook Islands\",\"count\":13}\\n{\"ORIGIN_COUNTRY_NAME\":\"United States\",\"DEST_COUNTRY_NAME\":\"Bulgaria\",\"count\":3}\\n{\"ORIGIN_COUNTRY_NAME\":\"Saint Kitts and Nevis\",\"DEST_COUNTRY_NAME\":\"United States\",\"count\":145}\\n{\"ORIGIN_COUNTRY_NAME\":\"United States\",\"DEST_COUNTRY_NAME\":\"Uruguay\",\"count\":43}\\n{\"ORIGIN_COUNTRY_NAME\":\"Haiti\",\"DEST_COUNTRY_NAME\":\"United States\",\"count\":225}\\n{\"ORIGIN_COUNTRY_NAME\":\"United States\",\"DEST_COUNTRY_NAME\":\"Bonaire, Sint Eustatius, and Saba\",\"count\":58}\\n{\"ORIGIN_COUNTRY_NAME\":\"United States\",\"DEST_COUNTRY_NAME\":\"Greece\",\"count\":30}\\n')]\n"
     ]
    }
   ],
   "source": [
    "rdd_whole_files = spark.sparkContext.wholeTextFiles('./data/flight-data/json')\n",
    "\n",
    "print(sorted(rdd_whole_files.collect()))"
   ]
  },
  {
   "cell_type": "code",
   "execution_count": 55,
   "id": "59c7ec18",
   "metadata": {},
   "outputs": [],
   "source": [
    "## ERRORS \n",
    "# Can not infer schema for type: <class 'str'>\n",
    "# spark.sparkContext.textFile('./data/flight-data/json/2015-summary.json').toDF()\n",
    "\n"
   ]
  },
  {
   "cell_type": "markdown",
   "id": "22734bef",
   "metadata": {},
   "source": [
    "### Manipulting RDDs I : Transformations\n",
    "\n",
    "documentation: https://spark.apache.org/docs/latest/rdd-programming-guide.html#transformations\n",
    "\n",
    "```rdd.distinct()``` --< remove duplicates \n",
    "\n",
    "```rdd.filter(lambda x: filter_function(x))```\n",
    "\n",
    "```rdd.map((lambda x: map_function(x))```\n",
    "\n",
    "```rdd.filterMap((lambda x: map_function(x))```\n",
    "\n",
    "```rdd.sortBy(lambda x: keyfunc)```: Sorts this RDD by the given keyfunc\n",
    "\n",
    "```rdd.RandomSpilt([0.25,0.75])```"
   ]
  },
  {
   "cell_type": "markdown",
   "id": "27061985",
   "metadata": {},
   "source": [
    "### Method:  ```rdd.sortBy(lambda x: keyfunc)```"
   ]
  },
  {
   "cell_type": "code",
   "execution_count": 19,
   "id": "58a0d4b7",
   "metadata": {},
   "outputs": [
    {
     "data": {
      "text/plain": [
       "[('1', 3), ('2', 5), ('a', 1), ('b', 2), ('d', 4)]"
      ]
     },
     "execution_count": 19,
     "metadata": {},
     "output_type": "execute_result"
    }
   ],
   "source": [
    "mp = [('a', 1), ('b', 2), ('1', 3), ('d', 4), ('2', 5)]\n",
    "\n",
    "# x is the rdd, x[0] is the key\n",
    "spark.sparkContext.parallelize(tmp).sortBy(lambda x: x[0]).collect()"
   ]
  },
  {
   "cell_type": "code",
   "execution_count": 20,
   "id": "45d23918",
   "metadata": {},
   "outputs": [],
   "source": [
    "# sort by value"
   ]
  },
  {
   "cell_type": "code",
   "execution_count": 21,
   "id": "db1b6600",
   "metadata": {},
   "outputs": [
    {
     "data": {
      "text/plain": [
       "[('a', 1), ('b', 2), ('1', 3), ('d', 4), ('2', 5)]"
      ]
     },
     "execution_count": 21,
     "metadata": {},
     "output_type": "execute_result"
    }
   ],
   "source": [
    "spark.sparkContext.parallelize(tmp).sortBy(lambda x: x[1]).collect()"
   ]
  },
  {
   "cell_type": "code",
   "execution_count": 84,
   "id": "f0180c90",
   "metadata": {},
   "outputs": [
    {
     "data": {
      "text/plain": [
       "['parola', 'corta', 'rude', 'non', 'si']"
      ]
     },
     "execution_count": 84,
     "metadata": {},
     "output_type": "execute_result"
    }
   ],
   "source": [
    "words = \"parola corta rude non si\".split(\" \")\n",
    "words = spark.sparkContext.parallelize(words) # transform list to rdd\n",
    "words.sortBy(lambda word: len(word)* -1).collect() # order by lenght"
   ]
  },
  {
   "cell_type": "markdown",
   "id": "3e362e8f",
   "metadata": {},
   "source": [
    "### Method:  ```rdd.sortByKey()```"
   ]
  },
  {
   "cell_type": "code",
   "execution_count": 69,
   "id": "7262dc7d",
   "metadata": {},
   "outputs": [
    {
     "data": {
      "text/plain": [
       "PythonRDD[197] at RDD at PythonRDD.scala:53"
      ]
     },
     "execution_count": 69,
     "metadata": {},
     "output_type": "execute_result"
    }
   ],
   "source": [
    "tmp = [('a', 1), ('b', 2), ('1', 3), ('d', 4), ('2', 5)]\n",
    "spark.sparkContext.parallelize(tmp).sortByKey()"
   ]
  },
  {
   "cell_type": "code",
   "execution_count": 78,
   "id": "96772c5d",
   "metadata": {},
   "outputs": [
    {
     "data": {
      "text/plain": [
       "[('a', 1), ('b', 2), ('1', 3), ('d', 4), ('2', 5)]"
      ]
     },
     "execution_count": 78,
     "metadata": {},
     "output_type": "execute_result"
    }
   ],
   "source": [
    "spark.sparkContext.parallelize(tmp).collect()"
   ]
  },
  {
   "cell_type": "markdown",
   "id": "bdfc5cf3",
   "metadata": {},
   "source": [
    "### Method:  ```rdd.randomSplit([weight1,weight2, ..., weightn])```"
   ]
  },
  {
   "cell_type": "code",
   "execution_count": 95,
   "id": "01babcfe",
   "metadata": {},
   "outputs": [
    {
     "data": {
      "text/plain": [
       "[PythonRDD[295] at RDD at PythonRDD.scala:53,\n",
       " PythonRDD[296] at RDD at PythonRDD.scala:53,\n",
       " PythonRDD[297] at RDD at PythonRDD.scala:53]"
      ]
     },
     "execution_count": 95,
     "metadata": {},
     "output_type": "execute_result"
    }
   ],
   "source": [
    "words.randomSplit([0.25,0.3,0.3])"
   ]
  },
  {
   "cell_type": "code",
   "execution_count": 99,
   "id": "bbea974c",
   "metadata": {},
   "outputs": [
    {
     "data": {
      "text/plain": [
       "['parola', 'corta', 'rude', 'si']"
      ]
     },
     "execution_count": 99,
     "metadata": {},
     "output_type": "execute_result"
    }
   ],
   "source": [
    "words = \"parola corta rude non si\".split(\" \")\n",
    "words = spark.sparkContext.parallelize(words) \n",
    "element =  words.randomSplit([0.25,0.75])\n",
    "element[1].collect()"
   ]
  },
  {
   "cell_type": "markdown",
   "id": "3af31384",
   "metadata": {},
   "source": [
    "#### Method ```rdd.map((lambda x: map_function(x))``` vs ```rdd.filterMap((lambda x: map_function(x))```\n",
    "\n",
    "map :It returns a new RDD by applying a function to each element of the RDD. Function in map can return only one item.\n",
    "\n",
    "flatMap: Similar to map, it returns a new RDD by applying  a function to each element of the RDD, but output is flattened."
   ]
  },
  {
   "cell_type": "code",
   "execution_count": 66,
   "id": "e15a271e",
   "metadata": {},
   "outputs": [
    {
     "data": {
      "text/plain": [
       "[[3, 9], [4, 16], [5, 25]]"
      ]
     },
     "execution_count": 66,
     "metadata": {},
     "output_type": "execute_result"
    }
   ],
   "source": [
    "spark.sparkContext.parallelize([3,4,5]).map(lambda x: [x,  x*x]).collect()"
   ]
  },
  {
   "cell_type": "code",
   "execution_count": 64,
   "id": "68623dea",
   "metadata": {},
   "outputs": [
    {
     "data": {
      "text/plain": [
       "[3, 9, 4, 16, 5, 25]"
      ]
     },
     "execution_count": 64,
     "metadata": {},
     "output_type": "execute_result"
    }
   ],
   "source": [
    "spark.sparkContext.parallelize([3,4,5]).flatMap(lambda x:  [x,  x*x]).collect()"
   ]
  },
  {
   "cell_type": "markdown",
   "id": "0c6abfcd",
   "metadata": {},
   "source": [
    "### Manipulting RDDs II : Actions \n",
    "\n",
    "documentation: https://spark.apache.org/docs/latest/rdd-programming-guide.html#actions\n",
    "\n",
    "#### Method ```countByValue(self)``` \n",
    "Return the count of each unique value in this RDD as a dictionary of (value, count) pairs."
   ]
  },
  {
   "cell_type": "code",
   "execution_count": null,
   "id": "2f74511b",
   "metadata": {},
   "outputs": [],
   "source": [
    "spark.sparkContext.parallelize([3,4,5,3,3,4]).countByValue()"
   ]
  },
  {
   "cell_type": "code",
   "execution_count": null,
   "id": "01ead459",
   "metadata": {},
   "outputs": [],
   "source": [
    "words.countByValue()\n"
   ]
  },
  {
   "cell_type": "markdown",
   "id": "9f0dd272",
   "metadata": {},
   "source": [
    "#### Method ```countApprox(timeout, confidence=0.95)``` \n",
    "Approximate version of count() that returns a potentially incomplete result within a timeout, even if not all tasks have finished."
   ]
  },
  {
   "cell_type": "code",
   "execution_count": 113,
   "id": "cde60954",
   "metadata": {},
   "outputs": [],
   "source": [
    "# rdd = spark.sparkContext.parallelize(range(20000), 10)\n",
    "# words.countApprox(10, 0.9) \n"
   ]
  },
  {
   "cell_type": "markdown",
   "id": "6825f8e1",
   "metadata": {},
   "source": [
    "#### Methods ```first()```  ```min()```  ```max()```  ```take()``` \n"
   ]
  },
  {
   "cell_type": "code",
   "execution_count": 4,
   "id": "7d4fb625",
   "metadata": {},
   "outputs": [
    {
     "data": {
      "text/plain": [
       "('1', 3)"
      ]
     },
     "execution_count": 4,
     "metadata": {},
     "output_type": "execute_result"
    }
   ],
   "source": [
    "tmp = [('a', 1), ('b', 2), ('1', 3), ('d', 4), ('2', 5)]\n",
    "spark.sparkContext.parallelize(tmp).sortByKey().first()"
   ]
  },
  {
   "cell_type": "code",
   "execution_count": 5,
   "id": "b23152b3",
   "metadata": {},
   "outputs": [
    {
     "data": {
      "text/plain": [
       "('1', 3)"
      ]
     },
     "execution_count": 5,
     "metadata": {},
     "output_type": "execute_result"
    }
   ],
   "source": [
    "spark.sparkContext.parallelize(tmp).sortByKey().min()"
   ]
  },
  {
   "cell_type": "code",
   "execution_count": 6,
   "id": "a2ba0b86",
   "metadata": {},
   "outputs": [
    {
     "data": {
      "text/plain": [
       "('d', 4)"
      ]
     },
     "execution_count": 6,
     "metadata": {},
     "output_type": "execute_result"
    }
   ],
   "source": [
    "spark.sparkContext.parallelize(tmp).sortByKey().max()"
   ]
  },
  {
   "cell_type": "markdown",
   "id": "07f4ae21",
   "metadata": {},
   "source": [
    "#### Methods ```take()```   ```takeOrdered()```  ```takeSample()```   ```top()``` \n",
    "\n",
    "```takeSample()```  to specify a fixed-size random sample from your RDD. You can specify\n",
    "whether this should be done by using withReplacement, the number of values, as well as the\n",
    "random seed. \n",
    "\n",
    "```takeOrdered()``` ame as .sortByKey().take()\n",
    "\n",
    "```top()```  is effectively the opposite of ```takeOrdered()```  in that it selects the top values according to the implicit ordering"
   ]
  },
  {
   "cell_type": "code",
   "execution_count": 8,
   "id": "90c92f8f",
   "metadata": {},
   "outputs": [
    {
     "data": {
      "text/plain": [
       "[('a', 1), ('b', 2), ('1', 3)]"
      ]
     },
     "execution_count": 8,
     "metadata": {},
     "output_type": "execute_result"
    }
   ],
   "source": [
    "spark.sparkContext.parallelize(tmp).take(3)"
   ]
  },
  {
   "cell_type": "code",
   "execution_count": 7,
   "id": "38d92554",
   "metadata": {},
   "outputs": [
    {
     "data": {
      "text/plain": [
       "[('1', 3), ('2', 5), ('a', 1)]"
      ]
     },
     "execution_count": 7,
     "metadata": {},
     "output_type": "execute_result"
    }
   ],
   "source": [
    "spark.sparkContext.parallelize(tmp).sortByKey().take(3) #takeOrdered()"
   ]
  },
  {
   "cell_type": "code",
   "execution_count": 9,
   "id": "84b2eb05",
   "metadata": {},
   "outputs": [
    {
     "data": {
      "text/plain": [
       "[('1', 3), ('2', 5), ('a', 1)]"
      ]
     },
     "execution_count": 9,
     "metadata": {},
     "output_type": "execute_result"
    }
   ],
   "source": [
    "spark.sparkContext.parallelize(tmp).takeOrdered(3) #same as .sortByKey().take(3)"
   ]
  },
  {
   "cell_type": "code",
   "execution_count": 11,
   "id": "df989783",
   "metadata": {},
   "outputs": [
    {
     "data": {
      "text/plain": [
       "[('d', 4), ('d', 4), ('2', 5)]"
      ]
     },
     "execution_count": 11,
     "metadata": {},
     "output_type": "execute_result"
    }
   ],
   "source": [
    "withReplacement = True\n",
    "numberToTake = 3\n",
    "randomSeed = 23\n",
    "spark.sparkContext.parallelize(tmp).takeSample(withReplacement, numberToTake, randomSeed)"
   ]
  },
  {
   "cell_type": "markdown",
   "id": "d0efd45d",
   "metadata": {},
   "source": [
    "### Save RDDs to Files\n",
    "#### METHOD ```rdd.saveAsTextFile('path/to/data_folder')``` or  ```repartition(n_rep).saveAsTextFile('path/to/data_folder')```"
   ]
  },
  {
   "cell_type": "code",
   "execution_count": 13,
   "id": "8b20a54a",
   "metadata": {},
   "outputs": [],
   "source": [
    "spark.sparkContext.parallelize(tmp).repartition(5).saveAsTextFile(\"words_to_text_file\")\n",
    "# this command create a folder called \"words_to_text_file\" and writes 5 files (part-xxxxx) \n",
    "# in addition to a metadata file _SUCCESS"
   ]
  },
  {
   "cell_type": "code",
   "execution_count": 16,
   "id": "a2d741ae",
   "metadata": {},
   "outputs": [],
   "source": [
    "# force to write to one file  with .repartition(1)\n",
    "spark.sparkContext.parallelize(tmp).repartition(1).saveAsTextFile(\"words_to_one_text_file\") "
   ]
  },
  {
   "cell_type": "code",
   "execution_count": null,
   "id": "78cc7b6c",
   "metadata": {},
   "outputs": [],
   "source": [
    "# Spark choose the number of partitions\n",
    "spark.sparkContext.parallelize(tmp).repartition(1).saveAsTextFile(\"words_to_text_file_spark_choose\") "
   ]
  },
  {
   "cell_type": "code",
   "execution_count": null,
   "id": "e5686b27",
   "metadata": {},
   "outputs": [],
   "source": [
    "flights = spark.sparkContext.textFile('./data/flight-data/csv/2015-summary.csv')\n",
    "flights.map( lambda x : x.split(\";\") ).map( lambda x: Test(x(0),x(1)) ).toDF()\n",
    "# flights.map(_.split(\",\")).map{case Array(a,b,c) => \n",
    "# (a,b.toInt,c)}.toDF(\"name\",\"age\",\"city\")"
   ]
  },
  {
   "cell_type": "markdown",
   "id": "d657c664",
   "metadata": {},
   "source": [
    "####  METHOD ```rdd.saveAsObjectFile('path/to/data_folder')``` (ONLY Java and Scala)\n",
    "\n",
    "A sequenceFile is a flat file consisting of binary key–value pairs. It is extensively used in MapReduce as input/output formats. Spark can write to sequenceFiles using the saveAsObjectFile method or by explicitly writing\n",
    "key–value pairs,\n",
    "\n",
    "\n",
    "```rdd.saveAsObjectFile('path/to/data_folder')``` Write the elements of the dataset in a simple format using Java serialization, which can then be loaded using SparkContext.objectFile().\n"
   ]
  },
  {
   "cell_type": "code",
   "execution_count": 18,
   "id": "976a2b7d",
   "metadata": {},
   "outputs": [
    {
     "ename": "AttributeError",
     "evalue": "'RDD' object has no attribute 'saveAsObjectFiles'",
     "output_type": "error",
     "traceback": [
      "\u001b[0;31m---------------------------------------------------------------------------\u001b[0m",
      "\u001b[0;31mAttributeError\u001b[0m                            Traceback (most recent call last)",
      "\u001b[0;32m<ipython-input-18-8b2c52dd9dc1>\u001b[0m in \u001b[0;36m<module>\u001b[0;34m\u001b[0m\n\u001b[0;32m----> 1\u001b[0;31m \u001b[0mspark\u001b[0m\u001b[0;34m.\u001b[0m\u001b[0msparkContext\u001b[0m\u001b[0;34m.\u001b[0m\u001b[0mparallelize\u001b[0m\u001b[0;34m(\u001b[0m\u001b[0mtmp\u001b[0m\u001b[0;34m)\u001b[0m\u001b[0;34m.\u001b[0m\u001b[0msaveAsObjectFiles\u001b[0m\u001b[0;34m(\u001b[0m\u001b[0;34m\"words_to_saveAsObjectFile\"\u001b[0m\u001b[0;34m)\u001b[0m\u001b[0;34m\u001b[0m\u001b[0;34m\u001b[0m\u001b[0m\n\u001b[0m",
      "\u001b[0;31mAttributeError\u001b[0m: 'RDD' object has no attribute 'saveAsObjectFiles'"
     ]
    }
   ],
   "source": [
    "spark.sparkContext.parallelize(tmp).saveAsObjectFiles(\"words_to_saveAsObjectFile\") "
   ]
  },
  {
   "cell_type": "markdown",
   "id": "069146c5",
   "metadata": {},
   "source": [
    "## Persisting (or caching) a dataset in memory across operations [Ch. 20]\n",
    "\n",
    "mark an RDD to be persisted using the persist() or cache() methods on it.\n",
    "\n",
    "\n",
    "```rdd.persist(storageLevel)```:  Set this RDD's storage level to persist its values across operations after the first time it is computed. This can only be used to assign a new storage level if the RDD does not have a storage level set yet.\n",
    "\n",
    "```rdd.cache()```: a shorthand for using the default storage level, which is StorageLevel.MEMORY_ONLY (store deserialized objects in memory).\n",
    "\n",
    "\n",
    "\n",
    "**Storage Level**\n",
    "\n",
    "    MEMORY_ONLY: \tStore RDD as deserialized Java objects in the JVM. If the RDD does not fit in memory, some partitions will not be cached and will be recomputed on the fly each time they're needed. This is the default level.\n",
    "\n",
    "    MEMORY_AND_DISK: Store RDD as deserialized Java objects in the JVM. If the RDD does not fit in memory, store the partitions that don't fit on disk, and read them from there when they're needed.\n",
    "\n",
    "    MEMORY_ONLY_SER (Java and Scala): \tStore RDD as serialized Java objects (one byte array per partition). This is generally more space-efficient than deserialized objects, especially when using a fast serializer, but more CPU-intensive to read.\n",
    "\n",
    "    MEMORY_AND_DISK_SER (Java and Scala): Similar to MEMORY_ONLY_SER, but spill partitions that don't fit in memory to disk instead of recomputing them on the fly each time they're needed.\n",
    "\n",
    "    DISK_ONLY\tStore the RDD partitions only on disk.\n",
    "\n",
    "    MEMORY_ONLY_2, MEMORY_AND_DISK_2, etc.: Same as the levels above, but replicate each partition on two cluster nodes.\n",
    "\n",
    "    OFF_HEAP (experimental): Similar to MEMORY_ONLY_SER, but store the data in off-heap memory. This requires off-heap memory to be enabled.\n",
    "\n",
    "\n",
    "**Note: In Python** stored objects will always be serialized with the Pickle library, so it does not matter whether you choose a serialized level. The available storage levels in Python include MEMORY_ONLY, MEMORY_ONLY_2, MEMORY_AND_DISK, MEMORY_AND_DISK_2, DISK_ONLY, DISK_ONLY_2, and DISK_ONLY_3.\n",
    "\n",
    "### Checkingpointing\n",
    "\n",
    "```rdd.checkpoint()``` Mark this RDD for checkpointing. It will be saved to a file inside the checkpoint directory set with SparkContext.setCheckpointDir() and all references to its parent RDDs will be removed. This function must be called before any job has been executed on this RDD. It is strongly recommended that this RDD is persisted in memory, otherwise saving it on a file will require recomputation.\n",
    "\n",
    "```spark.sparkContext.setCheckpointDir(\"/some/path/for/checkpointing\")```\n",
    "```rdd.checkpoint()```\n",
    "when we reference this RDD, it will derive from the checkpoint instead of the source data.\n",
    "This can be a helpful optimization."
   ]
  },
  {
   "cell_type": "code",
   "execution_count": 24,
   "id": "4efa0c55",
   "metadata": {},
   "outputs": [],
   "source": [
    "spark.sparkContext.setCheckpointDir(\"checkpointing\")\n",
    "rddd_ = spark.sparkContext.parallelize(tmp)\n",
    "\n",
    "rddd_.checkpoint()"
   ]
  },
  {
   "cell_type": "code",
   "execution_count": 25,
   "id": "5f16d24d",
   "metadata": {
    "scrolled": true
   },
   "outputs": [
    {
     "ename": "NameError",
     "evalue": "name 'Check' is not defined",
     "output_type": "error",
     "traceback": [
      "\u001b[0;31m---------------------------------------------------------------------------\u001b[0m",
      "\u001b[0;31mNameError\u001b[0m                                 Traceback (most recent call last)",
      "\u001b[0;32m<ipython-input-25-386686504325>\u001b[0m in \u001b[0;36m<module>\u001b[0;34m\u001b[0m\n\u001b[1;32m      1\u001b[0m \u001b[0mrddd_\u001b[0m\u001b[0;34m.\u001b[0m\u001b[0msetName\u001b[0m\u001b[0;34m(\u001b[0m\u001b[0;34m\"Check\"\u001b[0m\u001b[0;34m)\u001b[0m\u001b[0;34m\u001b[0m\u001b[0;34m\u001b[0m\u001b[0m\n\u001b[0;32m----> 2\u001b[0;31m \u001b[0mCheck\u001b[0m\u001b[0;34m.\u001b[0m\u001b[0mcheckpoint\u001b[0m\u001b[0;34m(\u001b[0m\u001b[0;34m)\u001b[0m\u001b[0;34m\u001b[0m\u001b[0;34m\u001b[0m\u001b[0m\n\u001b[0m",
      "\u001b[0;31mNameError\u001b[0m: name 'Check' is not defined"
     ]
    }
   ],
   "source": [
    "rddd_.setName(\"Check\")\n",
    "Check.checkpoint()\n"
   ]
  },
  {
   "cell_type": "code",
   "execution_count": null,
   "id": "42e6c715",
   "metadata": {},
   "outputs": [],
   "source": []
  }
 ],
 "metadata": {
  "kernelspec": {
   "display_name": "Python 3",
   "language": "python",
   "name": "python3"
  },
  "language_info": {
   "codemirror_mode": {
    "name": "ipython",
    "version": 3
   },
   "file_extension": ".py",
   "mimetype": "text/x-python",
   "name": "python",
   "nbconvert_exporter": "python",
   "pygments_lexer": "ipython3",
   "version": "3.8.8"
  }
 },
 "nbformat": 4,
 "nbformat_minor": 5
}
